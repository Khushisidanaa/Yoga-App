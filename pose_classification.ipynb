{
 "cells": [
  {
   "cell_type": "code",
   "execution_count": 1,
   "metadata": {
    "execution": {
     "iopub.execute_input": "2022-10-20T11:11:49.045930Z",
     "iopub.status.busy": "2022-10-20T11:11:49.045376Z",
     "iopub.status.idle": "2022-10-20T11:11:52.563884Z",
     "shell.execute_reply": "2022-10-20T11:11:52.562795Z"
    },
    "id": "PWlbrkMCx-W-"
   },
   "outputs": [
    {
     "name": "stdout",
     "output_type": "stream",
     "text": [
      "\u001b[33mWARNING: You are using pip version 20.1.1; however, version 23.0.1 is available.\n",
      "You should consider upgrading via the '/Library/Frameworks/Python.framework/Versions/3.7/bin/python3.7 -m pip install --upgrade pip' command.\u001b[0m\n"
     ]
    }
   ],
   "source": [
    "!pip3 install -q opencv-python"
   ]
  },
  {
   "cell_type": "code",
   "execution_count": 2,
   "metadata": {},
   "outputs": [
    {
     "name": "stdout",
     "output_type": "stream",
     "text": [
      "Collecting pandas\n",
      "  Downloading pandas-1.3.5-cp37-cp37m-macosx_10_9_x86_64.whl (11.0 MB)\n",
      "\u001b[K     |████████████████████████████████| 11.0 MB 1.9 MB/s eta 0:00:01    |███████████████████████▉        | 8.2 MB 6.1 MB/s eta 0:00:01\n",
      "\u001b[?25hRequirement already satisfied: python-dateutil>=2.7.3 in /Users/khushisidana/Library/Python/3.7/lib/python/site-packages (from pandas) (2.8.2)\n",
      "Collecting pytz>=2017.3\n",
      "  Using cached pytz-2023.3-py2.py3-none-any.whl (502 kB)\n",
      "Requirement already satisfied: numpy>=1.17.3; platform_machine != \"aarch64\" and platform_machine != \"arm64\" and python_version < \"3.10\" in /Library/Frameworks/Python.framework/Versions/3.7/lib/python3.7/site-packages (from pandas) (1.21.6)\n",
      "Requirement already satisfied: six>=1.5 in /Users/khushisidana/Library/Python/3.7/lib/python/site-packages (from python-dateutil>=2.7.3->pandas) (1.16.0)\n",
      "Installing collected packages: pytz, pandas\n",
      "Successfully installed pandas-1.3.5 pytz-2023.3\n",
      "\u001b[33mWARNING: You are using pip version 20.1.1; however, version 23.0.1 is available.\n",
      "You should consider upgrading via the '/Library/Frameworks/Python.framework/Versions/3.7/bin/python3.7 -m pip install --upgrade pip' command.\u001b[0m\n"
     ]
    }
   ],
   "source": [
    "!pip3 install pandas"
   ]
  },
  {
   "cell_type": "code",
   "execution_count": 4,
   "metadata": {},
   "outputs": [
    {
     "name": "stdout",
     "output_type": "stream",
     "text": [
      "Collecting pip\n",
      "  Downloading pip-23.0.1-py3-none-any.whl (2.1 MB)\n",
      "\u001b[K     |████████████████████████████████| 2.1 MB 2.7 MB/s eta 0:00:01\n",
      "\u001b[?25hInstalling collected packages: pip\n",
      "  Attempting uninstall: pip\n",
      "    Found existing installation: pip 20.1.1\n",
      "    Uninstalling pip-20.1.1:\n",
      "      Successfully uninstalled pip-20.1.1\n",
      "Successfully installed pip-23.0.1\n",
      "Collecting tqdm\n",
      "  Using cached tqdm-4.65.0-py3-none-any.whl (77 kB)\n",
      "Installing collected packages: tqdm\n",
      "Successfully installed tqdm-4.65.0\n",
      "Collecting matplotlib\n",
      "  Downloading matplotlib-3.5.3-cp37-cp37m-macosx_10_9_x86_64.whl (7.3 MB)\n",
      "\u001b[2K     \u001b[90m━━━━━━━━━━━━━━━━━━━━━━━━━━━━━━━━━━━━━━━━\u001b[0m \u001b[32m7.3/7.3 MB\u001b[0m \u001b[31m4.7 MB/s\u001b[0m eta \u001b[36m0:00:00\u001b[0m00:01\u001b[0m00:01\u001b[0m\n",
      "\u001b[?25hCollecting pyparsing>=2.2.1\n",
      "  Using cached pyparsing-3.0.9-py3-none-any.whl (98 kB)\n",
      "Collecting kiwisolver>=1.0.1\n",
      "  Downloading kiwisolver-1.4.4-cp37-cp37m-macosx_10_9_x86_64.whl (65 kB)\n",
      "\u001b[2K     \u001b[90m━━━━━━━━━━━━━━━━━━━━━━━━━━━━━━━━━━━━━━━━\u001b[0m \u001b[32m65.3/65.3 kB\u001b[0m \u001b[31m1.7 MB/s\u001b[0m eta \u001b[36m0:00:00\u001b[0m\n",
      "\u001b[?25hCollecting fonttools>=4.22.0\n",
      "  Downloading fonttools-4.38.0-py3-none-any.whl (965 kB)\n",
      "\u001b[2K     \u001b[90m━━━━━━━━━━━━━━━━━━━━━━━━━━━━━━━━━━━━━━━\u001b[0m \u001b[32m965.4/965.4 kB\u001b[0m \u001b[31m5.3 MB/s\u001b[0m eta \u001b[36m0:00:00\u001b[0m00:01\u001b[0m00:01\u001b[0m\n",
      "\u001b[?25hCollecting cycler>=0.10\n",
      "  Using cached cycler-0.11.0-py3-none-any.whl (6.4 kB)\n",
      "Collecting pillow>=6.2.0\n",
      "  Downloading Pillow-9.5.0-cp37-cp37m-macosx_10_10_x86_64.whl (3.4 MB)\n",
      "\u001b[2K     \u001b[90m━━━━━━━━━━━━━━━━━━━━━━━━━━━━━━━━━━━━━━━━\u001b[0m \u001b[32m3.4/3.4 MB\u001b[0m \u001b[31m5.0 MB/s\u001b[0m eta \u001b[36m0:00:00\u001b[0m00:01\u001b[0m00:01\u001b[0m\n",
      "\u001b[?25hRequirement already satisfied: packaging>=20.0 in /Users/khushisidana/Library/Python/3.7/lib/python/site-packages (from matplotlib) (23.0)\n",
      "Requirement already satisfied: python-dateutil>=2.7 in /Users/khushisidana/Library/Python/3.7/lib/python/site-packages (from matplotlib) (2.8.2)\n",
      "Requirement already satisfied: numpy>=1.17 in /Library/Frameworks/Python.framework/Versions/3.7/lib/python3.7/site-packages (from matplotlib) (1.21.6)\n",
      "Collecting typing-extensions\n",
      "  Using cached typing_extensions-4.5.0-py3-none-any.whl (27 kB)\n",
      "Requirement already satisfied: six>=1.5 in /Users/khushisidana/Library/Python/3.7/lib/python/site-packages (from python-dateutil>=2.7->matplotlib) (1.16.0)\n",
      "Installing collected packages: typing-extensions, pyparsing, pillow, fonttools, cycler, kiwisolver, matplotlib\n",
      "Successfully installed cycler-0.11.0 fonttools-4.38.0 kiwisolver-1.4.4 matplotlib-3.5.3 pillow-9.5.0 pyparsing-3.0.9 typing-extensions-4.5.0\n"
     ]
    }
   ],
   "source": [
    "!pip3 install --upgrade pip\n",
    "!pip3 install tqdm\n",
    "!pip3 install matplotlib"
   ]
  },
  {
   "cell_type": "code",
   "execution_count": 8,
   "metadata": {},
   "outputs": [
    {
     "name": "stdout",
     "output_type": "stream",
     "text": [
      "Collecting tensorflow\n",
      "  Downloading tensorflow-2.11.0-cp37-cp37m-macosx_10_14_x86_64.whl (244.2 MB)\n",
      "\u001b[2K     \u001b[90m━━━━━━━━━━━━━━━━━━━━━━━━━━━━━━━━━━━━━━━\u001b[0m \u001b[32m244.2/244.2 MB\u001b[0m \u001b[31m1.9 MB/s\u001b[0m eta \u001b[36m0:00:00\u001b[0m00:01\u001b[0m00:02\u001b[0m\n",
      "\u001b[?25hCollecting tensorflow-estimator<2.12,>=2.11.0\n",
      "  Downloading tensorflow_estimator-2.11.0-py2.py3-none-any.whl (439 kB)\n",
      "\u001b[2K     \u001b[90m━━━━━━━━━━━━━━━━━━━━━━━━━━━━━━━━━━━━━━━\u001b[0m \u001b[32m439.2/439.2 kB\u001b[0m \u001b[31m1.4 MB/s\u001b[0m eta \u001b[36m0:00:00\u001b[0m00:01\u001b[0m00:01\u001b[0m\n",
      "\u001b[?25hCollecting tensorflow-io-gcs-filesystem>=0.23.1\n",
      "  Downloading tensorflow_io_gcs_filesystem-0.32.0-cp37-cp37m-macosx_10_14_x86_64.whl (1.7 MB)\n",
      "\u001b[2K     \u001b[90m━━━━━━━━━━━━━━━━━━━━━━━━━━━━━━━━━━━━━━━━\u001b[0m \u001b[32m1.7/1.7 MB\u001b[0m \u001b[31m4.7 MB/s\u001b[0m eta \u001b[36m0:00:00\u001b[0m00:01\u001b[0m00:01\u001b[0m\n",
      "\u001b[?25hRequirement already satisfied: typing-extensions>=3.6.6 in /Library/Frameworks/Python.framework/Versions/3.7/lib/python3.7/site-packages (from tensorflow) (4.5.0)\n",
      "Requirement already satisfied: numpy>=1.20 in /Library/Frameworks/Python.framework/Versions/3.7/lib/python3.7/site-packages (from tensorflow) (1.21.6)\n",
      "Collecting h5py>=2.9.0\n",
      "  Downloading h5py-3.8.0-cp37-cp37m-macosx_10_9_x86_64.whl (3.2 MB)\n",
      "\u001b[2K     \u001b[90m━━━━━━━━━━━━━━━━━━━━━━━━━━━━━━━━━━━━━━━━\u001b[0m \u001b[32m3.2/3.2 MB\u001b[0m \u001b[31m5.1 MB/s\u001b[0m eta \u001b[36m0:00:00\u001b[0m00:01\u001b[0m00:01\u001b[0m\n",
      "\u001b[?25hCollecting absl-py>=1.0.0\n",
      "  Using cached absl_py-1.4.0-py3-none-any.whl (126 kB)\n",
      "Collecting termcolor>=1.1.0\n",
      "  Using cached termcolor-2.2.0-py3-none-any.whl (6.6 kB)\n",
      "Collecting google-pasta>=0.1.1\n",
      "  Using cached google_pasta-0.2.0-py3-none-any.whl (57 kB)\n",
      "Collecting opt-einsum>=2.3.2\n",
      "  Using cached opt_einsum-3.3.0-py3-none-any.whl (65 kB)\n",
      "Collecting astunparse>=1.6.0\n",
      "  Using cached astunparse-1.6.3-py2.py3-none-any.whl (12 kB)\n",
      "Requirement already satisfied: packaging in /Users/khushisidana/Library/Python/3.7/lib/python/site-packages (from tensorflow) (23.0)\n",
      "Requirement already satisfied: setuptools in /Library/Frameworks/Python.framework/Versions/3.7/lib/python3.7/site-packages (from tensorflow) (47.1.0)\n",
      "Requirement already satisfied: six>=1.12.0 in /Users/khushisidana/Library/Python/3.7/lib/python/site-packages (from tensorflow) (1.16.0)\n",
      "Collecting gast<=0.4.0,>=0.2.1\n",
      "  Using cached gast-0.4.0-py3-none-any.whl (9.8 kB)\n",
      "Collecting tensorboard<2.12,>=2.11\n",
      "  Downloading tensorboard-2.11.2-py3-none-any.whl (6.0 MB)\n",
      "\u001b[2K     \u001b[90m━━━━━━━━━━━━━━━━━━━━━━━━━━━━━━━━━━━━━━━━\u001b[0m \u001b[32m6.0/6.0 MB\u001b[0m \u001b[31m5.8 MB/s\u001b[0m eta \u001b[36m0:00:00\u001b[0m00:01\u001b[0m00:01\u001b[0m\n",
      "\u001b[?25hCollecting libclang>=13.0.0\n",
      "  Using cached libclang-16.0.0-py2.py3-none-macosx_10_9_x86_64.whl (26.7 MB)\n",
      "Collecting grpcio<2.0,>=1.24.3\n",
      "  Downloading grpcio-1.53.0-cp37-cp37m-macosx_10_10_universal2.whl (8.5 MB)\n",
      "\u001b[2K     \u001b[90m━━━━━━━━━━━━━━━━━━━━━━━━━━━━━━━━━━━━━━━━\u001b[0m \u001b[32m8.5/8.5 MB\u001b[0m \u001b[31m5.5 MB/s\u001b[0m eta \u001b[36m0:00:00\u001b[0m00:01\u001b[0m00:01\u001b[0m\n",
      "\u001b[?25hCollecting wrapt>=1.11.0\n",
      "  Downloading wrapt-1.15.0-cp37-cp37m-macosx_10_9_x86_64.whl (35 kB)\n",
      "Collecting keras<2.12,>=2.11.0\n",
      "  Downloading keras-2.11.0-py2.py3-none-any.whl (1.7 MB)\n",
      "\u001b[2K     \u001b[90m━━━━━━━━━━━━━━━━━━━━━━━━━━━━━━━━━━━━━━━━\u001b[0m \u001b[32m1.7/1.7 MB\u001b[0m \u001b[31m5.5 MB/s\u001b[0m eta \u001b[36m0:00:00\u001b[0m00:01\u001b[0m00:01\u001b[0m\n",
      "\u001b[?25hCollecting protobuf<3.20,>=3.9.2\n",
      "  Downloading protobuf-3.19.6-cp37-cp37m-macosx_10_9_x86_64.whl (979 kB)\n",
      "\u001b[2K     \u001b[90m━━━━━━━━━━━━━━━━━━━━━━━━━━━━━━━━━━━━━━━\u001b[0m \u001b[32m979.7/979.7 kB\u001b[0m \u001b[31m5.7 MB/s\u001b[0m eta \u001b[36m0:00:00\u001b[0m00:01\u001b[0m00:01\u001b[0m\n",
      "\u001b[?25hCollecting flatbuffers>=2.0\n",
      "  Using cached flatbuffers-23.3.3-py2.py3-none-any.whl (26 kB)\n",
      "Collecting wheel<1.0,>=0.23.0\n",
      "  Using cached wheel-0.40.0-py3-none-any.whl (64 kB)\n",
      "Collecting werkzeug>=1.0.1\n",
      "  Using cached Werkzeug-2.2.3-py3-none-any.whl (233 kB)\n",
      "Collecting markdown>=2.6.8\n",
      "  Using cached Markdown-3.4.3-py3-none-any.whl (93 kB)\n",
      "Collecting google-auth<3,>=1.6.3\n",
      "  Using cached google_auth-2.17.2-py2.py3-none-any.whl (178 kB)\n",
      "Collecting tensorboard-plugin-wit>=1.6.0\n",
      "  Using cached tensorboard_plugin_wit-1.8.1-py3-none-any.whl (781 kB)\n",
      "Collecting requests<3,>=2.21.0\n",
      "  Using cached requests-2.28.2-py3-none-any.whl (62 kB)\n",
      "Collecting google-auth-oauthlib<0.5,>=0.4.1\n",
      "  Downloading google_auth_oauthlib-0.4.6-py2.py3-none-any.whl (18 kB)\n",
      "Collecting tensorboard-data-server<0.7.0,>=0.6.0\n",
      "  Downloading tensorboard_data_server-0.6.1-py3-none-macosx_10_9_x86_64.whl (3.5 MB)\n",
      "\u001b[2K     \u001b[90m━━━━━━━━━━━━━━━━━━━━━━━━━━━━━━━━━━━━━━━━\u001b[0m \u001b[32m3.5/3.5 MB\u001b[0m \u001b[31m6.0 MB/s\u001b[0m eta \u001b[36m0:00:00\u001b[0m00:01\u001b[0m00:01\u001b[0m\n",
      "\u001b[?25hCollecting cachetools<6.0,>=2.0.0\n",
      "  Using cached cachetools-5.3.0-py3-none-any.whl (9.3 kB)\n",
      "Collecting rsa<5,>=3.1.4\n",
      "  Using cached rsa-4.9-py3-none-any.whl (34 kB)\n",
      "Collecting pyasn1-modules>=0.2.1\n",
      "  Using cached pyasn1_modules-0.2.8-py2.py3-none-any.whl (155 kB)\n",
      "Collecting requests-oauthlib>=0.7.0\n",
      "  Using cached requests_oauthlib-1.3.1-py2.py3-none-any.whl (23 kB)\n",
      "Collecting importlib-metadata>=4.4\n",
      "  Downloading importlib_metadata-6.2.0-py3-none-any.whl (21 kB)\n",
      "Collecting charset-normalizer<4,>=2\n",
      "  Downloading charset_normalizer-3.1.0-cp37-cp37m-macosx_10_9_x86_64.whl (121 kB)\n",
      "\u001b[2K     \u001b[90m━━━━━━━━━━━━━━━━━━━━━━━━━━━━━━━━━━━━━━━\u001b[0m \u001b[32m121.1/121.1 kB\u001b[0m \u001b[31m3.1 MB/s\u001b[0m eta \u001b[36m0:00:00\u001b[0m\n",
      "\u001b[?25hCollecting certifi>=2017.4.17\n",
      "  Using cached certifi-2022.12.7-py3-none-any.whl (155 kB)\n",
      "Collecting urllib3<1.27,>=1.21.1\n",
      "  Using cached urllib3-1.26.15-py2.py3-none-any.whl (140 kB)\n",
      "Collecting idna<4,>=2.5\n",
      "  Using cached idna-3.4-py3-none-any.whl (61 kB)\n",
      "Collecting MarkupSafe>=2.1.1\n",
      "  Downloading MarkupSafe-2.1.2-cp37-cp37m-macosx_10_9_x86_64.whl (13 kB)\n",
      "Collecting zipp>=0.5\n",
      "  Downloading zipp-3.15.0-py3-none-any.whl (6.8 kB)\n",
      "Collecting pyasn1<0.5.0,>=0.4.6\n",
      "  Using cached pyasn1-0.4.8-py2.py3-none-any.whl (77 kB)\n",
      "Collecting oauthlib>=3.0.0\n",
      "  Using cached oauthlib-3.2.2-py3-none-any.whl (151 kB)\n",
      "Installing collected packages: tensorboard-plugin-wit, pyasn1, libclang, flatbuffers, zipp, wrapt, wheel, urllib3, termcolor, tensorflow-io-gcs-filesystem, tensorflow-estimator, tensorboard-data-server, rsa, pyasn1-modules, protobuf, opt-einsum, oauthlib, MarkupSafe, keras, idna, h5py, grpcio, google-pasta, gast, charset-normalizer, certifi, cachetools, absl-py, werkzeug, requests, importlib-metadata, google-auth, astunparse, requests-oauthlib, markdown, google-auth-oauthlib, tensorboard, tensorflow\n",
      "  Attempting uninstall: protobuf\n",
      "    Found existing installation: protobuf 4.22.1\n",
      "    Uninstalling protobuf-4.22.1:\n",
      "      Successfully uninstalled protobuf-4.22.1\n",
      "Successfully installed MarkupSafe-2.1.2 absl-py-1.4.0 astunparse-1.6.3 cachetools-5.3.0 certifi-2022.12.7 charset-normalizer-3.1.0 flatbuffers-23.3.3 gast-0.4.0 google-auth-2.17.2 google-auth-oauthlib-0.4.6 google-pasta-0.2.0 grpcio-1.53.0 h5py-3.8.0 idna-3.4 importlib-metadata-6.2.0 keras-2.11.0 libclang-16.0.0 markdown-3.4.3 oauthlib-3.2.2 opt-einsum-3.3.0 protobuf-3.19.6 pyasn1-0.4.8 pyasn1-modules-0.2.8 requests-2.28.2 requests-oauthlib-1.3.1 rsa-4.9 tensorboard-2.11.2 tensorboard-data-server-0.6.1 tensorboard-plugin-wit-1.8.1 tensorflow-2.11.0 tensorflow-estimator-2.11.0 tensorflow-io-gcs-filesystem-0.32.0 termcolor-2.2.0 urllib3-1.26.15 werkzeug-2.2.3 wheel-0.40.0 wrapt-1.15.0 zipp-3.15.0\n"
     ]
    }
   ],
   "source": [
    "!pip3 install tensorflow"
   ]
  },
  {
   "cell_type": "code",
   "execution_count": 1,
   "metadata": {
    "execution": {
     "iopub.execute_input": "2022-10-20T11:11:52.568478Z",
     "iopub.status.busy": "2022-10-20T11:11:52.567885Z",
     "iopub.status.idle": "2022-10-20T11:11:55.308907Z",
     "shell.execute_reply": "2022-10-20T11:11:55.308163Z"
    },
    "id": "KTkttSWnUi1Q"
   },
   "outputs": [
    {
     "name": "stderr",
     "output_type": "stream",
     "text": [
      "2023-04-09 12:44:49.294848: I tensorflow/core/platform/cpu_feature_guard.cc:193] This TensorFlow binary is optimized with oneAPI Deep Neural Network Library (oneDNN) to use the following CPU instructions in performance-critical operations:  AVX2 FMA\n",
      "To enable them in other operations, rebuild TensorFlow with the appropriate compiler flags.\n"
     ]
    }
   ],
   "source": [
    "import csv\n",
    "import cv2\n",
    "import itertools\n",
    "import numpy as np\n",
    "import pandas as pd\n",
    "import os\n",
    "import sys\n",
    "import tempfile\n",
    "import tqdm\n",
    "\n",
    "from matplotlib import pyplot as plt\n",
    "from matplotlib.collections import LineCollection \n",
    "\n",
    "import tensorflow as tf\n",
    "import tensorflow_hub as hub\n",
    "from tensorflow import keras\n",
    "\n",
    "from sklearn.model_selection import train_test_split\n",
    "from sklearn.metrics import accuracy_score, classification_report, confusion_matrix"
   ]
  },
  {
   "cell_type": "code",
   "execution_count": 6,
   "metadata": {},
   "outputs": [
    {
     "name": "stdout",
     "output_type": "stream",
     "text": [
      "Collecting scikit-learn\n",
      "  Downloading scikit_learn-1.0.2-cp37-cp37m-macosx_10_13_x86_64.whl (7.8 MB)\n",
      "\u001b[2K     \u001b[90m━━━━━━━━━━━━━━━━━━━━━━━━━━━━━━━━━━━━━━━━\u001b[0m \u001b[32m7.8/7.8 MB\u001b[0m \u001b[31m5.1 MB/s\u001b[0m eta \u001b[36m0:00:00\u001b[0m00:01\u001b[0m00:01\u001b[0m\n",
      "\u001b[?25hCollecting threadpoolctl>=2.0.0\n",
      "  Using cached threadpoolctl-3.1.0-py3-none-any.whl (14 kB)\n",
      "Collecting joblib>=0.11\n",
      "  Using cached joblib-1.2.0-py3-none-any.whl (297 kB)\n",
      "Requirement already satisfied: numpy>=1.14.6 in /Library/Frameworks/Python.framework/Versions/3.7/lib/python3.7/site-packages (from scikit-learn) (1.21.6)\n",
      "Collecting scipy>=1.1.0\n",
      "  Downloading scipy-1.7.3-cp37-cp37m-macosx_10_9_x86_64.whl (33.0 MB)\n",
      "\u001b[2K     \u001b[90m━━━━━━━━━━━━━━━━━━━━━━━━━━━━━━━━━━━━━━━━\u001b[0m \u001b[32m33.0/33.0 MB\u001b[0m \u001b[31m4.7 MB/s\u001b[0m eta \u001b[36m0:00:00\u001b[0m00:01\u001b[0m00:01\u001b[0m\n",
      "\u001b[?25hInstalling collected packages: threadpoolctl, scipy, joblib, scikit-learn\n",
      "Successfully installed joblib-1.2.0 scikit-learn-1.0.2 scipy-1.7.3 threadpoolctl-3.1.0\n"
     ]
    }
   ],
   "source": [
    "!pip3 install scikit-learn\n"
   ]
  },
  {
   "cell_type": "markdown",
   "metadata": {
    "id": "KwRwEssyTciI"
   },
   "source": [
    "### Code to run pose estimation using MoveNet"
   ]
  },
  {
   "cell_type": "code",
   "execution_count": 7,
   "metadata": {
    "cellView": "form",
    "execution": {
     "iopub.execute_input": "2022-10-20T11:11:55.313857Z",
     "iopub.status.busy": "2022-10-20T11:11:55.313032Z",
     "iopub.status.idle": "2022-10-20T11:11:59.002890Z",
     "shell.execute_reply": "2022-10-20T11:11:59.002076Z"
    },
    "id": "48kW1c2F5l1R"
   },
   "outputs": [
    {
     "ename": "ImportError",
     "evalue": "cannot import name 'BodyPart' from 'data' (/Library/Frameworks/Python.framework/Versions/3.7/lib/python3.7/site-packages/data/__init__.py)",
     "output_type": "error",
     "traceback": [
      "\u001b[0;31m---------------------------------------------------------------------------\u001b[0m",
      "\u001b[0;31mImportError\u001b[0m                               Traceback (most recent call last)",
      "\u001b[0;32m/var/folders/zh/lw_vkl357q15gsm73_v0m0lh0000gn/T/ipykernel_4574/2419729028.py\u001b[0m in \u001b[0;36m<module>\u001b[0;34m\u001b[0m\n\u001b[1;32m     12\u001b[0m \u001b[0;31m# Load MoveNet Thunder model\u001b[0m\u001b[0;34m\u001b[0m\u001b[0;34m\u001b[0m\u001b[0;34m\u001b[0m\u001b[0m\n\u001b[1;32m     13\u001b[0m \u001b[0;32mimport\u001b[0m \u001b[0mutils\u001b[0m\u001b[0;34m\u001b[0m\u001b[0;34m\u001b[0m\u001b[0m\n\u001b[0;32m---> 14\u001b[0;31m \u001b[0;32mfrom\u001b[0m \u001b[0mdata\u001b[0m \u001b[0;32mimport\u001b[0m \u001b[0mBodyPart\u001b[0m\u001b[0;34m\u001b[0m\u001b[0;34m\u001b[0m\u001b[0m\n\u001b[0m\u001b[1;32m     15\u001b[0m \u001b[0;32mfrom\u001b[0m \u001b[0mml\u001b[0m \u001b[0;32mimport\u001b[0m \u001b[0mMovenet\u001b[0m\u001b[0;34m\u001b[0m\u001b[0;34m\u001b[0m\u001b[0m\n\u001b[1;32m     16\u001b[0m \u001b[0mmovenet\u001b[0m \u001b[0;34m=\u001b[0m \u001b[0mMovenet\u001b[0m\u001b[0;34m(\u001b[0m\u001b[0;34m'movenet_thunder'\u001b[0m\u001b[0;34m)\u001b[0m\u001b[0;34m\u001b[0m\u001b[0;34m\u001b[0m\u001b[0m\n",
      "\u001b[0;31mImportError\u001b[0m: cannot import name 'BodyPart' from 'data' (/Library/Frameworks/Python.framework/Versions/3.7/lib/python3.7/site-packages/data/__init__.py)"
     ]
    }
   ],
   "source": [
    "#@title Functions to run pose estimation with MoveNet\n",
    "\n",
    "#@markdown You'll download the MoveNet Thunder model from [TensorFlow Hub](https://www.google.com/url?sa=D&q=https%3A%2F%2Ftfhub.dev%2Fs%3Fq%3Dmovenet), and reuse some inference and visualization logic from the [MoveNet Raspberry Pi (Python)](https://github.com/tensorflow/examples/tree/master/lite/examples/pose_estimation/raspberry_pi) sample app to detect landmarks (ear, nose, wrist etc.) from the input images.\n",
    "\n",
    "#@markdown *Note: You should use the most accurate pose estimation model (i.e. MoveNet Thunder) to detect the keypoints and use them to train the pose classification model to achieve the best accuracy. When running inference, you can use a pose estimation model of your choice (e.g. either MoveNet Lightning or Thunder).*\n",
    "\n",
    "# Download model from TF Hub and check out inference code from GitHub\n",
    "# !git clone https://github.com/tensorflow/examples.git\n",
    "# pose_sample_rpi_path = os.path.join(os.getcwd(), 'examples/lite/examples/pose_estimation/raspberry_pi')\n",
    "# sys.path.append(pose_sample_rpi_path)\n",
    "\n",
    "# Load MoveNet Thunder model\n",
    "import utils\n",
    "from data import BodyPart\n",
    "from ml import Movenet\n",
    "movenet = Movenet('movenet_thunder')\n",
    "\n",
    "# Define function to run pose estimation using MoveNet Thunder.\n",
    "# You'll apply MoveNet's cropping algorithm and run inference multiple times on\n",
    "# the input image to improve pose estimation accuracy.\n",
    "def detect(input_tensor, inference_count=3):\n",
    "  \n",
    "  image_height, image_width, channel = input_tensor.shape\n",
    " \n",
    "  # Detect pose using the full input image\n",
    "  movenet.detect(input_tensor.numpy(), reset_crop_region=True)\n",
    " \n",
    "  # Repeatedly using previous detection result to identify the region of\n",
    "  # interest and only croping that region to improve detection accuracy\n",
    "  for _ in range(inference_count - 1):\n",
    "    person = movenet.detect(input_tensor.numpy(), \n",
    "                            reset_crop_region=False)\n",
    "\n",
    "  return person"
   ]
  },
  {
   "cell_type": "code",
   "execution_count": 5,
   "metadata": {},
   "outputs": [
    {
     "name": "stdout",
     "output_type": "stream",
     "text": [
      "Collecting data\n",
      "  Using cached data-0.4-py3-none-any.whl\n",
      "Requirement already satisfied: six in /Users/khushisidana/Library/Python/3.7/lib/python/site-packages (from data) (1.16.0)\n",
      "Collecting funcsigs\n",
      "  Using cached funcsigs-1.0.2-py2.py3-none-any.whl (17 kB)\n",
      "Requirement already satisfied: decorator in /Users/khushisidana/Library/Python/3.7/lib/python/site-packages (from data) (5.1.1)\n",
      "Installing collected packages: funcsigs, data\n",
      "Successfully installed data-0.4 funcsigs-1.0.2\n",
      "Note: you may need to restart the kernel to use updated packages.\n"
     ]
    }
   ],
   "source": [
    "pip install data"
   ]
  },
  {
   "cell_type": "code",
   "execution_count": 9,
   "metadata": {},
   "outputs": [
    {
     "name": "stdout",
     "output_type": "stream",
     "text": [
      "Requirement already satisfied: pip in /Library/Frameworks/Python.framework/Versions/3.10/lib/python3.10/site-packages (23.0.1)\n"
     ]
    }
   ],
   "source": [
    "# !pip3 install ml\n",
    "!pip3 install --upgrade pip"
   ]
  },
  {
   "cell_type": "code",
   "execution_count": 46,
   "metadata": {},
   "outputs": [
    {
     "name": "stdout",
     "output_type": "stream",
     "text": [
      "Package                      Version\n",
      "---------------------------- ---------\n",
      "absl-py                      1.4.0\n",
      "appnope                      0.1.3\n",
      "asttokens                    2.2.1\n",
      "astunparse                   1.6.3\n",
      "backcall                     0.2.0\n",
      "cachetools                   5.3.0\n",
      "certifi                      2022.12.7\n",
      "charset-normalizer           3.1.0\n",
      "comm                         0.1.3\n",
      "contourpy                    1.0.7\n",
      "cycler                       0.11.0\n",
      "data                         0.4\n",
      "debugpy                      1.6.7\n",
      "decorator                    5.1.1\n",
      "executing                    1.2.0\n",
      "flatbuffers                  23.3.3\n",
      "fonttools                    4.39.3\n",
      "funcsigs                     1.0.2\n",
      "gast                         0.4.0\n",
      "google-auth                  2.17.2\n",
      "google-auth-oauthlib         1.0.0\n",
      "google-pasta                 0.2.0\n",
      "grpcio                       1.53.0\n",
      "h5py                         3.8.0\n",
      "idna                         3.4\n",
      "ipykernel                    6.22.0\n",
      "ipython                      8.12.0\n",
      "jax                          0.4.8\n",
      "jedi                         0.18.2\n",
      "joblib                       1.2.0\n",
      "jupyter_client               8.1.0\n",
      "jupyter_core                 5.3.0\n",
      "keras                        2.12.0\n",
      "kiwisolver                   1.4.4\n",
      "libclang                     16.0.0\n",
      "Markdown                     3.4.3\n",
      "MarkupSafe                   2.1.2\n",
      "matplotlib                   3.7.1\n",
      "matplotlib-inline            0.1.6\n",
      "ml-dtypes                    0.0.4\n",
      "mock-open                    1.4.0\n",
      "nest-asyncio                 1.5.6\n",
      "numpy                        1.23.5\n",
      "oauthlib                     3.2.2\n",
      "opencv-python                4.7.0.72\n",
      "opt-einsum                   3.3.0\n",
      "packaging                    23.0\n",
      "pandas                       2.0.0\n",
      "parso                        0.8.3\n",
      "pexpect                      4.8.0\n",
      "pickleshare                  0.7.5\n",
      "Pillow                       9.5.0\n",
      "pip                          23.0.1\n",
      "platformdirs                 3.2.0\n",
      "prompt-toolkit               3.0.38\n",
      "protobuf                     4.22.1\n",
      "psutil                       5.9.4\n",
      "ptyprocess                   0.7.0\n",
      "pure-eval                    0.2.2\n",
      "pyasn1                       0.4.8\n",
      "pyasn1-modules               0.2.8\n",
      "Pygments                     2.14.0\n",
      "pyparsing                    3.0.9\n",
      "python-dateutil              2.8.2\n",
      "pytz                         2023.3\n",
      "pyzmq                        25.0.2\n",
      "requests                     2.28.2\n",
      "requests-oauthlib            1.3.1\n",
      "rsa                          4.9\n",
      "scikit-learn                 1.2.2\n",
      "scipy                        1.10.1\n",
      "setuptools                   65.5.0\n",
      "six                          1.16.0\n",
      "sklearn                      0.0.post1\n",
      "stack-data                   0.6.2\n",
      "tensorboard                  2.12.1\n",
      "tensorboard-data-server      0.7.0\n",
      "tensorboard-plugin-wit       1.8.1\n",
      "tensorflow                   2.12.0\n",
      "tensorflow-estimator         2.12.0\n",
      "tensorflow-hub               0.13.0\n",
      "tensorflow-io-gcs-filesystem 0.32.0\n",
      "termcolor                    2.2.0\n",
      "threadpoolctl                3.1.0\n",
      "tornado                      6.2\n",
      "tqdm                         4.65.0\n",
      "traitlets                    5.9.0\n",
      "typing_extensions            4.5.0\n",
      "tzdata                       2023.3\n",
      "urllib3                      1.26.15\n",
      "utils                        1.0.1\n",
      "wcwidth                      0.2.6\n",
      "Werkzeug                     2.2.3\n",
      "wheel                        0.40.0\n",
      "wrapt                        1.14.1\n"
     ]
    }
   ],
   "source": [
    "!pip3 list"
   ]
  },
  {
   "cell_type": "code",
   "execution_count": 27,
   "metadata": {
    "cellView": "form",
    "execution": {
     "iopub.execute_input": "2022-10-20T11:11:59.006399Z",
     "iopub.status.busy": "2022-10-20T11:11:59.006146Z",
     "iopub.status.idle": "2022-10-20T11:11:59.011482Z",
     "shell.execute_reply": "2022-10-20T11:11:59.010955Z"
    },
    "id": "fKo0NzwQJ5Rm"
   },
   "outputs": [],
   "source": [
    "#@title Functions to visualize the pose estimation results.\n",
    "\n",
    "def draw_prediction_on_image(\n",
    "    image, person, crop_region=None, close_figure=True,\n",
    "    keep_input_size=False):\n",
    "  \"\"\"Draws the keypoint predictions on image.\n",
    " \n",
    "  Args:\n",
    "    image: An numpy array with shape [height, width, channel] representing the\n",
    "      pixel values of the input image.\n",
    "    person: A person entity returned from the MoveNet.SinglePose model.\n",
    "    close_figure: Whether to close the plt figure after the function returns.\n",
    "    keep_input_size: Whether to keep the size of the input image.\n",
    " \n",
    "  Returns:\n",
    "    An numpy array with shape [out_height, out_width, channel] representing the\n",
    "    image overlaid with keypoint predictions.\n",
    "  \"\"\"\n",
    "  # Draw the detection result on top of the image.\n",
    "  image_np = utils.visualize(image, [person])\n",
    "  \n",
    "  # Plot the image with detection results.\n",
    "  height, width, channel = image.shape\n",
    "  aspect_ratio = float(width) / height\n",
    "  fig, ax = plt.subplots(figsize=(12 * aspect_ratio, 12))\n",
    "  im = ax.imshow(image_np)\n",
    " \n",
    "  if close_figure:\n",
    "    plt.close(fig)\n",
    " \n",
    "  if not keep_input_size:\n",
    "    image_np = utils.keep_aspect_ratio_resizer(image_np, (512, 512))\n",
    "\n",
    "  return image_np"
   ]
  },
  {
   "cell_type": "code",
   "execution_count": 35,
   "metadata": {
    "cellView": "form",
    "execution": {
     "iopub.execute_input": "2022-10-20T11:11:59.014734Z",
     "iopub.status.busy": "2022-10-20T11:11:59.014526Z",
     "iopub.status.idle": "2022-10-20T11:11:59.030921Z",
     "shell.execute_reply": "2022-10-20T11:11:59.030343Z"
    },
    "id": "QUkOW_26S6K-"
   },
   "outputs": [],
   "source": [
    "#@title Code to load the images, detect pose landmarks and save them into a CSV file\n",
    "\n",
    "class MoveNetPreprocessor(object):\n",
    " \n",
    " \n",
    "  def __init__(self,\n",
    "               images_in_folder,\n",
    "               images_out_folder,\n",
    "               csvs_out_path):\n",
    "    \"\n",
    "    self._images_in_folder = images_in_folder\n",
    "    self._images_out_folder = images_out_folder\n",
    "    self._csvs_out_path = csvs_out_path\n",
    "    self._messages = []\n",
    "\n",
    "    # Create a temp dir to store the pose CSVs per class\n",
    "    self._csvs_out_folder_per_class = tempfile.mkdtemp()\n",
    " \n",
    "    # Get list of pose classes and print image statistics\n",
    "    self._pose_class_names = sorted(\n",
    "        [n for n in os.listdir(self._images_in_folder) if not n.startswith('.')]\n",
    "        )\n",
    "    \n",
    "  def process(self, per_pose_class_limit=None, detection_threshold=0.1):\n",
    "    \n",
    "    # Loop through the classes and preprocess its images\n",
    "    for pose_class_name in self._pose_class_names:\n",
    "      print('Preprocessing', pose_class_name, file=sys.stderr)\n",
    "\n",
    "      # Paths for the pose class.\n",
    "      images_in_folder = os.path.join(self._images_in_folder, pose_class_name)\n",
    "      images_out_folder = os.path.join(self._images_out_folder, pose_class_name)\n",
    "      csv_out_path = os.path.join(self._csvs_out_folder_per_class,\n",
    "                                  pose_class_name + '.csv')\n",
    "      if not os.path.exists(images_out_folder):\n",
    "        os.makedirs(images_out_folder)\n",
    " \n",
    "      # Detect landmarks in each image and write it to a CSV file\n",
    "      with open(csv_out_path, 'w') as csv_out_file:\n",
    "        csv_out_writer = csv.writer(csv_out_file, \n",
    "                                    delimiter=',', \n",
    "                                    quoting=csv.QUOTE_MINIMAL)\n",
    "        # Get list of images\n",
    "        image_names = sorted(\n",
    "            [n for n in os.listdir(images_in_folder) if not n.startswith('.')])\n",
    "        if per_pose_class_limit is not None:\n",
    "          image_names = image_names[:per_pose_class_limit]\n",
    "\n",
    "        valid_image_count = 0\n",
    " \n",
    "        # Detect pose landmarks from each image\n",
    "        for image_name in tqdm.tqdm(image_names):\n",
    "          image_path = os.path.join(images_in_folder, image_name)\n",
    "\n",
    "          try:\n",
    "            image = tf.io.read_file(image_path)\n",
    "            image = tf.io.decode_jpeg(image)\n",
    "          except:\n",
    "            self._messages.append('Skipped ' + image_path + '. Invalid image.')\n",
    "            continue\n",
    "          else:\n",
    "            image = tf.io.read_file(image_path)\n",
    "            image = tf.io.decode_jpeg(image)\n",
    "            image_height, image_width, channel = image.shape\n",
    "          \n",
    "          # Skip images that isn't RGB because Movenet requires RGB images\n",
    "          if channel != 3:\n",
    "            self._messages.append('Skipped ' + image_path +\n",
    "                                  '. Image isn\\'t in RGB format.')\n",
    "            continue\n",
    "          person = detect(image)\n",
    "          \n",
    "          # Save landmarks if all landmarks were detected\n",
    "          min_landmark_score = min(\n",
    "              [keypoint.score for keypoint in person.keypoints])\n",
    "          should_keep_image = min_landmark_score >= detection_threshold\n",
    "          if not should_keep_image:\n",
    "            self._messages.append('Skipped ' + image_path +\n",
    "                                  '. No pose was confidentlly detected.')\n",
    "            continue\n",
    "\n",
    "          valid_image_count += 1\n",
    "\n",
    "          # Draw the prediction result on top of the image for debugging later\n",
    "          output_overlay = draw_prediction_on_image(\n",
    "              image.numpy().astype(np.uint8), person, \n",
    "              close_figure=True, keep_input_size=True)\n",
    "        \n",
    "          # Write detection result into an image file\n",
    "          output_frame = cv2.cvtColor(output_overlay, cv2.COLOR_RGB2BGR)\n",
    "          cv2.imwrite(os.path.join(images_out_folder, image_name), output_frame)\n",
    "        \n",
    "          # Get landmarks and scale it to the same size as the input image\n",
    "          pose_landmarks = np.array(\n",
    "              [[keypoint.coordinate.x, keypoint.coordinate.y, keypoint.score]\n",
    "                for keypoint in person.keypoints],\n",
    "              dtype=np.float32)\n",
    "\n",
    "          # Write the landmark coordinates to its per-class CSV file\n",
    "          coordinates = pose_landmarks.flatten().astype(str).tolist()\n",
    "          csv_out_writer.writerow([image_name] + coordinates)\n",
    "\n",
    "        if not valid_image_count:\n",
    "          raise RuntimeError(\n",
    "              'No valid images found for the \"{}\" class.'\n",
    "              .format(pose_class_name))\n",
    "      \n",
    "    # Print the error message collected during preprocessing.\n",
    "    print('\\n'.join(self._messages))\n",
    "\n",
    "    # Combine all per-class CSVs into a single output file\n",
    "    all_landmarks_df = self._all_landmarks_as_dataframe()\n",
    "    all_landmarks_df.to_csv(self._csvs_out_path, index=False)\n",
    "\n",
    "  def class_names(self):\n",
    "   \n",
    "    return self._pose_class_names\n",
    "  \n",
    "  def _all_landmarks_as_dataframe(self):\n",
    "   \n",
    "    total_df = None\n",
    "    for class_index, class_name in enumerate(self._pose_class_names):\n",
    "      csv_out_path = os.path.join(self._csvs_out_folder_per_class,\n",
    "                                  class_name + '.csv')\n",
    "      per_class_df = pd.read_csv(csv_out_path, header=None)\n",
    "      \n",
    "      # Add the labels\n",
    "      per_class_df['class_no'] = [class_index]*len(per_class_df)\n",
    "      per_class_df['class_name'] = [class_name]*len(per_class_df)\n",
    "\n",
    "      # Append the folder name to the filename column (first column)\n",
    "      per_class_df[per_class_df.columns[0]] = (os.path.join(class_name, '') \n",
    "        + per_class_df[per_class_df.columns[0]].astype(str))\n",
    "\n",
    "      if total_df is None:\n",
    "        # For the first class, assign its data to the total dataframe\n",
    "        total_df = per_class_df\n",
    "      else:\n",
    "        # Concatenate each class's data into the total dataframe\n",
    "        total_df = pd.concat([total_df, per_class_df], axis=0)\n",
    " \n",
    "    list_name = [[bodypart.name + '_x', bodypart.name + '_y', \n",
    "                  bodypart.name + '_score'] for bodypart in BodyPart] \n",
    "    header_name = []\n",
    "    for columns_name in list_name:\n",
    "      header_name += columns_name\n",
    "    header_name = ['file_name'] + header_name\n",
    "    header_map = {total_df.columns[i]: header_name[i] \n",
    "                  for i in range(len(header_name))}\n",
    " \n",
    "    total_df.rename(header_map, axis=1, inplace=True)\n",
    "\n",
    "    return total_df"
   ]
  },
  {
   "cell_type": "code",
   "execution_count": 31,
   "metadata": {
    "cellView": "form",
    "execution": {
     "iopub.execute_input": "2022-10-20T11:11:59.034121Z",
     "iopub.status.busy": "2022-10-20T11:11:59.033628Z",
     "iopub.status.idle": "2022-10-20T11:12:03.586091Z",
     "shell.execute_reply": "2022-10-20T11:12:03.585331Z"
    },
    "id": "LB3QIVrdU108"
   },
   "outputs": [
    {
     "data": {
      "image/png": "[encoded data removed]",
      "text/plain": [
       "<Figure size 1200x1200 with 1 Axes>"
      ]
     },
     "metadata": {},
     "output_type": "display_data"
    }
   ],
   "source": [
    "\n",
    "\n",
    "test_image_url = \"https://cdn.pixabay.com/photo/2017/03/03/17/30/yoga-2114512_960_720.jpg\" #@param {type:\"string\"}\n",
    "\n",
    "if len(test_image_url):\n",
    "  image = tf.io.read_file('yoga_poses/test/chair/guy3_chair070.jpg')\n",
    "  image = tf.io.decode_jpeg(image)\n",
    "  person = detect(image)\n",
    "  _ = draw_prediction_on_image(image.numpy(), person, crop_region=None, \n",
    "                               close_figure=False, keep_input_size=True)"
   ]
  },
  {
   "cell_type": "code",
   "execution_count": 32,
   "metadata": {
    "cellView": "form",
    "execution": {
     "iopub.execute_input": "2022-10-20T11:12:03.592411Z",
     "iopub.status.busy": "2022-10-20T11:12:03.592169Z",
     "iopub.status.idle": "2022-10-20T11:12:03.595466Z",
     "shell.execute_reply": "2022-10-20T11:12:03.594931Z"
    },
    "id": "Kw6jwOFD40Fr"
   },
   "outputs": [],
   "source": [
    "is_skip_step_1 = False #@param [\"False\", \"True\"] {type:\"raw\"}"
   ]
  },
  {
   "cell_type": "code",
   "execution_count": 9,
   "metadata": {
    "cellView": "form",
    "execution": {
     "iopub.execute_input": "2022-10-20T11:12:03.598646Z",
     "iopub.status.busy": "2022-10-20T11:12:03.598183Z",
     "iopub.status.idle": "2022-10-20T11:12:03.601279Z",
     "shell.execute_reply": "2022-10-20T11:12:03.600705Z"
    },
    "id": "iEnjgeKeS_VP"
   },
   "outputs": [],
   "source": [
    "use_custom_dataset = False #@param [\"False\", \"True\"] {type:\"raw\"}\n",
    "\n",
    "dataset_is_split = False #@param [\"False\", \"True\"] {type:\"raw\"}"
   ]
  },
  {
   "cell_type": "code",
   "execution_count": 10,
   "metadata": {
    "cellView": "form",
    "execution": {
     "iopub.execute_input": "2022-10-20T11:12:03.604474Z",
     "iopub.status.busy": "2022-10-20T11:12:03.603970Z",
     "iopub.status.idle": "2022-10-20T11:12:03.611557Z",
     "shell.execute_reply": "2022-10-20T11:12:03.611005Z"
    },
    "id": "joAHy_r62dsI"
   },
   "outputs": [],
   "source": [
    "#@markdown Be sure you run this cell. It's hiding the `split_into_train_test()` function that's called in the next code block.\n",
    "\n",
    "import os\n",
    "import random\n",
    "import shutil\n",
    "\n",
    "def split_into_train_test(images_origin, images_dest, test_split):\n",
    " \n",
    "  _, dirs, _ = next(os.walk(images_origin))\n",
    "\n",
    "  TRAIN_DIR = os.path.join(images_dest, 'train')\n",
    "  TEST_DIR = os.path.join(images_dest, 'test')\n",
    "  os.makedirs(TRAIN_DIR, exist_ok=True)\n",
    "  os.makedirs(TEST_DIR, exist_ok=True)\n",
    "\n",
    "  for dir in dirs:\n",
    "    # Get all filenames for this dir, filtered by filetype\n",
    "    filenames = os.listdir(os.path.join(images_origin, dir))\n",
    "    filenames = [os.path.join(images_origin, dir, f) for f in filenames if (\n",
    "        f.endswith('.png') or f.endswith('.jpg') or f.endswith('.jpeg') or f.endswith('.bmp'))]\n",
    "    # Shuffle the files, deterministically\n",
    "    filenames.sort()\n",
    "    random.seed(42)\n",
    "    random.shuffle(filenames)\n",
    "    # Divide them into train/test dirs\n",
    "    os.makedirs(os.path.join(TEST_DIR, dir), exist_ok=True)\n",
    "    os.makedirs(os.path.join(TRAIN_DIR, dir), exist_ok=True)\n",
    "    test_count = int(len(filenames) * test_split)\n",
    "    for i, file in enumerate(filenames):\n",
    "      if i < test_count:\n",
    "        destination = os.path.join(TEST_DIR, dir, os.path.split(file)[1])\n",
    "      else:\n",
    "        destination = os.path.join(TRAIN_DIR, dir, os.path.split(file)[1])\n",
    "      shutil.copyfile(file, destination)\n",
    "    print(f'Moved {test_count} of {len(filenames)} from class \"{dir}\" into test.')\n",
    "  print(f'Your split dataset is in \"{images_dest}\"')"
   ]
  },
  {
   "cell_type": "markdown",
   "metadata": {
    "id": "IPkTA5-sNF7W"
   },
   "source": [
    "**Note:** If you're using `split_into_train_test()` to split the dataset, it expects all images to be PNG, JPEG, or BMP—it ignores other file types."
   ]
  },
  {
   "cell_type": "code",
   "execution_count": 12,
   "metadata": {
    "execution": {
     "iopub.execute_input": "2022-10-20T11:12:03.621626Z",
     "iopub.status.busy": "2022-10-20T11:12:03.621407Z",
     "iopub.status.idle": "2022-10-20T11:12:06.035584Z",
     "shell.execute_reply": "2022-10-20T11:12:06.034300Z"
    },
    "id": "GVpOi5Hr4Xxt"
   },
   "outputs": [
    {
     "name": "stdout",
     "output_type": "stream",
     "text": [
      "--2022-10-20 11:12:03--  http://download.tensorflow.org/data/pose_classification/yoga_poses.zip\r\n",
      "Resolving download.tensorflow.org (download.tensorflow.org)... "
     ]
    },
    {
     "name": "stdout",
     "output_type": "stream",
     "text": [
      "74.125.142.128, 2607:f8b0:400e:c08::80\r\n",
      "Connecting to download.tensorflow.org (download.tensorflow.org)|74.125.142.128|:80... connected.\r\n",
      "HTTP request sent, awaiting response... "
     ]
    },
    {
     "name": "stdout",
     "output_type": "stream",
     "text": [
      "200 OK\r\n",
      "Length: 102517581 (98M) [application/zip]\r\n",
      "Saving to: ‘yoga_poses.zip’\r\n",
      "\r\n",
      "\r\n",
      "yoga_poses.zip        0%[                    ]       0  --.-KB/s               "
     ]
    },
    {
     "name": "stdout",
     "output_type": "stream",
     "text": [
      "\r\n",
      "yoga_poses.zip        4%[                    ]   4.01M  8.56MB/s               "
     ]
    },
    {
     "name": "stdout",
     "output_type": "stream",
     "text": [
      "\r\n",
      "yoga_poses.zip       51%[=========>          ]  49.96M  74.8MB/s               "
     ]
    },
    {
     "name": "stdout",
     "output_type": "stream",
     "text": [
      "\r\n",
      "yoga_poses.zip       90%[=================>  ]  88.01M  87.6MB/s               \r\n",
      "yoga_poses.zip      100%[===================>]  97.77M  95.0MB/s    in 1.0s    \r\n",
      "\r\n",
      "2022-10-20 11:12:04 (95.0 MB/s) - ‘yoga_poses.zip’ saved [102517581/102517581]\r\n",
      "\r\n"
     ]
    }
   ],
   "source": [
    "if not is_skip_step_1 and not use_custom_dataset:\n",
    "  !wget -O yoga_poses.zip http://download.tensorflow.org/data/pose_classification/yoga_poses.zip\n",
    "  !unzip -q yoga_poses.zip -d yoga_cg\n",
    "  IMAGES_ROOT = \"yoga_cg\""
   ]
  },
  {
   "cell_type": "markdown",
   "metadata": {
    "id": "vxOkXvm-TvOZ"
   },
   "source": [
    "### Preprocess the `TRAIN` dataset"
   ]
  },
  {
   "cell_type": "code",
   "execution_count": 36,
   "metadata": {
    "execution": {
     "iopub.execute_input": "2022-10-20T11:12:06.040253Z",
     "iopub.status.busy": "2022-10-20T11:12:06.039953Z",
     "iopub.status.idle": "2022-10-20T11:13:21.204389Z",
     "shell.execute_reply": "2022-10-20T11:13:21.203666Z"
    },
    "id": "OsdqxGfxTE2H"
   },
   "outputs": [
    {
     "name": "stderr",
     "output_type": "stream",
     "text": [
      "Preprocessing chair\n",
      "100%|██████████| 200/200 [00:38<00:00,  5.26it/s]\n",
      "Preprocessing cobra\n",
      "100%|██████████| 200/200 [00:38<00:00,  5.23it/s]\n",
      "Preprocessing dog\n",
      "100%|██████████| 200/200 [00:41<00:00,  4.78it/s]\n",
      "Preprocessing tree\n",
      "100%|██████████| 200/200 [00:39<00:00,  5.04it/s]\n",
      "Preprocessing warrior\n",
      "100%|██████████| 200/200 [00:36<00:00,  5.44it/s]\n"
     ]
    },
    {
     "name": "stdout",
     "output_type": "stream",
     "text": [
      "Skipped yoga_poses/train/chair/girl3_chair091.jpg. No pose was confidentlly detected.\n",
      "Skipped yoga_poses/train/chair/girl3_chair092.jpg. No pose was confidentlly detected.\n",
      "Skipped yoga_poses/train/chair/girl3_chair093.jpg. No pose was confidentlly detected.\n",
      "Skipped yoga_poses/train/chair/girl3_chair094.jpg. No pose was confidentlly detected.\n",
      "Skipped yoga_poses/train/chair/girl3_chair096.jpg. No pose was confidentlly detected.\n",
      "Skipped yoga_poses/train/chair/girl3_chair097.jpg. No pose was confidentlly detected.\n",
      "Skipped yoga_poses/train/chair/girl3_chair099.jpg. No pose was confidentlly detected.\n",
      "Skipped yoga_poses/train/chair/girl3_chair100.jpg. No pose was confidentlly detected.\n",
      "Skipped yoga_poses/train/chair/girl3_chair104.jpg. No pose was confidentlly detected.\n",
      "Skipped yoga_poses/train/chair/girl3_chair106.jpg. No pose was confidentlly detected.\n",
      "Skipped yoga_poses/train/chair/girl3_chair110.jpg. No pose was confidentlly detected.\n",
      "Skipped yoga_poses/train/chair/girl3_chair114.jpg. No pose was confidentlly detected.\n",
      "Skipped yoga_poses/train/chair/girl3_chair115.jpg. No pose was confidentlly detected.\n",
      "Skipped yoga_poses/train/chair/girl3_chair118.jpg. No pose was confidentlly detected.\n",
      "Skipped yoga_poses/train/chair/girl3_chair122.jpg. No pose was confidentlly detected.\n",
      "Skipped yoga_poses/train/chair/girl3_chair123.jpg. No pose was confidentlly detected.\n",
      "Skipped yoga_poses/train/chair/girl3_chair124.jpg. No pose was confidentlly detected.\n",
      "Skipped yoga_poses/train/chair/girl3_chair125.jpg. No pose was confidentlly detected.\n",
      "Skipped yoga_poses/train/chair/girl3_chair131.jpg. No pose was confidentlly detected.\n",
      "Skipped yoga_poses/train/chair/girl3_chair132.jpg. No pose was confidentlly detected.\n",
      "Skipped yoga_poses/train/chair/girl3_chair133.jpg. No pose was confidentlly detected.\n",
      "Skipped yoga_poses/train/chair/girl3_chair134.jpg. No pose was confidentlly detected.\n",
      "Skipped yoga_poses/train/chair/girl3_chair136.jpg. No pose was confidentlly detected.\n",
      "Skipped yoga_poses/train/chair/girl3_chair138.jpg. No pose was confidentlly detected.\n",
      "Skipped yoga_poses/train/chair/girl3_chair139.jpg. No pose was confidentlly detected.\n",
      "Skipped yoga_poses/train/chair/girl3_chair142.jpg. No pose was confidentlly detected.\n",
      "Skipped yoga_poses/train/chair/guy2_chair089.jpg. No pose was confidentlly detected.\n",
      "Skipped yoga_poses/train/chair/guy2_chair136.jpg. No pose was confidentlly detected.\n",
      "Skipped yoga_poses/train/chair/guy2_chair140.jpg. No pose was confidentlly detected.\n",
      "Skipped yoga_poses/train/chair/guy2_chair143.jpg. No pose was confidentlly detected.\n",
      "Skipped yoga_poses/train/chair/guy2_chair144.jpg. No pose was confidentlly detected.\n",
      "Skipped yoga_poses/train/chair/guy2_chair145.jpg. No pose was confidentlly detected.\n",
      "Skipped yoga_poses/train/chair/guy2_chair146.jpg. No pose was confidentlly detected.\n",
      "Skipped yoga_poses/train/cobra/girl1_cobra026.jpg. No pose was confidentlly detected.\n",
      "Skipped yoga_poses/train/cobra/girl1_cobra029.jpg. No pose was confidentlly detected.\n",
      "Skipped yoga_poses/train/cobra/girl1_cobra030.jpg. No pose was confidentlly detected.\n",
      "Skipped yoga_poses/train/cobra/girl1_cobra038.jpg. No pose was confidentlly detected.\n",
      "Skipped yoga_poses/train/cobra/girl1_cobra040.jpg. No pose was confidentlly detected.\n",
      "Skipped yoga_poses/train/cobra/girl1_cobra041.jpg. No pose was confidentlly detected.\n",
      "Skipped yoga_poses/train/cobra/girl1_cobra048.jpg. No pose was confidentlly detected.\n",
      "Skipped yoga_poses/train/cobra/girl1_cobra050.jpg. No pose was confidentlly detected.\n",
      "Skipped yoga_poses/train/cobra/girl1_cobra051.jpg. No pose was confidentlly detected.\n",
      "Skipped yoga_poses/train/cobra/girl1_cobra055.jpg. No pose was confidentlly detected.\n",
      "Skipped yoga_poses/train/cobra/girl1_cobra059.jpg. No pose was confidentlly detected.\n",
      "Skipped yoga_poses/train/cobra/girl1_cobra061.jpg. No pose was confidentlly detected.\n",
      "Skipped yoga_poses/train/cobra/girl1_cobra068.jpg. No pose was confidentlly detected.\n",
      "Skipped yoga_poses/train/cobra/girl1_cobra070.jpg. No pose was confidentlly detected.\n",
      "Skipped yoga_poses/train/cobra/girl1_cobra081.jpg. No pose was confidentlly detected.\n",
      "Skipped yoga_poses/train/cobra/girl1_cobra087.jpg. No pose was confidentlly detected.\n",
      "Skipped yoga_poses/train/cobra/girl1_cobra088.jpg. No pose was confidentlly detected.\n",
      "Skipped yoga_poses/train/cobra/girl1_cobra089.jpg. No pose was confidentlly detected.\n",
      "Skipped yoga_poses/train/cobra/girl1_cobra090.jpg. No pose was confidentlly detected.\n",
      "Skipped yoga_poses/train/cobra/girl1_cobra091.jpg. No pose was confidentlly detected.\n",
      "Skipped yoga_poses/train/cobra/girl1_cobra092.jpg. No pose was confidentlly detected.\n",
      "Skipped yoga_poses/train/cobra/girl1_cobra093.jpg. No pose was confidentlly detected.\n",
      "Skipped yoga_poses/train/cobra/girl1_cobra094.jpg. No pose was confidentlly detected.\n",
      "Skipped yoga_poses/train/cobra/girl1_cobra096.jpg. No pose was confidentlly detected.\n",
      "Skipped yoga_poses/train/cobra/girl1_cobra099.jpg. No pose was confidentlly detected.\n",
      "Skipped yoga_poses/train/cobra/girl1_cobra102.jpg. No pose was confidentlly detected.\n",
      "Skipped yoga_poses/train/cobra/girl1_cobra110.jpg. No pose was confidentlly detected.\n",
      "Skipped yoga_poses/train/cobra/girl1_cobra112.jpg. No pose was confidentlly detected.\n",
      "Skipped yoga_poses/train/cobra/girl1_cobra115.jpg. No pose was confidentlly detected.\n",
      "Skipped yoga_poses/train/cobra/girl1_cobra119.jpg. No pose was confidentlly detected.\n",
      "Skipped yoga_poses/train/cobra/girl1_cobra122.jpg. No pose was confidentlly detected.\n",
      "Skipped yoga_poses/train/cobra/girl1_cobra128.jpg. No pose was confidentlly detected.\n",
      "Skipped yoga_poses/train/cobra/girl1_cobra129.jpg. No pose was confidentlly detected.\n",
      "Skipped yoga_poses/train/cobra/girl1_cobra136.jpg. No pose was confidentlly detected.\n",
      "Skipped yoga_poses/train/cobra/girl1_cobra140.jpg. No pose was confidentlly detected.\n",
      "Skipped yoga_poses/train/cobra/girl2_cobra029.jpg. No pose was confidentlly detected.\n",
      "Skipped yoga_poses/train/cobra/girl2_cobra046.jpg. No pose was confidentlly detected.\n",
      "Skipped yoga_poses/train/cobra/girl2_cobra050.jpg. No pose was confidentlly detected.\n",
      "Skipped yoga_poses/train/cobra/girl2_cobra053.jpg. No pose was confidentlly detected.\n",
      "Skipped yoga_poses/train/cobra/girl2_cobra108.jpg. No pose was confidentlly detected.\n",
      "Skipped yoga_poses/train/cobra/girl2_cobra117.jpg. No pose was confidentlly detected.\n",
      "Skipped yoga_poses/train/cobra/girl2_cobra129.jpg. No pose was confidentlly detected.\n",
      "Skipped yoga_poses/train/cobra/girl2_cobra133.jpg. No pose was confidentlly detected.\n",
      "Skipped yoga_poses/train/cobra/girl2_cobra136.jpg. No pose was confidentlly detected.\n",
      "Skipped yoga_poses/train/cobra/girl2_cobra140.jpg. No pose was confidentlly detected.\n",
      "Skipped yoga_poses/train/cobra/girl3_cobra028.jpg. No pose was confidentlly detected.\n",
      "Skipped yoga_poses/train/cobra/girl3_cobra030.jpg. No pose was confidentlly detected.\n",
      "Skipped yoga_poses/train/cobra/girl3_cobra032.jpg. No pose was confidentlly detected.\n",
      "Skipped yoga_poses/train/cobra/girl3_cobra039.jpg. No pose was confidentlly detected.\n",
      "Skipped yoga_poses/train/cobra/girl3_cobra040.jpg. No pose was confidentlly detected.\n",
      "Skipped yoga_poses/train/cobra/girl3_cobra051.jpg. No pose was confidentlly detected.\n",
      "Skipped yoga_poses/train/cobra/girl3_cobra052.jpg. No pose was confidentlly detected.\n",
      "Skipped yoga_poses/train/cobra/girl3_cobra058.jpg. No pose was confidentlly detected.\n",
      "Skipped yoga_poses/train/cobra/girl3_cobra062.jpg. No pose was confidentlly detected.\n",
      "Skipped yoga_poses/train/cobra/girl3_cobra068.jpg. No pose was confidentlly detected.\n",
      "Skipped yoga_poses/train/cobra/girl3_cobra072.jpg. No pose was confidentlly detected.\n",
      "Skipped yoga_poses/train/cobra/girl3_cobra076.jpg. No pose was confidentlly detected.\n",
      "Skipped yoga_poses/train/cobra/girl3_cobra078.jpg. No pose was confidentlly detected.\n",
      "Skipped yoga_poses/train/cobra/girl3_cobra079.jpg. No pose was confidentlly detected.\n",
      "Skipped yoga_poses/train/cobra/girl3_cobra082.jpg. No pose was confidentlly detected.\n",
      "Skipped yoga_poses/train/cobra/girl3_cobra088.jpg. No pose was confidentlly detected.\n",
      "Skipped yoga_poses/train/cobra/girl3_cobra092.jpg. No pose was confidentlly detected.\n",
      "Skipped yoga_poses/train/cobra/girl3_cobra097.jpg. No pose was confidentlly detected.\n",
      "Skipped yoga_poses/train/cobra/girl3_cobra099.jpg. No pose was confidentlly detected.\n",
      "Skipped yoga_poses/train/cobra/girl3_cobra107.jpg. No pose was confidentlly detected.\n",
      "Skipped yoga_poses/train/cobra/girl3_cobra129.jpg. No pose was confidentlly detected.\n",
      "Skipped yoga_poses/train/cobra/girl3_cobra130.jpg. No pose was confidentlly detected.\n",
      "Skipped yoga_poses/train/cobra/girl3_cobra132.jpg. No pose was confidentlly detected.\n",
      "Skipped yoga_poses/train/cobra/girl3_cobra134.jpg. No pose was confidentlly detected.\n",
      "Skipped yoga_poses/train/cobra/girl3_cobra138.jpg. No pose was confidentlly detected.\n",
      "Skipped yoga_poses/train/cobra/guy2_cobra034.jpg. No pose was confidentlly detected.\n",
      "Skipped yoga_poses/train/cobra/guy2_cobra042.jpg. No pose was confidentlly detected.\n",
      "Skipped yoga_poses/train/cobra/guy2_cobra043.jpg. No pose was confidentlly detected.\n",
      "Skipped yoga_poses/train/cobra/guy2_cobra047.jpg. No pose was confidentlly detected.\n",
      "Skipped yoga_poses/train/cobra/guy2_cobra053.jpg. No pose was confidentlly detected.\n",
      "Skipped yoga_poses/train/cobra/guy2_cobra065.jpg. No pose was confidentlly detected.\n",
      "Skipped yoga_poses/train/cobra/guy2_cobra077.jpg. No pose was confidentlly detected.\n",
      "Skipped yoga_poses/train/cobra/guy2_cobra078.jpg. No pose was confidentlly detected.\n",
      "Skipped yoga_poses/train/cobra/guy2_cobra080.jpg. No pose was confidentlly detected.\n",
      "Skipped yoga_poses/train/cobra/guy2_cobra081.jpg. No pose was confidentlly detected.\n",
      "Skipped yoga_poses/train/cobra/guy2_cobra084.jpg. No pose was confidentlly detected.\n",
      "Skipped yoga_poses/train/cobra/guy2_cobra088.jpg. No pose was confidentlly detected.\n",
      "Skipped yoga_poses/train/cobra/guy2_cobra089.jpg. No pose was confidentlly detected.\n",
      "Skipped yoga_poses/train/cobra/guy2_cobra102.jpg. No pose was confidentlly detected.\n",
      "Skipped yoga_poses/train/cobra/guy2_cobra105.jpg. No pose was confidentlly detected.\n",
      "Skipped yoga_poses/train/cobra/guy2_cobra108.jpg. No pose was confidentlly detected.\n",
      "Skipped yoga_poses/train/cobra/guy2_cobra139.jpg. No pose was confidentlly detected.\n",
      "Skipped yoga_poses/train/dog/girl1_dog027.jpg. No pose was confidentlly detected.\n",
      "Skipped yoga_poses/train/dog/girl1_dog028.jpg. No pose was confidentlly detected.\n",
      "Skipped yoga_poses/train/dog/girl1_dog030.jpg. No pose was confidentlly detected.\n",
      "Skipped yoga_poses/train/dog/girl1_dog032.jpg. No pose was confidentlly detected.\n",
      "Skipped yoga_poses/train/dog/girl2_dog075.jpg. No pose was confidentlly detected.\n",
      "Skipped yoga_poses/train/dog/girl2_dog080.jpg. No pose was confidentlly detected.\n",
      "Skipped yoga_poses/train/dog/girl2_dog083.jpg. No pose was confidentlly detected.\n",
      "Skipped yoga_poses/train/dog/girl2_dog085.jpg. No pose was confidentlly detected.\n",
      "Skipped yoga_poses/train/dog/girl2_dog087.jpg. No pose was confidentlly detected.\n",
      "Skipped yoga_poses/train/dog/girl2_dog088.jpg. No pose was confidentlly detected.\n",
      "Skipped yoga_poses/train/dog/girl2_dog090.jpg. No pose was confidentlly detected.\n",
      "Skipped yoga_poses/train/dog/girl2_dog091.jpg. No pose was confidentlly detected.\n",
      "Skipped yoga_poses/train/dog/girl2_dog093.jpg. No pose was confidentlly detected.\n",
      "Skipped yoga_poses/train/dog/girl2_dog094.jpg. No pose was confidentlly detected.\n",
      "Skipped yoga_poses/train/dog/girl2_dog095.jpg. No pose was confidentlly detected.\n",
      "Skipped yoga_poses/train/dog/girl2_dog099.jpg. No pose was confidentlly detected.\n",
      "Skipped yoga_poses/train/dog/girl2_dog100.jpg. No pose was confidentlly detected.\n",
      "Skipped yoga_poses/train/dog/girl2_dog101.jpg. No pose was confidentlly detected.\n",
      "Skipped yoga_poses/train/dog/girl2_dog103.jpg. No pose was confidentlly detected.\n",
      "Skipped yoga_poses/train/dog/girl2_dog104.jpg. No pose was confidentlly detected.\n",
      "Skipped yoga_poses/train/dog/girl2_dog105.jpg. No pose was confidentlly detected.\n",
      "Skipped yoga_poses/train/dog/girl2_dog107.jpg. No pose was confidentlly detected.\n",
      "Skipped yoga_poses/train/dog/girl2_dog111.jpg. No pose was confidentlly detected.\n",
      "Skipped yoga_poses/train/dog/girl3_dog025.jpg. No pose was confidentlly detected.\n",
      "Skipped yoga_poses/train/dog/girl3_dog026.jpg. No pose was confidentlly detected.\n",
      "Skipped yoga_poses/train/dog/girl3_dog027.jpg. No pose was confidentlly detected.\n",
      "Skipped yoga_poses/train/dog/girl3_dog028.jpg. No pose was confidentlly detected.\n",
      "Skipped yoga_poses/train/dog/girl3_dog031.jpg. No pose was confidentlly detected.\n",
      "Skipped yoga_poses/train/dog/girl3_dog033.jpg. No pose was confidentlly detected.\n",
      "Skipped yoga_poses/train/dog/girl3_dog035.jpg. No pose was confidentlly detected.\n",
      "Skipped yoga_poses/train/dog/girl3_dog037.jpg. No pose was confidentlly detected.\n",
      "Skipped yoga_poses/train/dog/girl3_dog040.jpg. No pose was confidentlly detected.\n",
      "Skipped yoga_poses/train/dog/girl3_dog041.jpg. No pose was confidentlly detected.\n",
      "Skipped yoga_poses/train/dog/girl3_dog047.jpg. No pose was confidentlly detected.\n",
      "Skipped yoga_poses/train/dog/girl3_dog052.jpg. No pose was confidentlly detected.\n",
      "Skipped yoga_poses/train/dog/girl3_dog062.jpg. No pose was confidentlly detected.\n",
      "Skipped yoga_poses/train/dog/girl3_dog072.jpg. No pose was confidentlly detected.\n",
      "Skipped yoga_poses/train/dog/girl3_dog074.jpg. No pose was confidentlly detected.\n",
      "Skipped yoga_poses/train/dog/girl3_dog075.jpg. No pose was confidentlly detected.\n",
      "Skipped yoga_poses/train/dog/girl3_dog077.jpg. No pose was confidentlly detected.\n",
      "Skipped yoga_poses/train/dog/girl3_dog081.jpg. No pose was confidentlly detected.\n",
      "Skipped yoga_poses/train/dog/girl3_dog082.jpg. No pose was confidentlly detected.\n",
      "Skipped yoga_poses/train/dog/girl3_dog086.jpg. No pose was confidentlly detected.\n",
      "Skipped yoga_poses/train/dog/girl3_dog088.jpg. No pose was confidentlly detected.\n",
      "Skipped yoga_poses/train/dog/girl3_dog090.jpg. No pose was confidentlly detected.\n",
      "Skipped yoga_poses/train/dog/girl3_dog092.jpg. No pose was confidentlly detected.\n",
      "Skipped yoga_poses/train/dog/girl3_dog094.jpg. No pose was confidentlly detected.\n",
      "Skipped yoga_poses/train/dog/girl3_dog095.jpg. No pose was confidentlly detected.\n",
      "Skipped yoga_poses/train/dog/girl3_dog096.jpg. No pose was confidentlly detected.\n",
      "Skipped yoga_poses/train/dog/girl3_dog100.jpg. No pose was confidentlly detected.\n",
      "Skipped yoga_poses/train/dog/girl3_dog102.jpg. No pose was confidentlly detected.\n",
      "Skipped yoga_poses/train/dog/girl3_dog103.jpg. No pose was confidentlly detected.\n",
      "Skipped yoga_poses/train/dog/girl3_dog104.jpg. No pose was confidentlly detected.\n",
      "Skipped yoga_poses/train/dog/girl3_dog106.jpg. No pose was confidentlly detected.\n",
      "Skipped yoga_poses/train/dog/girl3_dog107.jpg. No pose was confidentlly detected.\n",
      "Skipped yoga_poses/train/dog/girl3_dog111.jpg. No pose was confidentlly detected.\n",
      "Skipped yoga_poses/train/dog/guy1_dog070.jpg. No pose was confidentlly detected.\n",
      "Skipped yoga_poses/train/dog/guy1_dog076.jpg. No pose was confidentlly detected.\n",
      "Skipped yoga_poses/train/dog/guy2_dog070.jpg. No pose was confidentlly detected.\n",
      "Skipped yoga_poses/train/dog/guy2_dog071.jpg. No pose was confidentlly detected.\n",
      "Skipped yoga_poses/train/dog/guy2_dog082.jpg. No pose was confidentlly detected.\n",
      "Skipped yoga_poses/train/tree/girl2_tree119.jpg. No pose was confidentlly detected.\n",
      "Skipped yoga_poses/train/tree/girl2_tree122.jpg. No pose was confidentlly detected.\n",
      "Skipped yoga_poses/train/tree/girl2_tree161.jpg. No pose was confidentlly detected.\n",
      "Skipped yoga_poses/train/tree/girl2_tree163.jpg. No pose was confidentlly detected.\n",
      "Skipped yoga_poses/train/tree/guy1_tree139.jpg. No pose was confidentlly detected.\n",
      "Skipped yoga_poses/train/tree/guy1_tree140.jpg. No pose was confidentlly detected.\n",
      "Skipped yoga_poses/train/tree/guy1_tree141.jpg. No pose was confidentlly detected.\n",
      "Skipped yoga_poses/train/tree/guy1_tree143.jpg. No pose was confidentlly detected.\n",
      "Skipped yoga_poses/train/tree/guy2_tree085.jpg. No pose was confidentlly detected.\n",
      "Skipped yoga_poses/train/tree/guy2_tree086.jpg. No pose was confidentlly detected.\n",
      "Skipped yoga_poses/train/tree/guy2_tree087.jpg. No pose was confidentlly detected.\n",
      "Skipped yoga_poses/train/tree/guy2_tree088.jpg. No pose was confidentlly detected.\n",
      "Skipped yoga_poses/train/tree/guy2_tree090.jpg. No pose was confidentlly detected.\n",
      "Skipped yoga_poses/train/tree/guy2_tree092.jpg. No pose was confidentlly detected.\n",
      "Skipped yoga_poses/train/tree/guy2_tree145.jpg. No pose was confidentlly detected.\n",
      "Skipped yoga_poses/train/tree/guy2_tree147.jpg. No pose was confidentlly detected.\n",
      "Skipped yoga_poses/train/warrior/girl1_warrior049.jpg. No pose was confidentlly detected.\n",
      "Skipped yoga_poses/train/warrior/girl1_warrior053.jpg. No pose was confidentlly detected.\n",
      "Skipped yoga_poses/train/warrior/girl1_warrior064.jpg. No pose was confidentlly detected.\n",
      "Skipped yoga_poses/train/warrior/girl1_warrior066.jpg. No pose was confidentlly detected.\n",
      "Skipped yoga_poses/train/warrior/girl1_warrior067.jpg. No pose was confidentlly detected.\n",
      "Skipped yoga_poses/train/warrior/girl1_warrior072.jpg. No pose was confidentlly detected.\n",
      "Skipped yoga_poses/train/warrior/girl1_warrior075.jpg. No pose was confidentlly detected.\n",
      "Skipped yoga_poses/train/warrior/girl1_warrior077.jpg. No pose was confidentlly detected.\n",
      "Skipped yoga_poses/train/warrior/girl1_warrior080.jpg. No pose was confidentlly detected.\n",
      "Skipped yoga_poses/train/warrior/girl1_warrior083.jpg. No pose was confidentlly detected.\n",
      "Skipped yoga_poses/train/warrior/girl1_warrior084.jpg. No pose was confidentlly detected.\n",
      "Skipped yoga_poses/train/warrior/girl1_warrior087.jpg. No pose was confidentlly detected.\n",
      "Skipped yoga_poses/train/warrior/girl1_warrior089.jpg. No pose was confidentlly detected.\n",
      "Skipped yoga_poses/train/warrior/girl1_warrior093.jpg. No pose was confidentlly detected.\n",
      "Skipped yoga_poses/train/warrior/girl1_warrior094.jpg. No pose was confidentlly detected.\n",
      "Skipped yoga_poses/train/warrior/girl1_warrior095.jpg. No pose was confidentlly detected.\n",
      "Skipped yoga_poses/train/warrior/girl1_warrior098.jpg. No pose was confidentlly detected.\n",
      "Skipped yoga_poses/train/warrior/girl1_warrior099.jpg. No pose was confidentlly detected.\n",
      "Skipped yoga_poses/train/warrior/girl1_warrior100.jpg. No pose was confidentlly detected.\n",
      "Skipped yoga_poses/train/warrior/girl1_warrior103.jpg. No pose was confidentlly detected.\n",
      "Skipped yoga_poses/train/warrior/girl1_warrior108.jpg. No pose was confidentlly detected.\n",
      "Skipped yoga_poses/train/warrior/girl1_warrior109.jpg. No pose was confidentlly detected.\n",
      "Skipped yoga_poses/train/warrior/girl1_warrior111.jpg. No pose was confidentlly detected.\n",
      "Skipped yoga_poses/train/warrior/girl1_warrior112.jpg. No pose was confidentlly detected.\n",
      "Skipped yoga_poses/train/warrior/girl1_warrior113.jpg. No pose was confidentlly detected.\n",
      "Skipped yoga_poses/train/warrior/girl1_warrior114.jpg. No pose was confidentlly detected.\n",
      "Skipped yoga_poses/train/warrior/girl1_warrior116.jpg. No pose was confidentlly detected.\n",
      "Skipped yoga_poses/train/warrior/girl1_warrior117.jpg. No pose was confidentlly detected.\n",
      "Skipped yoga_poses/train/warrior/girl2_warrior047.jpg. No pose was confidentlly detected.\n",
      "Skipped yoga_poses/train/warrior/girl2_warrior049.jpg. No pose was confidentlly detected.\n",
      "Skipped yoga_poses/train/warrior/girl2_warrior050.jpg. No pose was confidentlly detected.\n",
      "Skipped yoga_poses/train/warrior/girl2_warrior052.jpg. No pose was confidentlly detected.\n",
      "Skipped yoga_poses/train/warrior/girl2_warrior057.jpg. No pose was confidentlly detected.\n",
      "Skipped yoga_poses/train/warrior/girl2_warrior058.jpg. No pose was confidentlly detected.\n",
      "Skipped yoga_poses/train/warrior/girl2_warrior063.jpg. No pose was confidentlly detected.\n",
      "Skipped yoga_poses/train/warrior/girl2_warrior068.jpg. No pose was confidentlly detected.\n",
      "Skipped yoga_poses/train/warrior/girl2_warrior079.jpg. No pose was confidentlly detected.\n",
      "Skipped yoga_poses/train/warrior/girl2_warrior083.jpg. No pose was confidentlly detected.\n",
      "Skipped yoga_poses/train/warrior/girl2_warrior085.jpg. No pose was confidentlly detected.\n",
      "Skipped yoga_poses/train/warrior/girl2_warrior088.jpg. No pose was confidentlly detected.\n",
      "Skipped yoga_poses/train/warrior/girl2_warrior092.jpg. No pose was confidentlly detected.\n",
      "Skipped yoga_poses/train/warrior/girl2_warrior096.jpg. No pose was confidentlly detected.\n",
      "Skipped yoga_poses/train/warrior/girl2_warrior097.jpg. No pose was confidentlly detected.\n",
      "Skipped yoga_poses/train/warrior/girl2_warrior102.jpg. No pose was confidentlly detected.\n",
      "Skipped yoga_poses/train/warrior/girl2_warrior106.jpg. No pose was confidentlly detected.\n",
      "Skipped yoga_poses/train/warrior/girl2_warrior108.jpg. No pose was confidentlly detected.\n",
      "Skipped yoga_poses/train/warrior/girl3_warrior042.jpg. No pose was confidentlly detected.\n",
      "Skipped yoga_poses/train/warrior/girl3_warrior043.jpg. No pose was confidentlly detected.\n",
      "Skipped yoga_poses/train/warrior/girl3_warrior047.jpg. No pose was confidentlly detected.\n",
      "Skipped yoga_poses/train/warrior/girl3_warrior049.jpg. No pose was confidentlly detected.\n",
      "Skipped yoga_poses/train/warrior/girl3_warrior051.jpg. No pose was confidentlly detected.\n",
      "Skipped yoga_poses/train/warrior/girl3_warrior054.jpg. No pose was confidentlly detected.\n",
      "Skipped yoga_poses/train/warrior/girl3_warrior056.jpg. No pose was confidentlly detected.\n",
      "Skipped yoga_poses/train/warrior/girl3_warrior057.jpg. No pose was confidentlly detected.\n",
      "Skipped yoga_poses/train/warrior/girl3_warrior061.jpg. No pose was confidentlly detected.\n",
      "Skipped yoga_poses/train/warrior/girl3_warrior066.jpg. No pose was confidentlly detected.\n",
      "Skipped yoga_poses/train/warrior/girl3_warrior067.jpg. No pose was confidentlly detected.\n",
      "Skipped yoga_poses/train/warrior/girl3_warrior073.jpg. No pose was confidentlly detected.\n",
      "Skipped yoga_poses/train/warrior/girl3_warrior074.jpg. No pose was confidentlly detected.\n",
      "Skipped yoga_poses/train/warrior/girl3_warrior075.jpg. No pose was confidentlly detected.\n",
      "Skipped yoga_poses/train/warrior/girl3_warrior079.jpg. No pose was confidentlly detected.\n",
      "Skipped yoga_poses/train/warrior/girl3_warrior087.jpg. No pose was confidentlly detected.\n",
      "Skipped yoga_poses/train/warrior/girl3_warrior089.jpg. No pose was confidentlly detected.\n",
      "Skipped yoga_poses/train/warrior/girl3_warrior090.jpg. No pose was confidentlly detected.\n",
      "Skipped yoga_poses/train/warrior/girl3_warrior091.jpg. No pose was confidentlly detected.\n",
      "Skipped yoga_poses/train/warrior/girl3_warrior092.jpg. No pose was confidentlly detected.\n",
      "Skipped yoga_poses/train/warrior/girl3_warrior094.jpg. No pose was confidentlly detected.\n",
      "Skipped yoga_poses/train/warrior/girl3_warrior095.jpg. No pose was confidentlly detected.\n",
      "Skipped yoga_poses/train/warrior/girl3_warrior096.jpg. No pose was confidentlly detected.\n",
      "Skipped yoga_poses/train/warrior/girl3_warrior100.jpg. No pose was confidentlly detected.\n",
      "Skipped yoga_poses/train/warrior/girl3_warrior103.jpg. No pose was confidentlly detected.\n",
      "Skipped yoga_poses/train/warrior/girl3_warrior107.jpg. No pose was confidentlly detected.\n",
      "Skipped yoga_poses/train/warrior/girl3_warrior115.jpg. No pose was confidentlly detected.\n",
      "Skipped yoga_poses/train/warrior/girl3_warrior117.jpg. No pose was confidentlly detected.\n",
      "Skipped yoga_poses/train/warrior/girl3_warrior134.jpg. No pose was confidentlly detected.\n",
      "Skipped yoga_poses/train/warrior/girl3_warrior140.jpg. No pose was confidentlly detected.\n",
      "Skipped yoga_poses/train/warrior/girl3_warrior143.jpg. No pose was confidentlly detected.\n",
      "Skipped yoga_poses/train/warrior/guy1_warrior043.jpg. No pose was confidentlly detected.\n",
      "Skipped yoga_poses/train/warrior/guy1_warrior048.jpg. No pose was confidentlly detected.\n",
      "Skipped yoga_poses/train/warrior/guy1_warrior051.jpg. No pose was confidentlly detected.\n",
      "Skipped yoga_poses/train/warrior/guy1_warrior052.jpg. No pose was confidentlly detected.\n",
      "Skipped yoga_poses/train/warrior/guy1_warrior055.jpg. No pose was confidentlly detected.\n",
      "Skipped yoga_poses/train/warrior/guy1_warrior057.jpg. No pose was confidentlly detected.\n",
      "Skipped yoga_poses/train/warrior/guy1_warrior062.jpg. No pose was confidentlly detected.\n",
      "Skipped yoga_poses/train/warrior/guy1_warrior068.jpg. No pose was confidentlly detected.\n",
      "Skipped yoga_poses/train/warrior/guy1_warrior069.jpg. No pose was confidentlly detected.\n",
      "Skipped yoga_poses/train/warrior/guy1_warrior073.jpg. No pose was confidentlly detected.\n",
      "Skipped yoga_poses/train/warrior/guy1_warrior076.jpg. No pose was confidentlly detected.\n",
      "Skipped yoga_poses/train/warrior/guy1_warrior077.jpg. No pose was confidentlly detected.\n",
      "Skipped yoga_poses/train/warrior/guy1_warrior080.jpg. No pose was confidentlly detected.\n",
      "Skipped yoga_poses/train/warrior/guy1_warrior081.jpg. No pose was confidentlly detected.\n",
      "Skipped yoga_poses/train/warrior/guy1_warrior082.jpg. No pose was confidentlly detected.\n",
      "Skipped yoga_poses/train/warrior/guy1_warrior088.jpg. No pose was confidentlly detected.\n",
      "Skipped yoga_poses/train/warrior/guy1_warrior091.jpg. No pose was confidentlly detected.\n",
      "Skipped yoga_poses/train/warrior/guy1_warrior092.jpg. No pose was confidentlly detected.\n",
      "Skipped yoga_poses/train/warrior/guy1_warrior093.jpg. No pose was confidentlly detected.\n",
      "Skipped yoga_poses/train/warrior/guy1_warrior094.jpg. No pose was confidentlly detected.\n",
      "Skipped yoga_poses/train/warrior/guy1_warrior097.jpg. No pose was confidentlly detected.\n",
      "Skipped yoga_poses/train/warrior/guy1_warrior118.jpg. No pose was confidentlly detected.\n",
      "Skipped yoga_poses/train/warrior/guy1_warrior120.jpg. No pose was confidentlly detected.\n",
      "Skipped yoga_poses/train/warrior/guy1_warrior121.jpg. No pose was confidentlly detected.\n",
      "Skipped yoga_poses/train/warrior/guy1_warrior124.jpg. No pose was confidentlly detected.\n",
      "Skipped yoga_poses/train/warrior/guy1_warrior125.jpg. No pose was confidentlly detected.\n",
      "Skipped yoga_poses/train/warrior/guy1_warrior126.jpg. No pose was confidentlly detected.\n",
      "Skipped yoga_poses/train/warrior/guy1_warrior131.jpg. No pose was confidentlly detected.\n",
      "Skipped yoga_poses/train/warrior/guy1_warrior134.jpg. No pose was confidentlly detected.\n",
      "Skipped yoga_poses/train/warrior/guy1_warrior135.jpg. No pose was confidentlly detected.\n",
      "Skipped yoga_poses/train/warrior/guy1_warrior138.jpg. No pose was confidentlly detected.\n",
      "Skipped yoga_poses/train/warrior/guy1_warrior143.jpg. No pose was confidentlly detected.\n",
      "Skipped yoga_poses/train/warrior/guy1_warrior145.jpg. No pose was confidentlly detected.\n",
      "Skipped yoga_poses/train/warrior/guy1_warrior148.jpg. No pose was confidentlly detected.\n",
      "Skipped yoga_poses/train/warrior/guy2_warrior051.jpg. No pose was confidentlly detected.\n",
      "Skipped yoga_poses/train/warrior/guy2_warrior086.jpg. No pose was confidentlly detected.\n",
      "Skipped yoga_poses/train/warrior/guy2_warrior111.jpg. No pose was confidentlly detected.\n",
      "Skipped yoga_poses/train/warrior/guy2_warrior118.jpg. No pose was confidentlly detected.\n",
      "Skipped yoga_poses/train/warrior/guy2_warrior122.jpg. No pose was confidentlly detected.\n",
      "Skipped yoga_poses/train/warrior/guy2_warrior129.jpg. No pose was confidentlly detected.\n",
      "Skipped yoga_poses/train/warrior/guy2_warrior131.jpg. No pose was confidentlly detected.\n",
      "Skipped yoga_poses/train/warrior/guy2_warrior135.jpg. No pose was confidentlly detected.\n",
      "Skipped yoga_poses/train/warrior/guy2_warrior137.jpg. No pose was confidentlly detected.\n",
      "Skipped yoga_poses/train/warrior/guy2_warrior139.jpg. No pose was confidentlly detected.\n",
      "Skipped yoga_poses/train/warrior/guy2_warrior145.jpg. No pose was confidentlly detected.\n",
      "Skipped yoga_poses/train/warrior/guy2_warrior148.jpg. No pose was confidentlly detected.\n"
     ]
    }
   ],
   "source": [
    "IMAGES_ROOT = \"yoga_poses\"\n",
    "if not is_skip_step_1:\n",
    "  images_in_train_folder = os.path.join(IMAGES_ROOT, 'train')\n",
    "  images_out_train_folder = 'poses_images_out_train'\n",
    "  csvs_out_train_path = 'train_data.csv'\n",
    "\n",
    "  preprocessor = MoveNetPreprocessor(\n",
    "      images_in_folder=images_in_train_folder,\n",
    "      images_out_folder=images_out_train_folder,\n",
    "      csvs_out_path=csvs_out_train_path,\n",
    "  )\n",
    "\n",
    "  preprocessor.process(per_pose_class_limit=None)"
   ]
  },
  {
   "cell_type": "markdown",
   "metadata": {
    "id": "cQtgAeHVT0UE"
   },
   "source": [
    "### Preprocess the `TEST` dataset"
   ]
  },
  {
   "cell_type": "code",
   "execution_count": 37,
   "metadata": {
    "execution": {
     "iopub.execute_input": "2022-10-20T11:13:21.208847Z",
     "iopub.status.busy": "2022-10-20T11:13:21.208559Z",
     "iopub.status.idle": "2022-10-20T11:14:00.976973Z",
     "shell.execute_reply": "2022-10-20T11:14:00.976290Z"
    },
    "id": "hddKVPjrTNbt"
   },
   "outputs": [
    {
     "name": "stderr",
     "output_type": "stream",
     "text": [
      "Preprocessing chair\n",
      "100%|██████████| 84/84 [00:18<00:00,  4.61it/s]\n",
      "Preprocessing cobra\n",
      "100%|██████████| 116/116 [00:17<00:00,  6.78it/s]\n",
      "Preprocessing dog\n",
      "100%|██████████| 90/90 [00:13<00:00,  6.73it/s]\n",
      "Preprocessing tree\n",
      "100%|██████████| 96/96 [00:14<00:00,  6.41it/s]\n",
      "Preprocessing warrior\n",
      "100%|██████████| 109/109 [00:16<00:00,  6.46it/s]\n"
     ]
    },
    {
     "name": "stdout",
     "output_type": "stream",
     "text": [
      "Skipped yoga_poses/test/cobra/guy3_cobra048.jpg. No pose was confidentlly detected.\n",
      "Skipped yoga_poses/test/cobra/guy3_cobra050.jpg. No pose was confidentlly detected.\n",
      "Skipped yoga_poses/test/cobra/guy3_cobra051.jpg. No pose was confidentlly detected.\n",
      "Skipped yoga_poses/test/cobra/guy3_cobra052.jpg. No pose was confidentlly detected.\n",
      "Skipped yoga_poses/test/cobra/guy3_cobra053.jpg. No pose was confidentlly detected.\n",
      "Skipped yoga_poses/test/cobra/guy3_cobra054.jpg. No pose was confidentlly detected.\n",
      "Skipped yoga_poses/test/cobra/guy3_cobra055.jpg. No pose was confidentlly detected.\n",
      "Skipped yoga_poses/test/cobra/guy3_cobra056.jpg. No pose was confidentlly detected.\n",
      "Skipped yoga_poses/test/cobra/guy3_cobra057.jpg. No pose was confidentlly detected.\n",
      "Skipped yoga_poses/test/cobra/guy3_cobra058.jpg. No pose was confidentlly detected.\n",
      "Skipped yoga_poses/test/cobra/guy3_cobra059.jpg. No pose was confidentlly detected.\n",
      "Skipped yoga_poses/test/cobra/guy3_cobra060.jpg. No pose was confidentlly detected.\n",
      "Skipped yoga_poses/test/cobra/guy3_cobra062.jpg. No pose was confidentlly detected.\n",
      "Skipped yoga_poses/test/cobra/guy3_cobra069.jpg. No pose was confidentlly detected.\n",
      "Skipped yoga_poses/test/cobra/guy3_cobra075.jpg. No pose was confidentlly detected.\n",
      "Skipped yoga_poses/test/cobra/guy3_cobra077.jpg. No pose was confidentlly detected.\n",
      "Skipped yoga_poses/test/cobra/guy3_cobra081.jpg. No pose was confidentlly detected.\n",
      "Skipped yoga_poses/test/cobra/guy3_cobra124.jpg. No pose was confidentlly detected.\n",
      "Skipped yoga_poses/test/cobra/guy3_cobra131.jpg. No pose was confidentlly detected.\n",
      "Skipped yoga_poses/test/cobra/guy3_cobra132.jpg. No pose was confidentlly detected.\n",
      "Skipped yoga_poses/test/cobra/guy3_cobra134.jpg. No pose was confidentlly detected.\n",
      "Skipped yoga_poses/test/cobra/guy3_cobra135.jpg. No pose was confidentlly detected.\n",
      "Skipped yoga_poses/test/cobra/guy3_cobra136.jpg. No pose was confidentlly detected.\n",
      "Skipped yoga_poses/test/dog/guy3_dog025.jpg. No pose was confidentlly detected.\n",
      "Skipped yoga_poses/test/dog/guy3_dog026.jpg. No pose was confidentlly detected.\n",
      "Skipped yoga_poses/test/dog/guy3_dog036.jpg. No pose was confidentlly detected.\n",
      "Skipped yoga_poses/test/dog/guy3_dog042.jpg. No pose was confidentlly detected.\n",
      "Skipped yoga_poses/test/dog/guy3_dog106.jpg. No pose was confidentlly detected.\n",
      "Skipped yoga_poses/test/dog/guy3_dog108.jpg. No pose was confidentlly detected.\n",
      "Skipped yoga_poses/test/warrior/guy3_warrior042.jpg. No pose was confidentlly detected.\n",
      "Skipped yoga_poses/test/warrior/guy3_warrior043.jpg. No pose was confidentlly detected.\n",
      "Skipped yoga_poses/test/warrior/guy3_warrior044.jpg. No pose was confidentlly detected.\n",
      "Skipped yoga_poses/test/warrior/guy3_warrior045.jpg. No pose was confidentlly detected.\n",
      "Skipped yoga_poses/test/warrior/guy3_warrior046.jpg. No pose was confidentlly detected.\n",
      "Skipped yoga_poses/test/warrior/guy3_warrior047.jpg. No pose was confidentlly detected.\n",
      "Skipped yoga_poses/test/warrior/guy3_warrior048.jpg. No pose was confidentlly detected.\n",
      "Skipped yoga_poses/test/warrior/guy3_warrior050.jpg. No pose was confidentlly detected.\n",
      "Skipped yoga_poses/test/warrior/guy3_warrior051.jpg. No pose was confidentlly detected.\n",
      "Skipped yoga_poses/test/warrior/guy3_warrior052.jpg. No pose was confidentlly detected.\n",
      "Skipped yoga_poses/test/warrior/guy3_warrior053.jpg. No pose was confidentlly detected.\n",
      "Skipped yoga_poses/test/warrior/guy3_warrior054.jpg. No pose was confidentlly detected.\n",
      "Skipped yoga_poses/test/warrior/guy3_warrior055.jpg. No pose was confidentlly detected.\n",
      "Skipped yoga_poses/test/warrior/guy3_warrior056.jpg. No pose was confidentlly detected.\n",
      "Skipped yoga_poses/test/warrior/guy3_warrior059.jpg. No pose was confidentlly detected.\n",
      "Skipped yoga_poses/test/warrior/guy3_warrior060.jpg. No pose was confidentlly detected.\n",
      "Skipped yoga_poses/test/warrior/guy3_warrior062.jpg. No pose was confidentlly detected.\n",
      "Skipped yoga_poses/test/warrior/guy3_warrior063.jpg. No pose was confidentlly detected.\n",
      "Skipped yoga_poses/test/warrior/guy3_warrior065.jpg. No pose was confidentlly detected.\n",
      "Skipped yoga_poses/test/warrior/guy3_warrior066.jpg. No pose was confidentlly detected.\n",
      "Skipped yoga_poses/test/warrior/guy3_warrior068.jpg. No pose was confidentlly detected.\n",
      "Skipped yoga_poses/test/warrior/guy3_warrior070.jpg. No pose was confidentlly detected.\n",
      "Skipped yoga_poses/test/warrior/guy3_warrior071.jpg. No pose was confidentlly detected.\n",
      "Skipped yoga_poses/test/warrior/guy3_warrior072.jpg. No pose was confidentlly detected.\n",
      "Skipped yoga_poses/test/warrior/guy3_warrior073.jpg. No pose was confidentlly detected.\n",
      "Skipped yoga_poses/test/warrior/guy3_warrior074.jpg. No pose was confidentlly detected.\n",
      "Skipped yoga_poses/test/warrior/guy3_warrior075.jpg. No pose was confidentlly detected.\n",
      "Skipped yoga_poses/test/warrior/guy3_warrior076.jpg. No pose was confidentlly detected.\n",
      "Skipped yoga_poses/test/warrior/guy3_warrior077.jpg. No pose was confidentlly detected.\n",
      "Skipped yoga_poses/test/warrior/guy3_warrior079.jpg. No pose was confidentlly detected.\n",
      "Skipped yoga_poses/test/warrior/guy3_warrior080.jpg. No pose was confidentlly detected.\n",
      "Skipped yoga_poses/test/warrior/guy3_warrior081.jpg. No pose was confidentlly detected.\n",
      "Skipped yoga_poses/test/warrior/guy3_warrior082.jpg. No pose was confidentlly detected.\n",
      "Skipped yoga_poses/test/warrior/guy3_warrior083.jpg. No pose was confidentlly detected.\n",
      "Skipped yoga_poses/test/warrior/guy3_warrior084.jpg. No pose was confidentlly detected.\n",
      "Skipped yoga_poses/test/warrior/guy3_warrior085.jpg. No pose was confidentlly detected.\n",
      "Skipped yoga_poses/test/warrior/guy3_warrior086.jpg. No pose was confidentlly detected.\n",
      "Skipped yoga_poses/test/warrior/guy3_warrior087.jpg. No pose was confidentlly detected.\n",
      "Skipped yoga_poses/test/warrior/guy3_warrior088.jpg. No pose was confidentlly detected.\n",
      "Skipped yoga_poses/test/warrior/guy3_warrior089.jpg. No pose was confidentlly detected.\n",
      "Skipped yoga_poses/test/warrior/guy3_warrior137.jpg. No pose was confidentlly detected.\n"
     ]
    }
   ],
   "source": [
    "if not is_skip_step_1:\n",
    "  images_in_test_folder = os.path.join(IMAGES_ROOT, 'test')\n",
    "  images_out_test_folder = 'poses_images_out_test'\n",
    "  csvs_out_test_path = 'test_data.csv'\n",
    "\n",
    "  preprocessor = MoveNetPreprocessor(\n",
    "      images_in_folder=images_in_test_folder,\n",
    "      images_out_folder=images_out_test_folder,\n",
    "      csvs_out_path=csvs_out_test_path,\n",
    "  )\n",
    "\n",
    "  preprocessor.process(per_pose_class_limit=None)"
   ]
  },
  {
   "cell_type": "code",
   "execution_count": 38,
   "metadata": {
    "execution": {
     "iopub.execute_input": "2022-10-20T11:14:00.989148Z",
     "iopub.status.busy": "2022-10-20T11:14:00.988566Z",
     "iopub.status.idle": "2022-10-20T11:14:00.992973Z",
     "shell.execute_reply": "2022-10-20T11:14:00.992440Z"
    },
    "id": "pOUcc8EL5rrj"
   },
   "outputs": [],
   "source": [
    "def load_pose_landmarks(csv_path):\n",
    "\n",
    "\n",
    "  # Load the CSV file\n",
    "  dataframe = pd.read_csv(csv_path)\n",
    "  df_to_process = dataframe.copy()\n",
    "\n",
    "  # Drop the file_name columns as you don't need it during training.\n",
    "  df_to_process.drop(columns=['file_name'], inplace=True)\n",
    "\n",
    "  # Extract the list of class names\n",
    "  classes = df_to_process.pop('class_name').unique()\n",
    "\n",
    "  # Extract the labels\n",
    "  y = df_to_process.pop('class_no')\n",
    "\n",
    "  # Convert the input features and labels into the correct format for training.\n",
    "  X = df_to_process.astype('float64')\n",
    "  y = keras.utils.to_categorical(y)\n",
    "\n",
    "  return X, y, classes, dataframe"
   ]
  },
  {
   "cell_type": "code",
   "execution_count": 39,
   "metadata": {
    "execution": {
     "iopub.execute_input": "2022-10-20T11:14:00.996398Z",
     "iopub.status.busy": "2022-10-20T11:14:00.995890Z",
     "iopub.status.idle": "2022-10-20T11:14:01.006138Z",
     "shell.execute_reply": "2022-10-20T11:14:01.005609Z"
    },
    "id": "xawmSDGXUUzW"
   },
   "outputs": [],
   "source": [
    "# Load the train data\n",
    "X, y, class_names, _ = load_pose_landmarks(csvs_out_train_path)\n",
    "\n",
    "# Split training data (X, y) into (X_train, y_train) and (X_val, y_val)\n",
    "X_train, X_val, y_train, y_val = train_test_split(X, y,\n",
    "                                                  test_size=0.15)"
   ]
  },
  {
   "cell_type": "code",
   "execution_count": 40,
   "metadata": {
    "execution": {
     "iopub.execute_input": "2022-10-20T11:14:01.009428Z",
     "iopub.status.busy": "2022-10-20T11:14:01.008925Z",
     "iopub.status.idle": "2022-10-20T11:14:01.017076Z",
     "shell.execute_reply": "2022-10-20T11:14:01.016530Z"
    },
    "id": "R42kicUMaTX0"
   },
   "outputs": [],
   "source": [
    "# Load the test data\n",
    "X_test, y_test, _, df_test = load_pose_landmarks(csvs_out_test_path)"
   ]
  },
  {
   "cell_type": "code",
   "execution_count": 41,
   "metadata": {
    "execution": {
     "iopub.execute_input": "2022-10-20T11:14:01.020678Z",
     "iopub.status.busy": "2022-10-20T11:14:01.020283Z",
     "iopub.status.idle": "2022-10-20T11:14:01.028230Z",
     "shell.execute_reply": "2022-10-20T11:14:01.027690Z"
    },
    "id": "HgQMdfeT65Z5"
   },
   "outputs": [],
   "source": [
    "def get_center_point(landmarks, left_bodypart, right_bodypart):\n",
    "  \"\"\"Calculates the center point of the two given landmarks.\"\"\"\n",
    "\n",
    "  left = tf.gather(landmarks, left_bodypart.value, axis=1)\n",
    "  right = tf.gather(landmarks, right_bodypart.value, axis=1)\n",
    "  center = left * 0.5 + right * 0.5\n",
    "  return center\n",
    "\n",
    "\n",
    "def get_pose_size(landmarks, torso_size_multiplier=2.5):\n",
    "  \"\"\"Calculates pose size.\n",
    "\n",
    "  It is the maximum of two values:\n",
    "    * Torso size multiplied by `torso_size_multiplier`\n",
    "    * Maximum distance from pose center to any pose landmark\n",
    "  \"\"\"\n",
    "  # Hips center\n",
    "  hips_center = get_center_point(landmarks, BodyPart.LEFT_HIP, \n",
    "                                 BodyPart.RIGHT_HIP)\n",
    "\n",
    "  # Shoulders center\n",
    "  shoulders_center = get_center_point(landmarks, BodyPart.LEFT_SHOULDER,\n",
    "                                      BodyPart.RIGHT_SHOULDER)\n",
    "\n",
    "  # Torso size as the minimum body size\n",
    "  torso_size = tf.linalg.norm(shoulders_center - hips_center)\n",
    "\n",
    "  # Pose center\n",
    "  pose_center_new = get_center_point(landmarks, BodyPart.LEFT_HIP, \n",
    "                                     BodyPart.RIGHT_HIP)\n",
    "  pose_center_new = tf.expand_dims(pose_center_new, axis=1)\n",
    "  # Broadcast the pose center to the same size as the landmark vector to\n",
    "  # perform substraction\n",
    "  pose_center_new = tf.broadcast_to(pose_center_new,\n",
    "                                    [tf.size(landmarks) // (17*2), 17, 2])\n",
    "\n",
    "  # Dist to pose center\n",
    "  d = tf.gather(landmarks - pose_center_new, 0, axis=0,\n",
    "                name=\"dist_to_pose_center\")\n",
    "  # Max dist to pose center\n",
    "  max_dist = tf.reduce_max(tf.linalg.norm(d, axis=0))\n",
    "\n",
    "  # Normalize scale\n",
    "  pose_size = tf.maximum(torso_size * torso_size_multiplier, max_dist)\n",
    "\n",
    "  return pose_size\n",
    "\n",
    "\n",
    "def normalize_pose_landmarks(landmarks):\n",
    "  \"\"\"Normalizes the landmarks translation by moving the pose center to (0,0) and\n",
    "  scaling it to a constant pose size.\n",
    "  \"\"\"\n",
    "  # Move landmarks so that the pose center becomes (0,0)\n",
    "  pose_center = get_center_point(landmarks, BodyPart.LEFT_HIP, \n",
    "                                 BodyPart.RIGHT_HIP)\n",
    "  pose_center = tf.expand_dims(pose_center, axis=1)\n",
    "  # Broadcast the pose center to the same size as the landmark vector to perform\n",
    "  # substraction\n",
    "  pose_center = tf.broadcast_to(pose_center, \n",
    "                                [tf.size(landmarks) // (17*2), 17, 2])\n",
    "  landmarks = landmarks - pose_center\n",
    "\n",
    "  # Scale the landmarks to a constant pose size\n",
    "  pose_size = get_pose_size(landmarks)\n",
    "  landmarks /= pose_size\n",
    "\n",
    "  return landmarks\n",
    "\n",
    "\n",
    "def landmarks_to_embedding(landmarks_and_scores):\n",
    "  \"\"\"Converts the input landmarks into a pose embedding.\"\"\"\n",
    "  # Reshape the flat input into a matrix with shape=(17, 3)\n",
    "  reshaped_inputs = keras.layers.Reshape((17, 3))(landmarks_and_scores)\n",
    "\n",
    "  # Normalize landmarks 2D\n",
    "  landmarks = normalize_pose_landmarks(reshaped_inputs[:, :, :2])\n",
    "\n",
    "  # Flatten the normalized landmark coordinates into a vector\n",
    "  embedding = keras.layers.Flatten()(landmarks)\n",
    "\n",
    "  return embedding"
   ]
  },
  {
   "cell_type": "code",
   "execution_count": 42,
   "metadata": {
    "execution": {
     "iopub.execute_input": "2022-10-20T11:14:01.032317Z",
     "iopub.status.busy": "2022-10-20T11:14:01.031842Z",
     "iopub.status.idle": "2022-10-20T11:14:01.306958Z",
     "shell.execute_reply": "2022-10-20T11:14:01.306266Z"
    },
    "id": "1Pte6b1bgWKv"
   },
   "outputs": [
    {
     "name": "stdout",
     "output_type": "stream",
     "text": [
      "Model: \"model\"\n",
      "__________________________________________________________________________________________________\n",
      " Layer (type)                   Output Shape         Param #     Connected to                     \n",
      "==================================================================================================\n",
      " input_1 (InputLayer)           [(None, 51)]         0           []                               \n",
      "                                                                                                  \n",
      " reshape (Reshape)              (None, 17, 3)        0           ['input_1[0][0]']                \n",
      "                                                                                                  \n",
      " tf.__operators__.getitem (Slic  (None, 17, 2)       0           ['reshape[0][0]']                \n",
      " ingOpLambda)                                                                                     \n",
      "                                                                                                  \n",
      " tf.compat.v1.gather (TFOpLambd  (None, 2)           0           ['tf.__operators__.getitem[0][0]'\n",
      " a)                                                              ]                                \n",
      "                                                                                                  \n",
      " tf.compat.v1.gather_1 (TFOpLam  (None, 2)           0           ['tf.__operators__.getitem[0][0]'\n",
      " bda)                                                            ]                                \n",
      "                                                                                                  \n",
      " tf.math.multiply (TFOpLambda)  (None, 2)            0           ['tf.compat.v1.gather[0][0]']    \n",
      "                                                                                                  \n",
      " tf.math.multiply_1 (TFOpLambda  (None, 2)           0           ['tf.compat.v1.gather_1[0][0]']  \n",
      " )                                                                                                \n",
      "                                                                                                  \n",
      " tf.__operators__.add (TFOpLamb  (None, 2)           0           ['tf.math.multiply[0][0]',       \n",
      " da)                                                              'tf.math.multiply_1[0][0]']     \n",
      "                                                                                                  \n",
      " tf.compat.v1.size (TFOpLambda)  ()                  0           ['tf.__operators__.getitem[0][0]'\n",
      "                                                                 ]                                \n",
      "                                                                                                  \n",
      " tf.expand_dims (TFOpLambda)    (None, 1, 2)         0           ['tf.__operators__.add[0][0]']   \n",
      "                                                                                                  \n",
      " tf.compat.v1.floor_div (TFOpLa  ()                  0           ['tf.compat.v1.size[0][0]']      \n",
      " mbda)                                                                                            \n",
      "                                                                                                  \n",
      " tf.broadcast_to (TFOpLambda)   (None, 17, 2)        0           ['tf.expand_dims[0][0]',         \n",
      "                                                                  'tf.compat.v1.floor_div[0][0]'] \n",
      "                                                                                                  \n",
      " tf.math.subtract (TFOpLambda)  (None, 17, 2)        0           ['tf.__operators__.getitem[0][0]'\n",
      "                                                                 , 'tf.broadcast_to[0][0]']       \n",
      "                                                                                                  \n",
      " tf.compat.v1.gather_6 (TFOpLam  (None, 2)           0           ['tf.math.subtract[0][0]']       \n",
      " bda)                                                                                             \n",
      "                                                                                                  \n",
      " tf.compat.v1.gather_7 (TFOpLam  (None, 2)           0           ['tf.math.subtract[0][0]']       \n",
      " bda)                                                                                             \n",
      "                                                                                                  \n",
      " tf.math.multiply_6 (TFOpLambda  (None, 2)           0           ['tf.compat.v1.gather_6[0][0]']  \n",
      " )                                                                                                \n",
      "                                                                                                  \n",
      " tf.math.multiply_7 (TFOpLambda  (None, 2)           0           ['tf.compat.v1.gather_7[0][0]']  \n",
      " )                                                                                                \n",
      "                                                                                                  \n",
      " tf.__operators__.add_3 (TFOpLa  (None, 2)           0           ['tf.math.multiply_6[0][0]',     \n",
      " mbda)                                                            'tf.math.multiply_7[0][0]']     \n",
      "                                                                                                  \n",
      " tf.compat.v1.size_1 (TFOpLambd  ()                  0           ['tf.math.subtract[0][0]']       \n",
      " a)                                                                                               \n",
      "                                                                                                  \n",
      " tf.compat.v1.gather_4 (TFOpLam  (None, 2)           0           ['tf.math.subtract[0][0]']       \n",
      " bda)                                                                                             \n",
      "                                                                                                  \n",
      " tf.compat.v1.gather_5 (TFOpLam  (None, 2)           0           ['tf.math.subtract[0][0]']       \n",
      " bda)                                                                                             \n",
      "                                                                                                  \n",
      " tf.compat.v1.gather_2 (TFOpLam  (None, 2)           0           ['tf.math.subtract[0][0]']       \n",
      " bda)                                                                                             \n",
      "                                                                                                  \n",
      " tf.compat.v1.gather_3 (TFOpLam  (None, 2)           0           ['tf.math.subtract[0][0]']       \n",
      " bda)                                                                                             \n",
      "                                                                                                  \n",
      " tf.expand_dims_1 (TFOpLambda)  (None, 1, 2)         0           ['tf.__operators__.add_3[0][0]'] \n",
      "                                                                                                  \n",
      " tf.compat.v1.floor_div_1 (TFOp  ()                  0           ['tf.compat.v1.size_1[0][0]']    \n",
      " Lambda)                                                                                          \n",
      "                                                                                                  \n",
      " tf.math.multiply_4 (TFOpLambda  (None, 2)           0           ['tf.compat.v1.gather_4[0][0]']  \n",
      " )                                                                                                \n",
      "                                                                                                  \n",
      " tf.math.multiply_5 (TFOpLambda  (None, 2)           0           ['tf.compat.v1.gather_5[0][0]']  \n",
      " )                                                                                                \n",
      "                                                                                                  \n",
      " tf.math.multiply_2 (TFOpLambda  (None, 2)           0           ['tf.compat.v1.gather_2[0][0]']  \n",
      " )                                                                                                \n",
      "                                                                                                  \n",
      " tf.math.multiply_3 (TFOpLambda  (None, 2)           0           ['tf.compat.v1.gather_3[0][0]']  \n",
      " )                                                                                                \n",
      "                                                                                                  \n",
      " tf.broadcast_to_1 (TFOpLambda)  (None, 17, 2)       0           ['tf.expand_dims_1[0][0]',       \n",
      "                                                                  'tf.compat.v1.floor_div_1[0][0]'\n",
      "                                                                 ]                                \n",
      "                                                                                                  \n",
      " tf.__operators__.add_2 (TFOpLa  (None, 2)           0           ['tf.math.multiply_4[0][0]',     \n",
      " mbda)                                                            'tf.math.multiply_5[0][0]']     \n",
      "                                                                                                  \n",
      " tf.__operators__.add_1 (TFOpLa  (None, 2)           0           ['tf.math.multiply_2[0][0]',     \n",
      " mbda)                                                            'tf.math.multiply_3[0][0]']     \n",
      "                                                                                                  \n",
      " tf.math.subtract_2 (TFOpLambda  (None, 17, 2)       0           ['tf.math.subtract[0][0]',       \n",
      " )                                                                'tf.broadcast_to_1[0][0]']      \n",
      "                                                                                                  \n",
      " tf.math.subtract_1 (TFOpLambda  (None, 2)           0           ['tf.__operators__.add_2[0][0]', \n",
      " )                                                                'tf.__operators__.add_1[0][0]'] \n",
      "                                                                                                  \n",
      " tf.compat.v1.gather_8 (TFOpLam  (17, 2)             0           ['tf.math.subtract_2[0][0]']     \n",
      " bda)                                                                                             \n",
      "                                                                                                  \n",
      " tf.compat.v1.norm (TFOpLambda)  ()                  0           ['tf.math.subtract_1[0][0]']     \n",
      "                                                                                                  \n",
      " tf.compat.v1.norm_1 (TFOpLambd  (2,)                0           ['tf.compat.v1.gather_8[0][0]']  \n",
      " a)                                                                                               \n",
      "                                                                                                  \n",
      " tf.math.multiply_8 (TFOpLambda  ()                  0           ['tf.compat.v1.norm[0][0]']      \n",
      " )                                                                                                \n",
      "                                                                                                  \n",
      " tf.math.reduce_max (TFOpLambda  ()                  0           ['tf.compat.v1.norm_1[0][0]']    \n",
      " )                                                                                                \n",
      "                                                                                                  \n",
      " tf.math.maximum (TFOpLambda)   ()                   0           ['tf.math.multiply_8[0][0]',     \n",
      "                                                                  'tf.math.reduce_max[0][0]']     \n",
      "                                                                                                  \n",
      " tf.math.truediv (TFOpLambda)   (None, 17, 2)        0           ['tf.math.subtract[0][0]',       \n",
      "                                                                  'tf.math.maximum[0][0]']        \n",
      "                                                                                                  \n",
      " flatten (Flatten)              (None, 34)           0           ['tf.math.truediv[0][0]']        \n",
      "                                                                                                  \n",
      " dense (Dense)                  (None, 128)          4480        ['flatten[0][0]']                \n",
      "                                                                                                  \n",
      " dropout (Dropout)              (None, 128)          0           ['dense[0][0]']                  \n",
      "                                                                                                  \n",
      " dense_1 (Dense)                (None, 64)           8256        ['dropout[0][0]']                \n",
      "                                                                                                  \n",
      " dropout_1 (Dropout)            (None, 64)           0           ['dense_1[0][0]']                \n",
      "                                                                                                  \n",
      " dense_2 (Dense)                (None, 5)            325         ['dropout_1[0][0]']              \n",
      "                                                                                                  \n",
      "==================================================================================================\n",
      "Total params: 13,061\n",
      "Trainable params: 13,061\n",
      "Non-trainable params: 0\n",
      "__________________________________________________________________________________________________\n"
     ]
    }
   ],
   "source": [
    "# Define the model\n",
    "inputs = tf.keras.Input(shape=(51))\n",
    "embedding = landmarks_to_embedding(inputs)\n",
    "\n",
    "layer = keras.layers.Dense(128, activation=tf.nn.relu6)(embedding)\n",
    "layer = keras.layers.Dropout(0.5)(layer)\n",
    "layer = keras.layers.Dense(64, activation=tf.nn.relu6)(layer)\n",
    "layer = keras.layers.Dropout(0.5)(layer)\n",
    "outputs = keras.layers.Dense(len(class_names), activation=\"softmax\")(layer)\n",
    "\n",
    "model = keras.Model(inputs, outputs)\n",
    "model.summary()"
   ]
  },
  {
   "cell_type": "code",
   "execution_count": 43,
   "metadata": {},
   "outputs": [
    {
     "name": "stdout",
     "output_type": "stream",
     "text": [
      "WARNING:tensorflow:Compiled the loaded model, but the compiled metrics have yet to be built. `model.compile_metrics` will be empty until you train or evaluate the model.\n"
     ]
    }
   ],
   "source": [
    "model.save('mymodel.h5')"
   ]
  },
  {
   "cell_type": "code",
   "execution_count": 21,
   "metadata": {
    "execution": {
     "iopub.execute_input": "2022-10-20T11:14:01.352057Z",
     "iopub.status.busy": "2022-10-20T11:14:01.351807Z",
     "iopub.status.idle": "2022-10-20T11:14:12.182871Z",
     "shell.execute_reply": "2022-10-20T11:14:12.182178Z"
    },
    "id": "5ZuMwd7Ugtsa"
   },
   "outputs": [
    {
     "name": "stdout",
     "output_type": "stream",
     "text": [
      "Epoch 1/200\n"
     ]
    },
    {
     "name": "stdout",
     "output_type": "stream",
     "text": [
      "\r\n",
      " 1/37 [..............................] - ETA: 2:07 - loss: 1.6516 - accuracy: 0.0625"
     ]
    },
    {
     "name": "stdout",
     "output_type": "stream",
     "text": [
      "\b\b\b\b\b\b\b\b\b\b\b\b\b\b\b\b\b\b\b\b\b\b\b\b\b\b\b\b\b\b\b\b\b\b\b\b\b\b\b\b\b\b\b\b\b\b\b\b\b\b\b\b\b\b\b\b\b\b\b\b\b\b\b\b\b\b\b\b\b\b\b\b\b\b\b\b\b\b\b\b\b\b\b\b\r\n",
      "19/37 [==============>...............] - ETA: 0s - loss: 1.5809 - accuracy: 0.2697  "
     ]
    },
    {
     "name": "stdout",
     "output_type": "stream",
     "text": [
      "\b\b\b\b\b\b\b\b\b\b\b\b\b\b\b\b\b\b\b\b\b\b\b\b\b\b\b\b\b\b\b\b\b\b\b\b\b\b\b\b\b\b\b\b\b\b\b\b\b\b\b\b\b\b\b\b\b\b\b\b\b\b\b\b\b\b\b\b\b\b\b\b\b\b\b\b\b\b\b\b\b\b\r\n",
      "37/37 [==============================] - ETA: 0s - loss: 1.5338 - accuracy: 0.3702"
     ]
    },
    {
     "name": "stdout",
     "output_type": "stream",
     "text": [
      "\n",
      "Epoch 1: val_accuracy improved from -inf to 0.46078, saving model to weights.best.hdf5\n"
     ]
    },
    {
     "name": "stdout",
     "output_type": "stream",
     "text": [
      "\b\b\b\b\b\b\b\b\b\b\b\b\b\b\b\b\b\b\b\b\b\b\b\b\b\b\b\b\b\b\b\b\b\b\b\b\b\b\b\b\b\b\b\b\b\b\b\b\b\b\b\b\b\b\b\b\b\b\b\b\b\b\b\b\b\b\b\b\b\b\b\b\b\b\b\b\b\b\b\b\b\b\r\n",
      "37/37 [==============================] - 4s 12ms/step - loss: 1.5338 - accuracy: 0.3702 - val_loss: 1.3954 - val_accuracy: 0.4608\n"
     ]
    },
    {
     "name": "stdout",
     "output_type": "stream",
     "text": [
      "Epoch 2/200\n"
     ]
    },
    {
     "name": "stdout",
     "output_type": "stream",
     "text": [
      "\r\n",
      " 1/37 [..............................] - ETA: 0s - loss: 1.4273 - accuracy: 0.4375"
     ]
    },
    {
     "name": "stdout",
     "output_type": "stream",
     "text": [
      "\b\b\b\b\b\b\b\b\b\b\b\b\b\b\b\b\b\b\b\b\b\b\b\b\b\b\b\b\b\b\b\b\b\b\b\b\b\b\b\b\b\b\b\b\b\b\b\b\b\b\b\b\b\b\b\b\b\b\b\b\b\b\b\b\b\b\b\b\b\b\b\b\b\b\b\b\b\b\b\b\b\b\r\n",
      "20/37 [===============>..............] - ETA: 0s - loss: 1.3273 - accuracy: 0.5000"
     ]
    },
    {
     "name": "stdout",
     "output_type": "stream",
     "text": [
      "\n",
      "Epoch 2: val_accuracy improved from 0.46078 to 0.64706, saving model to weights.best.hdf5\n"
     ]
    },
    {
     "name": "stdout",
     "output_type": "stream",
     "text": [
      "\b\b\b\b\b\b\b\b\b\b\b\b\b\b\b\b\b\b\b\b\b\b\b\b\b\b\b\b\b\b\b\b\b\b\b\b\b\b\b\b\b\b\b\b\b\b\b\b\b\b\b\b\b\b\b\b\b\b\b\b\b\b\b\b\b\b\b\b\b\b\b\b\b\b\b\b\b\b\b\b\b\b\r\n",
      "37/37 [==============================] - 0s 5ms/step - loss: 1.2609 - accuracy: 0.4896 - val_loss: 1.0494 - val_accuracy: 0.6471\n"
     ]
    },
    {
     "name": "stdout",
     "output_type": "stream",
     "text": [
      "Epoch 3/200\n"
     ]
    },
    {
     "name": "stdout",
     "output_type": "stream",
     "text": [
      "\r\n",
      " 1/37 [..............................] - ETA: 0s - loss: 1.2627 - accuracy: 0.3750"
     ]
    },
    {
     "name": "stdout",
     "output_type": "stream",
     "text": [
      "\b\b\b\b\b\b\b\b\b\b\b\b\b\b\b\b\b\b\b\b\b\b\b\b\b\b\b\b\b\b\b\b\b\b\b\b\b\b\b\b\b\b\b\b\b\b\b\b\b\b\b\b\b\b\b\b\b\b\b\b\b\b\b\b\b\b\b\b\b\b\b\b\b\b\b\b\b\b\b\b\b\b\r\n",
      "20/37 [===============>..............] - ETA: 0s - loss: 1.0551 - accuracy: 0.5469"
     ]
    },
    {
     "name": "stdout",
     "output_type": "stream",
     "text": [
      "\n",
      "Epoch 3: val_accuracy improved from 0.64706 to 0.72549, saving model to weights.best.hdf5\n"
     ]
    },
    {
     "name": "stdout",
     "output_type": "stream",
     "text": [
      "\b\b\b\b\b\b\b\b\b\b\b\b\b\b\b\b\b\b\b\b\b\b\b\b\b\b\b\b\b\b\b\b\b\b\b\b\b\b\b\b\b\b\b\b\b\b\b\b\b\b\b\b\b\b\b\b\b\b\b\b\b\b\b\b\b\b\b\b\b\b\b\b\b\b\b\b\b\b\b\b\b\b\r\n",
      "37/37 [==============================] - 0s 5ms/step - loss: 1.0066 - accuracy: 0.5675 - val_loss: 0.8727 - val_accuracy: 0.7255\n"
     ]
    },
    {
     "name": "stdout",
     "output_type": "stream",
     "text": [
      "Epoch 4/200\n"
     ]
    },
    {
     "name": "stdout",
     "output_type": "stream",
     "text": [
      "\r\n",
      " 1/37 [..............................] - ETA: 0s - loss: 0.9028 - accuracy: 0.5625"
     ]
    },
    {
     "name": "stdout",
     "output_type": "stream",
     "text": [
      "\b\b\b\b\b\b\b\b\b\b\b\b\b\b\b\b\b\b\b\b\b\b\b\b\b\b\b\b\b\b\b\b\b\b\b\b\b\b\b\b\b\b\b\b\b\b\b\b\b\b\b\b\b\b\b\b\b\b\b\b\b\b\b\b\b\b\b\b\b\b\b\b\b\b\b\b\b\b\b\b\b\b\r\n",
      "20/37 [===============>..............] - ETA: 0s - loss: 0.8850 - accuracy: 0.5844"
     ]
    },
    {
     "name": "stdout",
     "output_type": "stream",
     "text": [
      "\n",
      "Epoch 4: val_accuracy improved from 0.72549 to 0.73529, saving model to weights.best.hdf5\n"
     ]
    },
    {
     "name": "stdout",
     "output_type": "stream",
     "text": [
      "\b\b\b\b\b\b\b\b\b\b\b\b\b\b\b\b\b\b\b\b\b\b\b\b\b\b\b\b\b\b\b\b\b\b\b\b\b\b\b\b\b\b\b\b\b\b\b\b\b\b\b\b\b\b\b\b\b\b\b\b\b\b\b\b\b\b\b\b\b\b\b\b\b\b\b\b\b\b\b\b\b\b\r\n",
      "37/37 [==============================] - 0s 5ms/step - loss: 0.8592 - accuracy: 0.6211 - val_loss: 0.7408 - val_accuracy: 0.7353\n"
     ]
    },
    {
     "name": "stdout",
     "output_type": "stream",
     "text": [
      "Epoch 5/200\n"
     ]
    },
    {
     "name": "stdout",
     "output_type": "stream",
     "text": [
      "\r\n",
      " 1/37 [..............................] - ETA: 0s - loss: 0.6837 - accuracy: 0.6875"
     ]
    },
    {
     "name": "stdout",
     "output_type": "stream",
     "text": [
      "\b\b\b\b\b\b\b\b\b\b\b\b\b\b\b\b\b\b\b\b\b\b\b\b\b\b\b\b\b\b\b\b\b\b\b\b\b\b\b\b\b\b\b\b\b\b\b\b\b\b\b\b\b\b\b\b\b\b\b\b\b\b\b\b\b\b\b\b\b\b\b\b\b\b\b\b\b\b\b\b\b\b\r\n",
      "19/37 [==============>...............] - ETA: 0s - loss: 0.7872 - accuracy: 0.6579"
     ]
    },
    {
     "name": "stdout",
     "output_type": "stream",
     "text": [
      "\b\b\b\b\b\b\b\b\b\b\b\b\b\b\b\b\b\b\b\b\b\b\b\b\b\b\b\b\b\b\b\b\b\b\b\b\b\b\b\b\b\b\b\b\b\b\b\b\b\b\b\b\b\b\b\b\b\b\b\b\b\b\b\b\b\b\b\b\b\b\b\b\b\b\b\b\b\b\b\b\b\b\r\n",
      "37/37 [==============================] - ETA: 0s - loss: 0.7872 - accuracy: 0.6730"
     ]
    },
    {
     "name": "stdout",
     "output_type": "stream",
     "text": [
      "\n",
      "Epoch 5: val_accuracy improved from 0.73529 to 0.75490, saving model to weights.best.hdf5\n"
     ]
    },
    {
     "name": "stdout",
     "output_type": "stream",
     "text": [
      "\b\b\b\b\b\b\b\b\b\b\b\b\b\b\b\b\b\b\b\b\b\b\b\b\b\b\b\b\b\b\b\b\b\b\b\b\b\b\b\b\b\b\b\b\b\b\b\b\b\b\b\b\b\b\b\b\b\b\b\b\b\b\b\b\b\b\b\b\b\b\b\b\b\b\b\b\b\b\b\b\b\b\r\n",
      "37/37 [==============================] - 0s 5ms/step - loss: 0.7872 - accuracy: 0.6730 - val_loss: 0.6484 - val_accuracy: 0.7549\n"
     ]
    },
    {
     "name": "stdout",
     "output_type": "stream",
     "text": [
      "Epoch 6/200\n"
     ]
    },
    {
     "name": "stdout",
     "output_type": "stream",
     "text": [
      "\r\n",
      " 1/37 [..............................] - ETA: 0s - loss: 0.7384 - accuracy: 0.7500"
     ]
    },
    {
     "name": "stdout",
     "output_type": "stream",
     "text": [
      "\b\b\b\b\b\b\b\b\b\b\b\b\b\b\b\b\b\b\b\b\b\b\b\b\b\b\b\b\b\b\b\b\b\b\b\b\b\b\b\b\b\b\b\b\b\b\b\b\b\b\b\b\b\b\b\b\b\b\b\b\b\b\b\b\b\b\b\b\b\b\b\b\b\b\b\b\b\b\b\b\b\b\r\n",
      "20/37 [===============>..............] - ETA: 0s - loss: 0.7569 - accuracy: 0.7125"
     ]
    },
    {
     "name": "stdout",
     "output_type": "stream",
     "text": [
      "\n",
      "Epoch 6: val_accuracy did not improve from 0.75490\n"
     ]
    },
    {
     "name": "stdout",
     "output_type": "stream",
     "text": [
      "\b\b\b\b\b\b\b\b\b\b\b\b\b\b\b\b\b\b\b\b\b\b\b\b\b\b\b\b\b\b\b\b\b\b\b\b\b\b\b\b\b\b\b\b\b\b\b\b\b\b\b\b\b\b\b\b\b\b\b\b\b\b\b\b\b\b\b\b\b\b\b\b\b\b\b\b\b\b\b\b\b\b\r\n",
      "37/37 [==============================] - 0s 4ms/step - loss: 0.7268 - accuracy: 0.7042 - val_loss: 0.5973 - val_accuracy: 0.7353\n"
     ]
    },
    {
     "name": "stdout",
     "output_type": "stream",
     "text": [
      "Epoch 7/200\n"
     ]
    },
    {
     "name": "stdout",
     "output_type": "stream",
     "text": [
      "\r\n",
      " 1/37 [..............................] - ETA: 0s - loss: 0.5694 - accuracy: 0.8750"
     ]
    },
    {
     "name": "stdout",
     "output_type": "stream",
     "text": [
      "\b\b\b\b\b\b\b\b\b\b\b\b\b\b\b\b\b\b\b\b\b\b\b\b\b\b\b\b\b\b\b\b\b\b\b\b\b\b\b\b\b\b\b\b\b\b\b\b\b\b\b\b\b\b\b\b\b\b\b\b\b\b\b\b\b\b\b\b\b\b\b\b\b\b\b\b\b\b\b\b\b\b\r\n",
      "20/37 [===============>..............] - ETA: 0s - loss: 0.6100 - accuracy: 0.7531"
     ]
    },
    {
     "name": "stdout",
     "output_type": "stream",
     "text": [
      "\n",
      "Epoch 7: val_accuracy improved from 0.75490 to 0.81373, saving model to weights.best.hdf5\n"
     ]
    },
    {
     "name": "stdout",
     "output_type": "stream",
     "text": [
      "\b\b\b\b\b\b\b\b\b\b\b\b\b\b\b\b\b\b\b\b\b\b\b\b\b\b\b\b\b\b\b\b\b\b\b\b\b\b\b\b\b\b\b\b\b\b\b\b\b\b\b\b\b\b\b\b\b\b\b\b\b\b\b\b\b\b\b\b\b\b\b\b\b\b\b\b\b\b\b\b\b\b\r\n",
      "37/37 [==============================] - 0s 5ms/step - loss: 0.6341 - accuracy: 0.7526 - val_loss: 0.5191 - val_accuracy: 0.8137\n"
     ]
    },
    {
     "name": "stdout",
     "output_type": "stream",
     "text": [
      "Epoch 8/200\n"
     ]
    },
    {
     "name": "stdout",
     "output_type": "stream",
     "text": [
      "\r\n",
      " 1/37 [..............................] - ETA: 0s - loss: 0.6373 - accuracy: 0.8125"
     ]
    },
    {
     "name": "stdout",
     "output_type": "stream",
     "text": [
      "\b\b\b\b\b\b\b\b\b\b\b\b\b\b\b\b\b\b\b\b\b\b\b\b\b\b\b\b\b\b\b\b\b\b\b\b\b\b\b\b\b\b\b\b\b\b\b\b\b\b\b\b\b\b\b\b\b\b\b\b\b\b\b\b\b\b\b\b\b\b\b\b\b\b\b\b\b\b\b\b\b\b\r\n",
      "21/37 [================>.............] - ETA: 0s - loss: 0.6065 - accuracy: 0.7798"
     ]
    },
    {
     "name": "stdout",
     "output_type": "stream",
     "text": [
      "\n",
      "Epoch 8: val_accuracy improved from 0.81373 to 0.83333, saving model to weights.best.hdf5\n"
     ]
    },
    {
     "name": "stdout",
     "output_type": "stream",
     "text": [
      "\b\b\b\b\b\b\b\b\b\b\b\b\b\b\b\b\b\b\b\b\b\b\b\b\b\b\b\b\b\b\b\b\b\b\b\b\b\b\b\b\b\b\b\b\b\b\b\b\b\b\b\b\b\b\b\b\b\b\b\b\b\b\b\b\b\b\b\b\b\b\b\b\b\b\b\b\b\b\b\b\b\b\r\n",
      "37/37 [==============================] - 0s 4ms/step - loss: 0.5916 - accuracy: 0.7734 - val_loss: 0.4880 - val_accuracy: 0.8333\n"
     ]
    },
    {
     "name": "stdout",
     "output_type": "stream",
     "text": [
      "Epoch 9/200\n"
     ]
    },
    {
     "name": "stdout",
     "output_type": "stream",
     "text": [
      "\r\n",
      " 1/37 [..............................] - ETA: 0s - loss: 0.5748 - accuracy: 0.7500"
     ]
    },
    {
     "name": "stdout",
     "output_type": "stream",
     "text": [
      "\b\b\b\b\b\b\b\b\b\b\b\b\b\b\b\b\b\b\b\b\b\b\b\b\b\b\b\b\b\b\b\b\b\b\b\b\b\b\b\b\b\b\b\b\b\b\b\b\b\b\b\b\b\b\b\b\b\b\b\b\b\b\b\b\b\b\b\b\b\b\b\b\b\b\b\b\b\b\b\b\b\b\r\n",
      "20/37 [===============>..............] - ETA: 0s - loss: 0.5720 - accuracy: 0.8156"
     ]
    },
    {
     "name": "stdout",
     "output_type": "stream",
     "text": [
      "\n",
      "Epoch 9: val_accuracy improved from 0.83333 to 0.86275, saving model to weights.best.hdf5\n"
     ]
    },
    {
     "name": "stdout",
     "output_type": "stream",
     "text": [
      "\b\b\b\b\b\b\b\b\b\b\b\b\b\b\b\b\b\b\b\b\b\b\b\b\b\b\b\b\b\b\b\b\b\b\b\b\b\b\b\b\b\b\b\b\b\b\b\b\b\b\b\b\b\b\b\b\b\b\b\b\b\b\b\b\b\b\b\b\b\b\b\b\b\b\b\b\b\b\b\b\b\b\r\n",
      "37/37 [==============================] - 0s 5ms/step - loss: 0.5482 - accuracy: 0.8114 - val_loss: 0.4396 - val_accuracy: 0.8627\n"
     ]
    },
    {
     "name": "stdout",
     "output_type": "stream",
     "text": [
      "Epoch 10/200\n"
     ]
    },
    {
     "name": "stdout",
     "output_type": "stream",
     "text": [
      "\r\n",
      " 1/37 [..............................] - ETA: 0s - loss: 0.3922 - accuracy: 0.8750"
     ]
    },
    {
     "name": "stdout",
     "output_type": "stream",
     "text": [
      "\b\b\b\b\b\b\b\b\b\b\b\b\b\b\b\b\b\b\b\b\b\b\b\b\b\b\b\b\b\b\b\b\b\b\b\b\b\b\b\b\b\b\b\b\b\b\b\b\b\b\b\b\b\b\b\b\b\b\b\b\b\b\b\b\b\b\b\b\b\b\b\b\b\b\b\b\b\b\b\b\b\b\r\n",
      "20/37 [===============>..............] - ETA: 0s - loss: 0.5046 - accuracy: 0.8000"
     ]
    },
    {
     "name": "stdout",
     "output_type": "stream",
     "text": [
      "\n",
      "Epoch 10: val_accuracy improved from 0.86275 to 0.89216, saving model to weights.best.hdf5\n"
     ]
    },
    {
     "name": "stdout",
     "output_type": "stream",
     "text": [
      "\b\b\b\b\b\b\b\b\b\b\b\b\b\b\b\b\b\b\b\b\b\b\b\b\b\b\b\b\b\b\b\b\b\b\b\b\b\b\b\b\b\b\b\b\b\b\b\b\b\b\b\b\b\b\b\b\b\b\b\b\b\b\b\b\b\b\b\b\b\b\b\b\b\b\b\b\b\b\b\b\b\b\r\n",
      "37/37 [==============================] - 0s 5ms/step - loss: 0.5126 - accuracy: 0.8062 - val_loss: 0.3829 - val_accuracy: 0.8922\n"
     ]
    },
    {
     "name": "stdout",
     "output_type": "stream",
     "text": [
      "Epoch 11/200\n"
     ]
    },
    {
     "name": "stdout",
     "output_type": "stream",
     "text": [
      "\r\n",
      " 1/37 [..............................] - ETA: 0s - loss: 0.4086 - accuracy: 0.8125"
     ]
    },
    {
     "name": "stdout",
     "output_type": "stream",
     "text": [
      "\b\b\b\b\b\b\b\b\b\b\b\b\b\b\b\b\b\b\b\b\b\b\b\b\b\b\b\b\b\b\b\b\b\b\b\b\b\b\b\b\b\b\b\b\b\b\b\b\b\b\b\b\b\b\b\b\b\b\b\b\b\b\b\b\b\b\b\b\b\b\b\b\b\b\b\b\b\b\b\b\b\b\r\n",
      "19/37 [==============>...............] - ETA: 0s - loss: 0.5013 - accuracy: 0.7993"
     ]
    },
    {
     "name": "stdout",
     "output_type": "stream",
     "text": [
      "\b\b\b\b\b\b\b\b\b\b\b\b\b\b\b\b\b\b\b\b\b\b\b\b\b\b\b\b\b\b\b\b\b\b\b\b\b\b\b\b\b\b\b\b\b\b\b\b\b\b\b\b\b\b\b\b\b\b\b\b\b\b\b\b\b\b\b\b\b\b\b\b\b\b\b\b\b\b\b\b\b\b\r\n",
      "37/37 [==============================] - ETA: 0s - loss: 0.4710 - accuracy: 0.8253"
     ]
    },
    {
     "name": "stdout",
     "output_type": "stream",
     "text": [
      "\n",
      "Epoch 11: val_accuracy improved from 0.89216 to 0.90196, saving model to weights.best.hdf5\n"
     ]
    },
    {
     "name": "stdout",
     "output_type": "stream",
     "text": [
      "\b\b\b\b\b\b\b\b\b\b\b\b\b\b\b\b\b\b\b\b\b\b\b\b\b\b\b\b\b\b\b\b\b\b\b\b\b\b\b\b\b\b\b\b\b\b\b\b\b\b\b\b\b\b\b\b\b\b\b\b\b\b\b\b\b\b\b\b\b\b\b\b\b\b\b\b\b\b\b\b\b\b\r\n",
      "37/37 [==============================] - 0s 5ms/step - loss: 0.4710 - accuracy: 0.8253 - val_loss: 0.3636 - val_accuracy: 0.9020\n"
     ]
    },
    {
     "name": "stdout",
     "output_type": "stream",
     "text": [
      "Epoch 12/200\n"
     ]
    },
    {
     "name": "stdout",
     "output_type": "stream",
     "text": [
      "\r\n",
      " 1/37 [..............................] - ETA: 0s - loss: 0.4242 - accuracy: 0.8125"
     ]
    },
    {
     "name": "stdout",
     "output_type": "stream",
     "text": [
      "\b\b\b\b\b\b\b\b\b\b\b\b\b\b\b\b\b\b\b\b\b\b\b\b\b\b\b\b\b\b\b\b\b\b\b\b\b\b\b\b\b\b\b\b\b\b\b\b\b\b\b\b\b\b\b\b\b\b\b\b\b\b\b\b\b\b\b\b\b\b\b\b\b\b\b\b\b\b\b\b\b\b\r\n",
      "20/37 [===============>..............] - ETA: 0s - loss: 0.4332 - accuracy: 0.8406"
     ]
    },
    {
     "name": "stdout",
     "output_type": "stream",
     "text": [
      "\n",
      "Epoch 12: val_accuracy did not improve from 0.90196\n"
     ]
    },
    {
     "name": "stdout",
     "output_type": "stream",
     "text": [
      "\b\b\b\b\b\b\b\b\b\b\b\b\b\b\b\b\b\b\b\b\b\b\b\b\b\b\b\b\b\b\b\b\b\b\b\b\b\b\b\b\b\b\b\b\b\b\b\b\b\b\b\b\b\b\b\b\b\b\b\b\b\b\b\b\b\b\b\b\b\b\b\b\b\b\b\b\b\b\b\b\b\b\r\n",
      "37/37 [==============================] - 0s 4ms/step - loss: 0.4498 - accuracy: 0.8356 - val_loss: 0.3243 - val_accuracy: 0.9020\n"
     ]
    },
    {
     "name": "stdout",
     "output_type": "stream",
     "text": [
      "Epoch 13/200\n"
     ]
    },
    {
     "name": "stdout",
     "output_type": "stream",
     "text": [
      "\r\n",
      " 1/37 [..............................] - ETA: 0s - loss: 0.5416 - accuracy: 0.7500"
     ]
    },
    {
     "name": "stdout",
     "output_type": "stream",
     "text": [
      "\b\b\b\b\b\b\b\b\b\b\b\b\b\b\b\b\b\b\b\b\b\b\b\b\b\b\b\b\b\b\b\b\b\b\b\b\b\b\b\b\b\b\b\b\b\b\b\b\b\b\b\b\b\b\b\b\b\b\b\b\b\b\b\b\b\b\b\b\b\b\b\b\b\b\b\b\b\b\b\b\b\b\r\n",
      "19/37 [==============>...............] - ETA: 0s - loss: 0.4003 - accuracy: 0.8750"
     ]
    },
    {
     "name": "stdout",
     "output_type": "stream",
     "text": [
      "\n",
      "Epoch 13: val_accuracy improved from 0.90196 to 0.91176, saving model to weights.best.hdf5\n"
     ]
    },
    {
     "name": "stdout",
     "output_type": "stream",
     "text": [
      "\b\b\b\b\b\b\b\b\b\b\b\b\b\b\b\b\b\b\b\b\b\b\b\b\b\b\b\b\b\b\b\b\b\b\b\b\b\b\b\b\b\b\b\b\b\b\b\b\b\b\b\b\b\b\b\b\b\b\b\b\b\b\b\b\b\b\b\b\b\b\b\b\b\b\b\b\b\b\b\b\b\b\r\n",
      "37/37 [==============================] - 0s 5ms/step - loss: 0.4055 - accuracy: 0.8668 - val_loss: 0.3064 - val_accuracy: 0.9118\n"
     ]
    },
    {
     "name": "stdout",
     "output_type": "stream",
     "text": [
      "Epoch 14/200\n"
     ]
    },
    {
     "name": "stdout",
     "output_type": "stream",
     "text": [
      "\r\n",
      " 1/37 [..............................] - ETA: 0s - loss: 0.2418 - accuracy: 1.0000"
     ]
    },
    {
     "name": "stdout",
     "output_type": "stream",
     "text": [
      "\b\b\b\b\b\b\b\b\b\b\b\b\b\b\b\b\b\b\b\b\b\b\b\b\b\b\b\b\b\b\b\b\b\b\b\b\b\b\b\b\b\b\b\b\b\b\b\b\b\b\b\b\b\b\b\b\b\b\b\b\b\b\b\b\b\b\b\b\b\b\b\b\b\b\b\b\b\b\b\b\b\b\r\n",
      "19/37 [==============>...............] - ETA: 0s - loss: 0.3854 - accuracy: 0.8882"
     ]
    },
    {
     "name": "stdout",
     "output_type": "stream",
     "text": [
      "\b\b\b\b\b\b\b\b\b\b\b\b\b\b\b\b\b\b\b\b\b\b\b\b\b\b\b\b\b\b\b\b\b\b\b\b\b\b\b\b\b\b\b\b\b\b\b\b\b\b\b\b\b\b\b\b\b\b\b\b\b\b\b\b\b\b\b\b\b\b\b\b\b\b\b\b\b\b\b\b\b\b\r\n",
      "37/37 [==============================] - ETA: 0s - loss: 0.3754 - accuracy: 0.8875"
     ]
    },
    {
     "name": "stdout",
     "output_type": "stream",
     "text": [
      "\n",
      "Epoch 14: val_accuracy improved from 0.91176 to 0.92157, saving model to weights.best.hdf5\n"
     ]
    },
    {
     "name": "stdout",
     "output_type": "stream",
     "text": [
      "\b\b\b\b\b\b\b\b\b\b\b\b\b\b\b\b\b\b\b\b\b\b\b\b\b\b\b\b\b\b\b\b\b\b\b\b\b\b\b\b\b\b\b\b\b\b\b\b\b\b\b\b\b\b\b\b\b\b\b\b\b\b\b\b\b\b\b\b\b\b\b\b\b\b\b\b\b\b\b\b\b\b\r\n",
      "37/37 [==============================] - 0s 5ms/step - loss: 0.3754 - accuracy: 0.8875 - val_loss: 0.2745 - val_accuracy: 0.9216\n"
     ]
    },
    {
     "name": "stdout",
     "output_type": "stream",
     "text": [
      "Epoch 15/200\n"
     ]
    },
    {
     "name": "stdout",
     "output_type": "stream",
     "text": [
      "\r\n",
      " 1/37 [..............................] - ETA: 0s - loss: 0.2987 - accuracy: 1.0000"
     ]
    },
    {
     "name": "stdout",
     "output_type": "stream",
     "text": [
      "\b\b\b\b\b\b\b\b\b\b\b\b\b\b\b\b\b\b\b\b\b\b\b\b\b\b\b\b\b\b\b\b\b\b\b\b\b\b\b\b\b\b\b\b\b\b\b\b\b\b\b\b\b\b\b\b\b\b\b\b\b\b\b\b\b\b\b\b\b\b\b\b\b\b\b\b\b\b\b\b\b\b\r\n",
      "20/37 [===============>..............] - ETA: 0s - loss: 0.3768 - accuracy: 0.8875"
     ]
    },
    {
     "name": "stdout",
     "output_type": "stream",
     "text": [
      "\n",
      "Epoch 15: val_accuracy improved from 0.92157 to 0.93137, saving model to weights.best.hdf5\n"
     ]
    },
    {
     "name": "stdout",
     "output_type": "stream",
     "text": [
      "\b\b\b\b\b\b\b\b\b\b\b\b\b\b\b\b\b\b\b\b\b\b\b\b\b\b\b\b\b\b\b\b\b\b\b\b\b\b\b\b\b\b\b\b\b\b\b\b\b\b\b\b\b\b\b\b\b\b\b\b\b\b\b\b\b\b\b\b\b\b\b\b\b\b\b\b\b\b\b\b\b\b\r\n",
      "37/37 [==============================] - 0s 5ms/step - loss: 0.3603 - accuracy: 0.8962 - val_loss: 0.2443 - val_accuracy: 0.9314\n"
     ]
    },
    {
     "name": "stdout",
     "output_type": "stream",
     "text": [
      "Epoch 16/200\n"
     ]
    },
    {
     "name": "stdout",
     "output_type": "stream",
     "text": [
      "\r\n",
      " 1/37 [..............................] - ETA: 0s - loss: 0.3366 - accuracy: 0.9375"
     ]
    },
    {
     "name": "stdout",
     "output_type": "stream",
     "text": [
      "\b\b\b\b\b\b\b\b\b\b\b\b\b\b\b\b\b\b\b\b\b\b\b\b\b\b\b\b\b\b\b\b\b\b\b\b\b\b\b\b\b\b\b\b\b\b\b\b\b\b\b\b\b\b\b\b\b\b\b\b\b\b\b\b\b\b\b\b\b\b\b\b\b\b\b\b\b\b\b\b\b\b\r\n",
      "20/37 [===============>..............] - ETA: 0s - loss: 0.3335 - accuracy: 0.9062"
     ]
    },
    {
     "name": "stdout",
     "output_type": "stream",
     "text": [
      "\n",
      "Epoch 16: val_accuracy improved from 0.93137 to 0.94118, saving model to weights.best.hdf5\n"
     ]
    },
    {
     "name": "stdout",
     "output_type": "stream",
     "text": [
      "\b\b\b\b\b\b\b\b\b\b\b\b\b\b\b\b\b\b\b\b\b\b\b\b\b\b\b\b\b\b\b\b\b\b\b\b\b\b\b\b\b\b\b\b\b\b\b\b\b\b\b\b\b\b\b\b\b\b\b\b\b\b\b\b\b\b\b\b\b\b\b\b\b\b\b\b\b\b\b\b\b\b\r\n",
      "37/37 [==============================] - 0s 5ms/step - loss: 0.3260 - accuracy: 0.8979 - val_loss: 0.2209 - val_accuracy: 0.9412\n"
     ]
    },
    {
     "name": "stdout",
     "output_type": "stream",
     "text": [
      "Epoch 17/200\n"
     ]
    },
    {
     "name": "stdout",
     "output_type": "stream",
     "text": [
      "\r\n",
      " 1/37 [..............................] - ETA: 0s - loss: 0.2415 - accuracy: 1.0000"
     ]
    },
    {
     "name": "stdout",
     "output_type": "stream",
     "text": [
      "\b\b\b\b\b\b\b\b\b\b\b\b\b\b\b\b\b\b\b\b\b\b\b\b\b\b\b\b\b\b\b\b\b\b\b\b\b\b\b\b\b\b\b\b\b\b\b\b\b\b\b\b\b\b\b\b\b\b\b\b\b\b\b\b\b\b\b\b\b\b\b\b\b\b\b\b\b\b\b\b\b\b\r\n",
      "20/37 [===============>..............] - ETA: 0s - loss: 0.3244 - accuracy: 0.8969"
     ]
    },
    {
     "name": "stdout",
     "output_type": "stream",
     "text": [
      "\n",
      "Epoch 17: val_accuracy did not improve from 0.94118\n"
     ]
    },
    {
     "name": "stdout",
     "output_type": "stream",
     "text": [
      "\b\b\b\b\b\b\b\b\b\b\b\b\b\b\b\b\b\b\b\b\b\b\b\b\b\b\b\b\b\b\b\b\b\b\b\b\b\b\b\b\b\b\b\b\b\b\b\b\b\b\b\b\b\b\b\b\b\b\b\b\b\b\b\b\b\b\b\b\b\b\b\b\b\b\b\b\b\b\b\b\b\b\r\n",
      "37/37 [==============================] - 0s 4ms/step - loss: 0.3025 - accuracy: 0.9118 - val_loss: 0.2090 - val_accuracy: 0.9314\n"
     ]
    },
    {
     "name": "stdout",
     "output_type": "stream",
     "text": [
      "Epoch 18/200\n"
     ]
    },
    {
     "name": "stdout",
     "output_type": "stream",
     "text": [
      "\r\n",
      " 1/37 [..............................] - ETA: 0s - loss: 0.2631 - accuracy: 0.9375"
     ]
    },
    {
     "name": "stdout",
     "output_type": "stream",
     "text": [
      "\b\b\b\b\b\b\b\b\b\b\b\b\b\b\b\b\b\b\b\b\b\b\b\b\b\b\b\b\b\b\b\b\b\b\b\b\b\b\b\b\b\b\b\b\b\b\b\b\b\b\b\b\b\b\b\b\b\b\b\b\b\b\b\b\b\b\b\b\b\b\b\b\b\b\b\b\b\b\b\b\b\b\r\n",
      "20/37 [===============>..............] - ETA: 0s - loss: 0.2624 - accuracy: 0.9406"
     ]
    },
    {
     "name": "stdout",
     "output_type": "stream",
     "text": [
      "\n",
      "Epoch 18: val_accuracy did not improve from 0.94118\n"
     ]
    },
    {
     "name": "stdout",
     "output_type": "stream",
     "text": [
      "\b\b\b\b\b\b\b\b\b\b\b\b\b\b\b\b\b\b\b\b\b\b\b\b\b\b\b\b\b\b\b\b\b\b\b\b\b\b\b\b\b\b\b\b\b\b\b\b\b\b\b\b\b\b\b\b\b\b\b\b\b\b\b\b\b\b\b\b\b\b\b\b\b\b\b\b\b\b\b\b\b\b\r\n",
      "37/37 [==============================] - 0s 4ms/step - loss: 0.2722 - accuracy: 0.9256 - val_loss: 0.1955 - val_accuracy: 0.9412\n"
     ]
    },
    {
     "name": "stdout",
     "output_type": "stream",
     "text": [
      "Epoch 19/200\n"
     ]
    },
    {
     "name": "stdout",
     "output_type": "stream",
     "text": [
      "\r\n",
      " 1/37 [..............................] - ETA: 0s - loss: 0.3274 - accuracy: 0.9375"
     ]
    },
    {
     "name": "stdout",
     "output_type": "stream",
     "text": [
      "\b\b\b\b\b\b\b\b\b\b\b\b\b\b\b\b\b\b\b\b\b\b\b\b\b\b\b\b\b\b\b\b\b\b\b\b\b\b\b\b\b\b\b\b\b\b\b\b\b\b\b\b\b\b\b\b\b\b\b\b\b\b\b\b\b\b\b\b\b\b\b\b\b\b\b\b\b\b\b\b\b\b\r\n",
      "20/37 [===============>..............] - ETA: 0s - loss: 0.2863 - accuracy: 0.9250"
     ]
    },
    {
     "name": "stdout",
     "output_type": "stream",
     "text": [
      "\n",
      "Epoch 19: val_accuracy did not improve from 0.94118\n"
     ]
    },
    {
     "name": "stdout",
     "output_type": "stream",
     "text": [
      "\b\b\b\b\b\b\b\b\b\b\b\b\b\b\b\b\b\b\b\b\b\b\b\b\b\b\b\b\b\b\b\b\b\b\b\b\b\b\b\b\b\b\b\b\b\b\b\b\b\b\b\b\b\b\b\b\b\b\b\b\b\b\b\b\b\b\b\b\b\b\b\b\b\b\b\b\b\b\b\b\b\b\r\n",
      "37/37 [==============================] - 0s 4ms/step - loss: 0.2826 - accuracy: 0.9170 - val_loss: 0.1740 - val_accuracy: 0.9314\n"
     ]
    },
    {
     "name": "stdout",
     "output_type": "stream",
     "text": [
      "Epoch 20/200\n"
     ]
    },
    {
     "name": "stdout",
     "output_type": "stream",
     "text": [
      "\r\n",
      " 1/37 [..............................] - ETA: 0s - loss: 0.2301 - accuracy: 0.9375"
     ]
    },
    {
     "name": "stdout",
     "output_type": "stream",
     "text": [
      "\b\b\b\b\b\b\b\b\b\b\b\b\b\b\b\b\b\b\b\b\b\b\b\b\b\b\b\b\b\b\b\b\b\b\b\b\b\b\b\b\b\b\b\b\b\b\b\b\b\b\b\b\b\b\b\b\b\b\b\b\b\b\b\b\b\b\b\b\b\b\b\b\b\b\b\b\b\b\b\b\b\b\r\n",
      "20/37 [===============>..............] - ETA: 0s - loss: 0.2709 - accuracy: 0.9312"
     ]
    },
    {
     "name": "stdout",
     "output_type": "stream",
     "text": [
      "\n",
      "Epoch 20: val_accuracy did not improve from 0.94118\n"
     ]
    },
    {
     "name": "stdout",
     "output_type": "stream",
     "text": [
      "\b\b\b\b\b\b\b\b\b\b\b\b\b\b\b\b\b\b\b\b\b\b\b\b\b\b\b\b\b\b\b\b\b\b\b\b\b\b\b\b\b\b\b\b\b\b\b\b\b\b\b\b\b\b\b\b\b\b\b\b\b\b\b\b\b\b\b\b\b\b\b\b\b\b\b\b\b\b\b\b\b\b\r\n",
      "37/37 [==============================] - 0s 4ms/step - loss: 0.2456 - accuracy: 0.9394 - val_loss: 0.1668 - val_accuracy: 0.9412\n"
     ]
    },
    {
     "name": "stdout",
     "output_type": "stream",
     "text": [
      "Epoch 21/200\n"
     ]
    },
    {
     "name": "stdout",
     "output_type": "stream",
     "text": [
      "\r\n",
      " 1/37 [..............................] - ETA: 0s - loss: 0.3825 - accuracy: 0.9375"
     ]
    },
    {
     "name": "stdout",
     "output_type": "stream",
     "text": [
      "\b\b\b\b\b\b\b\b\b\b\b\b\b\b\b\b\b\b\b\b\b\b\b\b\b\b\b\b\b\b\b\b\b\b\b\b\b\b\b\b\b\b\b\b\b\b\b\b\b\b\b\b\b\b\b\b\b\b\b\b\b\b\b\b\b\b\b\b\b\b\b\b\b\b\b\b\b\b\b\b\b\b\r\n",
      "20/37 [===============>..............] - ETA: 0s - loss: 0.2525 - accuracy: 0.9219"
     ]
    },
    {
     "name": "stdout",
     "output_type": "stream",
     "text": [
      "\n",
      "Epoch 21: val_accuracy did not improve from 0.94118\n"
     ]
    },
    {
     "name": "stdout",
     "output_type": "stream",
     "text": [
      "\b\b\b\b\b\b\b\b\b\b\b\b\b\b\b\b\b\b\b\b\b\b\b\b\b\b\b\b\b\b\b\b\b\b\b\b\b\b\b\b\b\b\b\b\b\b\b\b\b\b\b\b\b\b\b\b\b\b\b\b\b\b\b\b\b\b\b\b\b\b\b\b\b\b\b\b\b\b\b\b\b\b\r\n",
      "37/37 [==============================] - 0s 4ms/step - loss: 0.2645 - accuracy: 0.9152 - val_loss: 0.1576 - val_accuracy: 0.9412\n"
     ]
    },
    {
     "name": "stdout",
     "output_type": "stream",
     "text": [
      "Epoch 22/200\n"
     ]
    },
    {
     "name": "stdout",
     "output_type": "stream",
     "text": [
      "\r\n",
      " 1/37 [..............................] - ETA: 0s - loss: 0.1601 - accuracy: 0.9375"
     ]
    },
    {
     "name": "stdout",
     "output_type": "stream",
     "text": [
      "\b\b\b\b\b\b\b\b\b\b\b\b\b\b\b\b\b\b\b\b\b\b\b\b\b\b\b\b\b\b\b\b\b\b\b\b\b\b\b\b\b\b\b\b\b\b\b\b\b\b\b\b\b\b\b\b\b\b\b\b\b\b\b\b\b\b\b\b\b\b\b\b\b\b\b\b\b\b\b\b\b\b\r\n",
      "21/37 [================>.............] - ETA: 0s - loss: 0.2160 - accuracy: 0.9226"
     ]
    },
    {
     "name": "stdout",
     "output_type": "stream",
     "text": [
      "\n",
      "Epoch 22: val_accuracy did not improve from 0.94118\n"
     ]
    },
    {
     "name": "stdout",
     "output_type": "stream",
     "text": [
      "\b\b\b\b\b\b\b\b\b\b\b\b\b\b\b\b\b\b\b\b\b\b\b\b\b\b\b\b\b\b\b\b\b\b\b\b\b\b\b\b\b\b\b\b\b\b\b\b\b\b\b\b\b\b\b\b\b\b\b\b\b\b\b\b\b\b\b\b\b\b\b\b\b\b\b\b\b\b\b\b\b\b\r\n",
      "37/37 [==============================] - 0s 4ms/step - loss: 0.2090 - accuracy: 0.9343 - val_loss: 0.1397 - val_accuracy: 0.9412\n"
     ]
    },
    {
     "name": "stdout",
     "output_type": "stream",
     "text": [
      "Epoch 23/200\n"
     ]
    },
    {
     "name": "stdout",
     "output_type": "stream",
     "text": [
      "\r\n",
      " 1/37 [..............................] - ETA: 0s - loss: 0.1631 - accuracy: 1.0000"
     ]
    },
    {
     "name": "stdout",
     "output_type": "stream",
     "text": [
      "\b\b\b\b\b\b\b\b\b\b\b\b\b\b\b\b\b\b\b\b\b\b\b\b\b\b\b\b\b\b\b\b\b\b\b\b\b\b\b\b\b\b\b\b\b\b\b\b\b\b\b\b\b\b\b\b\b\b\b\b\b\b\b\b\b\b\b\b\b\b\b\b\b\b\b\b\b\b\b\b\b\b\r\n",
      "20/37 [===============>..............] - ETA: 0s - loss: 0.2228 - accuracy: 0.9344"
     ]
    },
    {
     "name": "stdout",
     "output_type": "stream",
     "text": [
      "\n",
      "Epoch 23: val_accuracy improved from 0.94118 to 0.95098, saving model to weights.best.hdf5\n"
     ]
    },
    {
     "name": "stdout",
     "output_type": "stream",
     "text": [
      "\b\b\b\b\b\b\b\b\b\b\b\b\b\b\b\b\b\b\b\b\b\b\b\b\b\b\b\b\b\b\b\b\b\b\b\b\b\b\b\b\b\b\b\b\b\b\b\b\b\b\b\b\b\b\b\b\b\b\b\b\b\b\b\b\b\b\b\b\b\b\b\b\b\b\b\b\b\b\b\b\b\b\r\n",
      "37/37 [==============================] - 0s 5ms/step - loss: 0.2069 - accuracy: 0.9377 - val_loss: 0.1330 - val_accuracy: 0.9510\n"
     ]
    },
    {
     "name": "stdout",
     "output_type": "stream",
     "text": [
      "Epoch 24/200\n"
     ]
    },
    {
     "name": "stdout",
     "output_type": "stream",
     "text": [
      "\r\n",
      " 1/37 [..............................] - ETA: 0s - loss: 0.2640 - accuracy: 0.9375"
     ]
    },
    {
     "name": "stdout",
     "output_type": "stream",
     "text": [
      "\b\b\b\b\b\b\b\b\b\b\b\b\b\b\b\b\b\b\b\b\b\b\b\b\b\b\b\b\b\b\b\b\b\b\b\b\b\b\b\b\b\b\b\b\b\b\b\b\b\b\b\b\b\b\b\b\b\b\b\b\b\b\b\b\b\b\b\b\b\b\b\b\b\b\b\b\b\b\b\b\b\b\r\n",
      "20/37 [===============>..............] - ETA: 0s - loss: 0.1926 - accuracy: 0.9438"
     ]
    },
    {
     "name": "stdout",
     "output_type": "stream",
     "text": [
      "\n",
      "Epoch 24: val_accuracy did not improve from 0.95098\n"
     ]
    },
    {
     "name": "stdout",
     "output_type": "stream",
     "text": [
      "\b\b\b\b\b\b\b\b\b\b\b\b\b\b\b\b\b\b\b\b\b\b\b\b\b\b\b\b\b\b\b\b\b\b\b\b\b\b\b\b\b\b\b\b\b\b\b\b\b\b\b\b\b\b\b\b\b\b\b\b\b\b\b\b\b\b\b\b\b\b\b\b\b\b\b\b\b\b\b\b\b\b\r\n",
      "37/37 [==============================] - 0s 4ms/step - loss: 0.1933 - accuracy: 0.9394 - val_loss: 0.1276 - val_accuracy: 0.9510\n"
     ]
    },
    {
     "name": "stdout",
     "output_type": "stream",
     "text": [
      "Epoch 25/200\n"
     ]
    },
    {
     "name": "stdout",
     "output_type": "stream",
     "text": [
      "\r\n",
      " 1/37 [..............................] - ETA: 0s - loss: 0.1259 - accuracy: 1.0000"
     ]
    },
    {
     "name": "stdout",
     "output_type": "stream",
     "text": [
      "\b\b\b\b\b\b\b\b\b\b\b\b\b\b\b\b\b\b\b\b\b\b\b\b\b\b\b\b\b\b\b\b\b\b\b\b\b\b\b\b\b\b\b\b\b\b\b\b\b\b\b\b\b\b\b\b\b\b\b\b\b\b\b\b\b\b\b\b\b\b\b\b\b\b\b\b\b\b\b\b\b\b\r\n",
      "20/37 [===============>..............] - ETA: 0s - loss: 0.1678 - accuracy: 0.9500"
     ]
    },
    {
     "name": "stdout",
     "output_type": "stream",
     "text": [
      "\n",
      "Epoch 25: val_accuracy improved from 0.95098 to 0.97059, saving model to weights.best.hdf5\n"
     ]
    },
    {
     "name": "stdout",
     "output_type": "stream",
     "text": [
      "\b\b\b\b\b\b\b\b\b\b\b\b\b\b\b\b\b\b\b\b\b\b\b\b\b\b\b\b\b\b\b\b\b\b\b\b\b\b\b\b\b\b\b\b\b\b\b\b\b\b\b\b\b\b\b\b\b\b\b\b\b\b\b\b\b\b\b\b\b\b\b\b\b\b\b\b\b\b\b\b\b\b\r\n",
      "37/37 [==============================] - 0s 5ms/step - loss: 0.1782 - accuracy: 0.9533 - val_loss: 0.1211 - val_accuracy: 0.9706\n"
     ]
    },
    {
     "name": "stdout",
     "output_type": "stream",
     "text": [
      "Epoch 26/200\n"
     ]
    },
    {
     "name": "stdout",
     "output_type": "stream",
     "text": [
      "\r\n",
      " 1/37 [..............................] - ETA: 0s - loss: 0.3565 - accuracy: 0.8750"
     ]
    },
    {
     "name": "stdout",
     "output_type": "stream",
     "text": [
      "\b\b\b\b\b\b\b\b\b\b\b\b\b\b\b\b\b\b\b\b\b\b\b\b\b\b\b\b\b\b\b\b\b\b\b\b\b\b\b\b\b\b\b\b\b\b\b\b\b\b\b\b\b\b\b\b\b\b\b\b\b\b\b\b\b\b\b\b\b\b\b\b\b\b\b\b\b\b\b\b\b\b\r\n",
      "20/37 [===============>..............] - ETA: 0s - loss: 0.1940 - accuracy: 0.9406"
     ]
    },
    {
     "name": "stdout",
     "output_type": "stream",
     "text": [
      "\n",
      "Epoch 26: val_accuracy did not improve from 0.97059\n"
     ]
    },
    {
     "name": "stdout",
     "output_type": "stream",
     "text": [
      "\b\b\b\b\b\b\b\b\b\b\b\b\b\b\b\b\b\b\b\b\b\b\b\b\b\b\b\b\b\b\b\b\b\b\b\b\b\b\b\b\b\b\b\b\b\b\b\b\b\b\b\b\b\b\b\b\b\b\b\b\b\b\b\b\b\b\b\b\b\b\b\b\b\b\b\b\b\b\b\b\b\b\r\n",
      "37/37 [==============================] - 0s 4ms/step - loss: 0.1844 - accuracy: 0.9412 - val_loss: 0.1162 - val_accuracy: 0.9608\n"
     ]
    },
    {
     "name": "stdout",
     "output_type": "stream",
     "text": [
      "Epoch 27/200\n"
     ]
    },
    {
     "name": "stdout",
     "output_type": "stream",
     "text": [
      "\r\n",
      " 1/37 [..............................] - ETA: 0s - loss: 0.1101 - accuracy: 1.0000"
     ]
    },
    {
     "name": "stdout",
     "output_type": "stream",
     "text": [
      "\b\b\b\b\b\b\b\b\b\b\b\b\b\b\b\b\b\b\b\b\b\b\b\b\b\b\b\b\b\b\b\b\b\b\b\b\b\b\b\b\b\b\b\b\b\b\b\b\b\b\b\b\b\b\b\b\b\b\b\b\b\b\b\b\b\b\b\b\b\b\b\b\b\b\b\b\b\b\b\b\b\b\r\n",
      "21/37 [================>.............] - ETA: 0s - loss: 0.1841 - accuracy: 0.9405"
     ]
    },
    {
     "name": "stdout",
     "output_type": "stream",
     "text": [
      "\n",
      "Epoch 27: val_accuracy did not improve from 0.97059\n"
     ]
    },
    {
     "name": "stdout",
     "output_type": "stream",
     "text": [
      "\b\b\b\b\b\b\b\b\b\b\b\b\b\b\b\b\b\b\b\b\b\b\b\b\b\b\b\b\b\b\b\b\b\b\b\b\b\b\b\b\b\b\b\b\b\b\b\b\b\b\b\b\b\b\b\b\b\b\b\b\b\b\b\b\b\b\b\b\b\b\b\b\b\b\b\b\b\b\b\b\b\b\r\n",
      "37/37 [==============================] - 0s 4ms/step - loss: 0.1702 - accuracy: 0.9498 - val_loss: 0.1155 - val_accuracy: 0.9510\n"
     ]
    },
    {
     "name": "stdout",
     "output_type": "stream",
     "text": [
      "Epoch 28/200\n"
     ]
    },
    {
     "name": "stdout",
     "output_type": "stream",
     "text": [
      "\r\n",
      " 1/37 [..............................] - ETA: 0s - loss: 0.0868 - accuracy: 1.0000"
     ]
    },
    {
     "name": "stdout",
     "output_type": "stream",
     "text": [
      "\b\b\b\b\b\b\b\b\b\b\b\b\b\b\b\b\b\b\b\b\b\b\b\b\b\b\b\b\b\b\b\b\b\b\b\b\b\b\b\b\b\b\b\b\b\b\b\b\b\b\b\b\b\b\b\b\b\b\b\b\b\b\b\b\b\b\b\b\b\b\b\b\b\b\b\b\b\b\b\b\b\b\r\n",
      "20/37 [===============>..............] - ETA: 0s - loss: 0.1469 - accuracy: 0.9656"
     ]
    },
    {
     "name": "stdout",
     "output_type": "stream",
     "text": [
      "\n",
      "Epoch 28: val_accuracy did not improve from 0.97059\n"
     ]
    },
    {
     "name": "stdout",
     "output_type": "stream",
     "text": [
      "\b\b\b\b\b\b\b\b\b\b\b\b\b\b\b\b\b\b\b\b\b\b\b\b\b\b\b\b\b\b\b\b\b\b\b\b\b\b\b\b\b\b\b\b\b\b\b\b\b\b\b\b\b\b\b\b\b\b\b\b\b\b\b\b\b\b\b\b\b\b\b\b\b\b\b\b\b\b\b\b\b\b\r\n",
      "37/37 [==============================] - 0s 4ms/step - loss: 0.1641 - accuracy: 0.9550 - val_loss: 0.1067 - val_accuracy: 0.9608\n"
     ]
    },
    {
     "name": "stdout",
     "output_type": "stream",
     "text": [
      "Epoch 29/200\n"
     ]
    },
    {
     "name": "stdout",
     "output_type": "stream",
     "text": [
      "\r\n",
      " 1/37 [..............................] - ETA: 0s - loss: 0.1293 - accuracy: 0.9375"
     ]
    },
    {
     "name": "stdout",
     "output_type": "stream",
     "text": [
      "\b\b\b\b\b\b\b\b\b\b\b\b\b\b\b\b\b\b\b\b\b\b\b\b\b\b\b\b\b\b\b\b\b\b\b\b\b\b\b\b\b\b\b\b\b\b\b\b\b\b\b\b\b\b\b\b\b\b\b\b\b\b\b\b\b\b\b\b\b\b\b\b\b\b\b\b\b\b\b\b\b\b\r\n",
      "20/37 [===============>..............] - ETA: 0s - loss: 0.2199 - accuracy: 0.9312"
     ]
    },
    {
     "name": "stdout",
     "output_type": "stream",
     "text": [
      "\n",
      "Epoch 29: val_accuracy did not improve from 0.97059\n"
     ]
    },
    {
     "name": "stdout",
     "output_type": "stream",
     "text": [
      "\b\b\b\b\b\b\b\b\b\b\b\b\b\b\b\b\b\b\b\b\b\b\b\b\b\b\b\b\b\b\b\b\b\b\b\b\b\b\b\b\b\b\b\b\b\b\b\b\b\b\b\b\b\b\b\b\b\b\b\b\b\b\b\b\b\b\b\b\b\b\b\b\b\b\b\b\b\b\b\b\b\b\r\n",
      "37/37 [==============================] - 0s 4ms/step - loss: 0.1702 - accuracy: 0.9533 - val_loss: 0.1032 - val_accuracy: 0.9608\n"
     ]
    },
    {
     "name": "stdout",
     "output_type": "stream",
     "text": [
      "Epoch 30/200\n"
     ]
    },
    {
     "name": "stdout",
     "output_type": "stream",
     "text": [
      "\r\n",
      " 1/37 [..............................] - ETA: 0s - loss: 0.0879 - accuracy: 1.0000"
     ]
    },
    {
     "name": "stdout",
     "output_type": "stream",
     "text": [
      "\b\b\b\b\b\b\b\b\b\b\b\b\b\b\b\b\b\b\b\b\b\b\b\b\b\b\b\b\b\b\b\b\b\b\b\b\b\b\b\b\b\b\b\b\b\b\b\b\b\b\b\b\b\b\b\b\b\b\b\b\b\b\b\b\b\b\b\b\b\b\b\b\b\b\b\b\b\b\b\b\b\b\r\n",
      "20/37 [===============>..............] - ETA: 0s - loss: 0.1503 - accuracy: 0.9531"
     ]
    },
    {
     "name": "stdout",
     "output_type": "stream",
     "text": [
      "\n",
      "Epoch 30: val_accuracy did not improve from 0.97059\n"
     ]
    },
    {
     "name": "stdout",
     "output_type": "stream",
     "text": [
      "\b\b\b\b\b\b\b\b\b\b\b\b\b\b\b\b\b\b\b\b\b\b\b\b\b\b\b\b\b\b\b\b\b\b\b\b\b\b\b\b\b\b\b\b\b\b\b\b\b\b\b\b\b\b\b\b\b\b\b\b\b\b\b\b\b\b\b\b\b\b\b\b\b\b\b\b\b\b\b\b\b\b\r\n",
      "37/37 [==============================] - 0s 4ms/step - loss: 0.1555 - accuracy: 0.9516 - val_loss: 0.0993 - val_accuracy: 0.9510\n"
     ]
    },
    {
     "name": "stdout",
     "output_type": "stream",
     "text": [
      "Epoch 31/200\n"
     ]
    },
    {
     "name": "stdout",
     "output_type": "stream",
     "text": [
      "\r\n",
      " 1/37 [..............................] - ETA: 0s - loss: 0.0649 - accuracy: 1.0000"
     ]
    },
    {
     "name": "stdout",
     "output_type": "stream",
     "text": [
      "\b\b\b\b\b\b\b\b\b\b\b\b\b\b\b\b\b\b\b\b\b\b\b\b\b\b\b\b\b\b\b\b\b\b\b\b\b\b\b\b\b\b\b\b\b\b\b\b\b\b\b\b\b\b\b\b\b\b\b\b\b\b\b\b\b\b\b\b\b\b\b\b\b\b\b\b\b\b\b\b\b\b\r\n",
      "20/37 [===============>..............] - ETA: 0s - loss: 0.1240 - accuracy: 0.9594"
     ]
    },
    {
     "name": "stdout",
     "output_type": "stream",
     "text": [
      "\n",
      "Epoch 31: val_accuracy did not improve from 0.97059\n"
     ]
    },
    {
     "name": "stdout",
     "output_type": "stream",
     "text": [
      "\b\b\b\b\b\b\b\b\b\b\b\b\b\b\b\b\b\b\b\b\b\b\b\b\b\b\b\b\b\b\b\b\b\b\b\b\b\b\b\b\b\b\b\b\b\b\b\b\b\b\b\b\b\b\b\b\b\b\b\b\b\b\b\b\b\b\b\b\b\b\b\b\b\b\b\b\b\b\b\b\b\b\r\n",
      "37/37 [==============================] - 0s 4ms/step - loss: 0.1443 - accuracy: 0.9585 - val_loss: 0.0948 - val_accuracy: 0.9608\n"
     ]
    },
    {
     "name": "stdout",
     "output_type": "stream",
     "text": [
      "Epoch 32/200\n"
     ]
    },
    {
     "name": "stdout",
     "output_type": "stream",
     "text": [
      "\r\n",
      " 1/37 [..............................] - ETA: 0s - loss: 0.0798 - accuracy: 0.9375"
     ]
    },
    {
     "name": "stdout",
     "output_type": "stream",
     "text": [
      "\b\b\b\b\b\b\b\b\b\b\b\b\b\b\b\b\b\b\b\b\b\b\b\b\b\b\b\b\b\b\b\b\b\b\b\b\b\b\b\b\b\b\b\b\b\b\b\b\b\b\b\b\b\b\b\b\b\b\b\b\b\b\b\b\b\b\b\b\b\b\b\b\b\b\b\b\b\b\b\b\b\b\r\n",
      "20/37 [===============>..............] - ETA: 0s - loss: 0.1466 - accuracy: 0.9469"
     ]
    },
    {
     "name": "stdout",
     "output_type": "stream",
     "text": [
      "\n",
      "Epoch 32: val_accuracy did not improve from 0.97059\n"
     ]
    },
    {
     "name": "stdout",
     "output_type": "stream",
     "text": [
      "\b\b\b\b\b\b\b\b\b\b\b\b\b\b\b\b\b\b\b\b\b\b\b\b\b\b\b\b\b\b\b\b\b\b\b\b\b\b\b\b\b\b\b\b\b\b\b\b\b\b\b\b\b\b\b\b\b\b\b\b\b\b\b\b\b\b\b\b\b\b\b\b\b\b\b\b\b\b\b\b\b\b\r\n",
      "37/37 [==============================] - 0s 4ms/step - loss: 0.1775 - accuracy: 0.9412 - val_loss: 0.0918 - val_accuracy: 0.9608\n"
     ]
    },
    {
     "name": "stdout",
     "output_type": "stream",
     "text": [
      "Epoch 33/200\n"
     ]
    },
    {
     "name": "stdout",
     "output_type": "stream",
     "text": [
      "\r\n",
      " 1/37 [..............................] - ETA: 0s - loss: 0.1734 - accuracy: 1.0000"
     ]
    },
    {
     "name": "stdout",
     "output_type": "stream",
     "text": [
      "\b\b\b\b\b\b\b\b\b\b\b\b\b\b\b\b\b\b\b\b\b\b\b\b\b\b\b\b\b\b\b\b\b\b\b\b\b\b\b\b\b\b\b\b\b\b\b\b\b\b\b\b\b\b\b\b\b\b\b\b\b\b\b\b\b\b\b\b\b\b\b\b\b\b\b\b\b\b\b\b\b\b\r\n",
      "20/37 [===============>..............] - ETA: 0s - loss: 0.1502 - accuracy: 0.9688"
     ]
    },
    {
     "name": "stdout",
     "output_type": "stream",
     "text": [
      "\n",
      "Epoch 33: val_accuracy did not improve from 0.97059\n"
     ]
    },
    {
     "name": "stdout",
     "output_type": "stream",
     "text": [
      "\b\b\b\b\b\b\b\b\b\b\b\b\b\b\b\b\b\b\b\b\b\b\b\b\b\b\b\b\b\b\b\b\b\b\b\b\b\b\b\b\b\b\b\b\b\b\b\b\b\b\b\b\b\b\b\b\b\b\b\b\b\b\b\b\b\b\b\b\b\b\b\b\b\b\b\b\b\b\b\b\b\b\r\n",
      "37/37 [==============================] - 0s 4ms/step - loss: 0.1487 - accuracy: 0.9585 - val_loss: 0.0906 - val_accuracy: 0.9706\n"
     ]
    },
    {
     "name": "stdout",
     "output_type": "stream",
     "text": [
      "Epoch 34/200\n"
     ]
    },
    {
     "name": "stdout",
     "output_type": "stream",
     "text": [
      "\r\n",
      " 1/37 [..............................] - ETA: 0s - loss: 0.0596 - accuracy: 1.0000"
     ]
    },
    {
     "name": "stdout",
     "output_type": "stream",
     "text": [
      "\b\b\b\b\b\b\b\b\b\b\b\b\b\b\b\b\b\b\b\b\b\b\b\b\b\b\b\b\b\b\b\b\b\b\b\b\b\b\b\b\b\b\b\b\b\b\b\b\b\b\b\b\b\b\b\b\b\b\b\b\b\b\b\b\b\b\b\b\b\b\b\b\b\b\b\b\b\b\b\b\b\b\r\n",
      "20/37 [===============>..............] - ETA: 0s - loss: 0.1378 - accuracy: 0.9469"
     ]
    },
    {
     "name": "stdout",
     "output_type": "stream",
     "text": [
      "\n",
      "Epoch 34: val_accuracy did not improve from 0.97059\n"
     ]
    },
    {
     "name": "stdout",
     "output_type": "stream",
     "text": [
      "\b\b\b\b\b\b\b\b\b\b\b\b\b\b\b\b\b\b\b\b\b\b\b\b\b\b\b\b\b\b\b\b\b\b\b\b\b\b\b\b\b\b\b\b\b\b\b\b\b\b\b\b\b\b\b\b\b\b\b\b\b\b\b\b\b\b\b\b\b\b\b\b\b\b\b\b\b\b\b\b\b\b\r\n",
      "37/37 [==============================] - 0s 4ms/step - loss: 0.1281 - accuracy: 0.9567 - val_loss: 0.0829 - val_accuracy: 0.9608\n"
     ]
    },
    {
     "name": "stdout",
     "output_type": "stream",
     "text": [
      "Epoch 35/200\n"
     ]
    },
    {
     "name": "stdout",
     "output_type": "stream",
     "text": [
      "\r\n",
      " 1/37 [..............................] - ETA: 0s - loss: 0.0838 - accuracy: 1.0000"
     ]
    },
    {
     "name": "stdout",
     "output_type": "stream",
     "text": [
      "\b\b\b\b\b\b\b\b\b\b\b\b\b\b\b\b\b\b\b\b\b\b\b\b\b\b\b\b\b\b\b\b\b\b\b\b\b\b\b\b\b\b\b\b\b\b\b\b\b\b\b\b\b\b\b\b\b\b\b\b\b\b\b\b\b\b\b\b\b\b\b\b\b\b\b\b\b\b\b\b\b\b\r\n",
      "20/37 [===============>..............] - ETA: 0s - loss: 0.1242 - accuracy: 0.9688"
     ]
    },
    {
     "name": "stdout",
     "output_type": "stream",
     "text": [
      "\n",
      "Epoch 35: val_accuracy did not improve from 0.97059\n"
     ]
    },
    {
     "name": "stdout",
     "output_type": "stream",
     "text": [
      "\b\b\b\b\b\b\b\b\b\b\b\b\b\b\b\b\b\b\b\b\b\b\b\b\b\b\b\b\b\b\b\b\b\b\b\b\b\b\b\b\b\b\b\b\b\b\b\b\b\b\b\b\b\b\b\b\b\b\b\b\b\b\b\b\b\b\b\b\b\b\b\b\b\b\b\b\b\b\b\b\b\b\r\n",
      "37/37 [==============================] - 0s 4ms/step - loss: 0.1155 - accuracy: 0.9689 - val_loss: 0.0853 - val_accuracy: 0.9608\n"
     ]
    },
    {
     "name": "stdout",
     "output_type": "stream",
     "text": [
      "Epoch 36/200\n"
     ]
    },
    {
     "name": "stdout",
     "output_type": "stream",
     "text": [
      "\r\n",
      " 1/37 [..............................] - ETA: 0s - loss: 0.4341 - accuracy: 0.8125"
     ]
    },
    {
     "name": "stdout",
     "output_type": "stream",
     "text": [
      "\b\b\b\b\b\b\b\b\b\b\b\b\b\b\b\b\b\b\b\b\b\b\b\b\b\b\b\b\b\b\b\b\b\b\b\b\b\b\b\b\b\b\b\b\b\b\b\b\b\b\b\b\b\b\b\b\b\b\b\b\b\b\b\b\b\b\b\b\b\b\b\b\b\b\b\b\b\b\b\b\b\b\r\n",
      "20/37 [===============>..............] - ETA: 0s - loss: 0.1546 - accuracy: 0.9531"
     ]
    },
    {
     "name": "stdout",
     "output_type": "stream",
     "text": [
      "\n",
      "Epoch 36: val_accuracy did not improve from 0.97059\n"
     ]
    },
    {
     "name": "stdout",
     "output_type": "stream",
     "text": [
      "\b\b\b\b\b\b\b\b\b\b\b\b\b\b\b\b\b\b\b\b\b\b\b\b\b\b\b\b\b\b\b\b\b\b\b\b\b\b\b\b\b\b\b\b\b\b\b\b\b\b\b\b\b\b\b\b\b\b\b\b\b\b\b\b\b\b\b\b\b\b\b\b\b\b\b\b\b\b\b\b\b\b\r\n",
      "37/37 [==============================] - 0s 4ms/step - loss: 0.1386 - accuracy: 0.9567 - val_loss: 0.0752 - val_accuracy: 0.9608\n"
     ]
    },
    {
     "name": "stdout",
     "output_type": "stream",
     "text": [
      "Epoch 37/200\n"
     ]
    },
    {
     "name": "stdout",
     "output_type": "stream",
     "text": [
      "\r\n",
      " 1/37 [..............................] - ETA: 0s - loss: 0.0735 - accuracy: 1.0000"
     ]
    },
    {
     "name": "stdout",
     "output_type": "stream",
     "text": [
      "\b\b\b\b\b\b\b\b\b\b\b\b\b\b\b\b\b\b\b\b\b\b\b\b\b\b\b\b\b\b\b\b\b\b\b\b\b\b\b\b\b\b\b\b\b\b\b\b\b\b\b\b\b\b\b\b\b\b\b\b\b\b\b\b\b\b\b\b\b\b\b\b\b\b\b\b\b\b\b\b\b\b\r\n",
      "20/37 [===============>..............] - ETA: 0s - loss: 0.1351 - accuracy: 0.9625"
     ]
    },
    {
     "name": "stdout",
     "output_type": "stream",
     "text": [
      "\n",
      "Epoch 37: val_accuracy did not improve from 0.97059\n"
     ]
    },
    {
     "name": "stdout",
     "output_type": "stream",
     "text": [
      "\b\b\b\b\b\b\b\b\b\b\b\b\b\b\b\b\b\b\b\b\b\b\b\b\b\b\b\b\b\b\b\b\b\b\b\b\b\b\b\b\b\b\b\b\b\b\b\b\b\b\b\b\b\b\b\b\b\b\b\b\b\b\b\b\b\b\b\b\b\b\b\b\b\b\b\b\b\b\b\b\b\b\r\n",
      "37/37 [==============================] - 0s 4ms/step - loss: 0.1223 - accuracy: 0.9689 - val_loss: 0.0763 - val_accuracy: 0.9608\n"
     ]
    },
    {
     "name": "stdout",
     "output_type": "stream",
     "text": [
      "Epoch 38/200\n"
     ]
    },
    {
     "name": "stdout",
     "output_type": "stream",
     "text": [
      "\r\n",
      " 1/37 [..............................] - ETA: 0s - loss: 0.2055 - accuracy: 0.9375"
     ]
    },
    {
     "name": "stdout",
     "output_type": "stream",
     "text": [
      "\b\b\b\b\b\b\b\b\b\b\b\b\b\b\b\b\b\b\b\b\b\b\b\b\b\b\b\b\b\b\b\b\b\b\b\b\b\b\b\b\b\b\b\b\b\b\b\b\b\b\b\b\b\b\b\b\b\b\b\b\b\b\b\b\b\b\b\b\b\b\b\b\b\b\b\b\b\b\b\b\b\b\r\n",
      "20/37 [===============>..............] - ETA: 0s - loss: 0.1138 - accuracy: 0.9719"
     ]
    },
    {
     "name": "stdout",
     "output_type": "stream",
     "text": [
      "\n",
      "Epoch 38: val_accuracy did not improve from 0.97059\n"
     ]
    },
    {
     "name": "stdout",
     "output_type": "stream",
     "text": [
      "\b\b\b\b\b\b\b\b\b\b\b\b\b\b\b\b\b\b\b\b\b\b\b\b\b\b\b\b\b\b\b\b\b\b\b\b\b\b\b\b\b\b\b\b\b\b\b\b\b\b\b\b\b\b\b\b\b\b\b\b\b\b\b\b\b\b\b\b\b\b\b\b\b\b\b\b\b\b\b\b\b\b\r\n",
      "37/37 [==============================] - 0s 4ms/step - loss: 0.1159 - accuracy: 0.9671 - val_loss: 0.0753 - val_accuracy: 0.9608\n"
     ]
    },
    {
     "name": "stdout",
     "output_type": "stream",
     "text": [
      "Epoch 39/200\n"
     ]
    },
    {
     "name": "stdout",
     "output_type": "stream",
     "text": [
      "\r\n",
      " 1/37 [..............................] - ETA: 0s - loss: 0.0758 - accuracy: 1.0000"
     ]
    },
    {
     "name": "stdout",
     "output_type": "stream",
     "text": [
      "\b\b\b\b\b\b\b\b\b\b\b\b\b\b\b\b\b\b\b\b\b\b\b\b\b\b\b\b\b\b\b\b\b\b\b\b\b\b\b\b\b\b\b\b\b\b\b\b\b\b\b\b\b\b\b\b\b\b\b\b\b\b\b\b\b\b\b\b\b\b\b\b\b\b\b\b\b\b\b\b\b\b\r\n",
      "20/37 [===============>..............] - ETA: 0s - loss: 0.1013 - accuracy: 0.9719"
     ]
    },
    {
     "name": "stdout",
     "output_type": "stream",
     "text": [
      "\n",
      "Epoch 39: val_accuracy did not improve from 0.97059\n"
     ]
    },
    {
     "name": "stdout",
     "output_type": "stream",
     "text": [
      "\b\b\b\b\b\b\b\b\b\b\b\b\b\b\b\b\b\b\b\b\b\b\b\b\b\b\b\b\b\b\b\b\b\b\b\b\b\b\b\b\b\b\b\b\b\b\b\b\b\b\b\b\b\b\b\b\b\b\b\b\b\b\b\b\b\b\b\b\b\b\b\b\b\b\b\b\b\b\b\b\b\b\r\n",
      "37/37 [==============================] - 0s 4ms/step - loss: 0.0953 - accuracy: 0.9723 - val_loss: 0.0757 - val_accuracy: 0.9608\n"
     ]
    },
    {
     "name": "stdout",
     "output_type": "stream",
     "text": [
      "Epoch 40/200\n"
     ]
    },
    {
     "name": "stdout",
     "output_type": "stream",
     "text": [
      "\r\n",
      " 1/37 [..............................] - ETA: 0s - loss: 0.1181 - accuracy: 1.0000"
     ]
    },
    {
     "name": "stdout",
     "output_type": "stream",
     "text": [
      "\b\b\b\b\b\b\b\b\b\b\b\b\b\b\b\b\b\b\b\b\b\b\b\b\b\b\b\b\b\b\b\b\b\b\b\b\b\b\b\b\b\b\b\b\b\b\b\b\b\b\b\b\b\b\b\b\b\b\b\b\b\b\b\b\b\b\b\b\b\b\b\b\b\b\b\b\b\b\b\b\b\b\r\n",
      "20/37 [===============>..............] - ETA: 0s - loss: 0.1112 - accuracy: 0.9750"
     ]
    },
    {
     "name": "stdout",
     "output_type": "stream",
     "text": [
      "\n",
      "Epoch 40: val_accuracy did not improve from 0.97059\n"
     ]
    },
    {
     "name": "stdout",
     "output_type": "stream",
     "text": [
      "\b\b\b\b\b\b\b\b\b\b\b\b\b\b\b\b\b\b\b\b\b\b\b\b\b\b\b\b\b\b\b\b\b\b\b\b\b\b\b\b\b\b\b\b\b\b\b\b\b\b\b\b\b\b\b\b\b\b\b\b\b\b\b\b\b\b\b\b\b\b\b\b\b\b\b\b\b\b\b\b\b\b\r\n",
      "37/37 [==============================] - 0s 4ms/step - loss: 0.1152 - accuracy: 0.9671 - val_loss: 0.0732 - val_accuracy: 0.9608\n"
     ]
    },
    {
     "name": "stdout",
     "output_type": "stream",
     "text": [
      "Epoch 41/200\n"
     ]
    },
    {
     "name": "stdout",
     "output_type": "stream",
     "text": [
      "\r\n",
      " 1/37 [..............................] - ETA: 0s - loss: 0.2481 - accuracy: 0.9375"
     ]
    },
    {
     "name": "stdout",
     "output_type": "stream",
     "text": [
      "\b\b\b\b\b\b\b\b\b\b\b\b\b\b\b\b\b\b\b\b\b\b\b\b\b\b\b\b\b\b\b\b\b\b\b\b\b\b\b\b\b\b\b\b\b\b\b\b\b\b\b\b\b\b\b\b\b\b\b\b\b\b\b\b\b\b\b\b\b\b\b\b\b\b\b\b\b\b\b\b\b\b\r\n",
      "20/37 [===============>..............] - ETA: 0s - loss: 0.1350 - accuracy: 0.9531"
     ]
    },
    {
     "name": "stdout",
     "output_type": "stream",
     "text": [
      "\n",
      "Epoch 41: val_accuracy did not improve from 0.97059\n"
     ]
    },
    {
     "name": "stdout",
     "output_type": "stream",
     "text": [
      "\b\b\b\b\b\b\b\b\b\b\b\b\b\b\b\b\b\b\b\b\b\b\b\b\b\b\b\b\b\b\b\b\b\b\b\b\b\b\b\b\b\b\b\b\b\b\b\b\b\b\b\b\b\b\b\b\b\b\b\b\b\b\b\b\b\b\b\b\b\b\b\b\b\b\b\b\b\b\b\b\b\b\r\n",
      "37/37 [==============================] - 0s 4ms/step - loss: 0.1231 - accuracy: 0.9567 - val_loss: 0.0696 - val_accuracy: 0.9706\n"
     ]
    },
    {
     "name": "stdout",
     "output_type": "stream",
     "text": [
      "Epoch 42/200\n"
     ]
    },
    {
     "name": "stdout",
     "output_type": "stream",
     "text": [
      "\r\n",
      " 1/37 [..............................] - ETA: 0s - loss: 0.0386 - accuracy: 1.0000"
     ]
    },
    {
     "name": "stdout",
     "output_type": "stream",
     "text": [
      "\b\b\b\b\b\b\b\b\b\b\b\b\b\b\b\b\b\b\b\b\b\b\b\b\b\b\b\b\b\b\b\b\b\b\b\b\b\b\b\b\b\b\b\b\b\b\b\b\b\b\b\b\b\b\b\b\b\b\b\b\b\b\b\b\b\b\b\b\b\b\b\b\b\b\b\b\b\b\b\b\b\b\r\n",
      "20/37 [===============>..............] - ETA: 0s - loss: 0.1109 - accuracy: 0.9656"
     ]
    },
    {
     "name": "stdout",
     "output_type": "stream",
     "text": [
      "\n",
      "Epoch 42: val_accuracy did not improve from 0.97059\n"
     ]
    },
    {
     "name": "stdout",
     "output_type": "stream",
     "text": [
      "\b\b\b\b\b\b\b\b\b\b\b\b\b\b\b\b\b\b\b\b\b\b\b\b\b\b\b\b\b\b\b\b\b\b\b\b\b\b\b\b\b\b\b\b\b\b\b\b\b\b\b\b\b\b\b\b\b\b\b\b\b\b\b\b\b\b\b\b\b\b\b\b\b\b\b\b\b\b\b\b\b\b\r\n",
      "37/37 [==============================] - 0s 4ms/step - loss: 0.0917 - accuracy: 0.9740 - val_loss: 0.0718 - val_accuracy: 0.9706\n"
     ]
    },
    {
     "name": "stdout",
     "output_type": "stream",
     "text": [
      "Epoch 43/200\n"
     ]
    },
    {
     "name": "stdout",
     "output_type": "stream",
     "text": [
      "\r\n",
      " 1/37 [..............................] - ETA: 0s - loss: 0.1542 - accuracy: 0.9375"
     ]
    },
    {
     "name": "stdout",
     "output_type": "stream",
     "text": [
      "\b\b\b\b\b\b\b\b\b\b\b\b\b\b\b\b\b\b\b\b\b\b\b\b\b\b\b\b\b\b\b\b\b\b\b\b\b\b\b\b\b\b\b\b\b\b\b\b\b\b\b\b\b\b\b\b\b\b\b\b\b\b\b\b\b\b\b\b\b\b\b\b\b\b\b\b\b\b\b\b\b\b\r\n",
      "20/37 [===============>..............] - ETA: 0s - loss: 0.1172 - accuracy: 0.9531"
     ]
    },
    {
     "name": "stdout",
     "output_type": "stream",
     "text": [
      "\n",
      "Epoch 43: val_accuracy did not improve from 0.97059\n"
     ]
    },
    {
     "name": "stdout",
     "output_type": "stream",
     "text": [
      "\b\b\b\b\b\b\b\b\b\b\b\b\b\b\b\b\b\b\b\b\b\b\b\b\b\b\b\b\b\b\b\b\b\b\b\b\b\b\b\b\b\b\b\b\b\b\b\b\b\b\b\b\b\b\b\b\b\b\b\b\b\b\b\b\b\b\b\b\b\b\b\b\b\b\b\b\b\b\b\b\b\b\r\n",
      "37/37 [==============================] - 0s 4ms/step - loss: 0.1225 - accuracy: 0.9516 - val_loss: 0.0663 - val_accuracy: 0.9706\n"
     ]
    },
    {
     "name": "stdout",
     "output_type": "stream",
     "text": [
      "Epoch 44/200\n"
     ]
    },
    {
     "name": "stdout",
     "output_type": "stream",
     "text": [
      "\r\n",
      " 1/37 [..............................] - ETA: 0s - loss: 0.0445 - accuracy: 1.0000"
     ]
    },
    {
     "name": "stdout",
     "output_type": "stream",
     "text": [
      "\b\b\b\b\b\b\b\b\b\b\b\b\b\b\b\b\b\b\b\b\b\b\b\b\b\b\b\b\b\b\b\b\b\b\b\b\b\b\b\b\b\b\b\b\b\b\b\b\b\b\b\b\b\b\b\b\b\b\b\b\b\b\b\b\b\b\b\b\b\b\b\b\b\b\b\b\b\b\b\b\b\b\r\n",
      "21/37 [================>.............] - ETA: 0s - loss: 0.0960 - accuracy: 0.9673"
     ]
    },
    {
     "name": "stdout",
     "output_type": "stream",
     "text": [
      "\n",
      "Epoch 44: val_accuracy did not improve from 0.97059\n"
     ]
    },
    {
     "name": "stdout",
     "output_type": "stream",
     "text": [
      "\b\b\b\b\b\b\b\b\b\b\b\b\b\b\b\b\b\b\b\b\b\b\b\b\b\b\b\b\b\b\b\b\b\b\b\b\b\b\b\b\b\b\b\b\b\b\b\b\b\b\b\b\b\b\b\b\b\b\b\b\b\b\b\b\b\b\b\b\b\b\b\b\b\b\b\b\b\b\b\b\b\b\r\n",
      "37/37 [==============================] - 0s 4ms/step - loss: 0.1004 - accuracy: 0.9619 - val_loss: 0.0653 - val_accuracy: 0.9706\n"
     ]
    },
    {
     "name": "stdout",
     "output_type": "stream",
     "text": [
      "Epoch 45/200\n"
     ]
    },
    {
     "name": "stdout",
     "output_type": "stream",
     "text": [
      "\r\n",
      " 1/37 [..............................] - ETA: 0s - loss: 0.3105 - accuracy: 0.8125"
     ]
    },
    {
     "name": "stdout",
     "output_type": "stream",
     "text": [
      "\b\b\b\b\b\b\b\b\b\b\b\b\b\b\b\b\b\b\b\b\b\b\b\b\b\b\b\b\b\b\b\b\b\b\b\b\b\b\b\b\b\b\b\b\b\b\b\b\b\b\b\b\b\b\b\b\b\b\b\b\b\b\b\b\b\b\b\b\b\b\b\b\b\b\b\b\b\b\b\b\b\b\r\n",
      "20/37 [===============>..............] - ETA: 0s - loss: 0.1039 - accuracy: 0.9719"
     ]
    },
    {
     "name": "stdout",
     "output_type": "stream",
     "text": [
      "\n",
      "Epoch 45: val_accuracy did not improve from 0.97059\n"
     ]
    },
    {
     "name": "stdout",
     "output_type": "stream",
     "text": [
      "\b\b\b\b\b\b\b\b\b\b\b\b\b\b\b\b\b\b\b\b\b\b\b\b\b\b\b\b\b\b\b\b\b\b\b\b\b\b\b\b\b\b\b\b\b\b\b\b\b\b\b\b\b\b\b\b\b\b\b\b\b\b\b\b\b\b\b\b\b\b\b\b\b\b\b\b\b\b\b\b\b\b\r\n",
      "37/37 [==============================] - 0s 4ms/step - loss: 0.1053 - accuracy: 0.9740 - val_loss: 0.0673 - val_accuracy: 0.9706\n"
     ]
    }
   ],
   "source": [
    "model.compile(\n",
    "    optimizer='adam',\n",
    "    loss='categorical_crossentropy',\n",
    "    metrics=['accuracy']\n",
    ")\n",
    "\n",
    "# Add a checkpoint callback to store the checkpoint that has the highest\n",
    "# validation accuracy.\n",
    "checkpoint_path = \"weights.best.hdf5\"\n",
    "checkpoint = keras.callbacks.ModelCheckpoint(checkpoint_path,\n",
    "                             monitor='val_accuracy',\n",
    "                             verbose=1,\n",
    "                             save_best_only=True,\n",
    "                             mode='max')\n",
    "earlystopping = keras.callbacks.EarlyStopping(monitor='val_accuracy', \n",
    "                                              patience=20)\n",
    "\n",
    "# Start training\n",
    "history = model.fit(X_train, y_train,\n",
    "                    epochs=200,\n",
    "                    batch_size=16,\n",
    "                    validation_data=(X_val, y_val),\n",
    "                    callbacks=[checkpoint, earlystopping])"
   ]
  },
  {
   "cell_type": "code",
   "execution_count": 22,
   "metadata": {
    "execution": {
     "iopub.execute_input": "2022-10-20T11:14:12.186445Z",
     "iopub.status.busy": "2022-10-20T11:14:12.185916Z",
     "iopub.status.idle": "2022-10-20T11:14:12.397158Z",
     "shell.execute_reply": "2022-10-20T11:14:12.396548Z"
    },
    "id": "pNVqmd2JO6Rp"
   },
   "outputs": [
    {
     "data": {
      "image/png": "[encoded data removed]",
      "text/plain": [
       "<Figure size 640x480 with 1 Axes>"
      ]
     },
     "metadata": {},
     "output_type": "display_data"
    }
   ],
   "source": [
    "# Visualize the training history to see whether you're overfitting.\n",
    "plt.plot(history.history['accuracy'])\n",
    "plt.plot(history.history['val_accuracy'])\n",
    "plt.title('Model accuracy')\n",
    "plt.ylabel('accuracy')\n",
    "plt.xlabel('epoch')\n",
    "plt.legend(['TRAIN', 'VAL'], loc='lower right')\n",
    "plt.show()"
   ]
  },
  {
   "cell_type": "code",
   "execution_count": 23,
   "metadata": {
    "execution": {
     "iopub.execute_input": "2022-10-20T11:14:12.400872Z",
     "iopub.status.busy": "2022-10-20T11:14:12.400345Z",
     "iopub.status.idle": "2022-10-20T11:14:12.506294Z",
     "shell.execute_reply": "2022-10-20T11:14:12.505604Z"
    },
    "id": "m_byMBVQgyQm"
   },
   "outputs": [
    {
     "name": "stdout",
     "output_type": "stream",
     "text": [
      "\r\n",
      " 1/14 [=>............................] - ETA: 0s - loss: 0.0344 - accuracy: 1.0000"
     ]
    },
    {
     "name": "stdout",
     "output_type": "stream",
     "text": [
      "\b\b\b\b\b\b\b\b\b\b\b\b\b\b\b\b\b\b\b\b\b\b\b\b\b\b\b\b\b\b\b\b\b\b\b\b\b\b\b\b\b\b\b\b\b\b\b\b\b\b\b\b\b\b\b\b\b\b\b\b\b\b\b\b\b\b\b\b\b\b\b\b\b\b\b\b\b\b\b\b\b\b\r\n",
      "14/14 [==============================] - 0s 2ms/step - loss: 0.0424 - accuracy: 0.9906\n"
     ]
    }
   ],
   "source": [
    "# Evaluate the model using the TEST dataset\n",
    "loss, accuracy = model.evaluate(X_test, y_test)"
   ]
  },
  {
   "cell_type": "code",
   "execution_count": 24,
   "metadata": {
    "execution": {
     "iopub.execute_input": "2022-10-20T11:14:12.510387Z",
     "iopub.status.busy": "2022-10-20T11:14:12.509761Z",
     "iopub.status.idle": "2022-10-20T11:14:12.990994Z",
     "shell.execute_reply": "2022-10-20T11:14:12.990287Z"
    },
    "id": "CJuVw7gygyyd"
   },
   "outputs": [
    {
     "name": "stdout",
     "output_type": "stream",
     "text": [
      "\r\n",
      " 1/14 [=>............................] - ETA: 2s"
     ]
    },
    {
     "name": "stdout",
     "output_type": "stream",
     "text": [
      "\b\b\b\b\b\b\b\b\b\b\b\b\b\b\b\b\b\b\b\b\b\b\b\b\b\b\b\b\b\b\b\b\b\b\b\b\b\b\b\b\b\b\b\b\b\b\b\b\r\n",
      "14/14 [==============================] - 0s 2ms/step\n"
     ]
    },
    {
     "name": "stdout",
     "output_type": "stream",
     "text": [
      "Confusion matrix, without normalization\n",
      "\n",
      "Classification Report:\n",
      "               precision    recall  f1-score   support\n",
      "\n",
      "       chair       0.98      1.00      0.99        84\n",
      "       cobra       0.99      1.00      0.99        93\n",
      "         dog       0.99      1.00      0.99        84\n",
      "        tree       1.00      1.00      1.00        96\n",
      "     warrior       1.00      0.94      0.97        68\n",
      "\n",
      "    accuracy                           0.99       425\n",
      "   macro avg       0.99      0.99      0.99       425\n",
      "weighted avg       0.99      0.99      0.99       425\n",
      "\n"
     ]
    },
    {
     "data": {
      "image/png": "[encoded data removed]",
      "text/plain": [
       "<Figure size 640x480 with 2 Axes>"
      ]
     },
     "metadata": {},
     "output_type": "display_data"
    }
   ],
   "source": [
    "def plot_confusion_matrix(cm, classes,\n",
    "                          normalize=False,\n",
    "                          title='Confusion matrix',\n",
    "                          cmap=plt.cm.Blues):\n",
    "  \"\"\"Plots the confusion matrix.\"\"\"\n",
    "  if normalize:\n",
    "    cm = cm.astype('float') / cm.sum(axis=1)[:, np.newaxis]\n",
    "    print(\"Normalized confusion matrix\")\n",
    "  else:\n",
    "    print('Confusion matrix, without normalization')\n",
    "\n",
    "  plt.imshow(cm, interpolation='nearest', cmap=cmap)\n",
    "  plt.title(title)\n",
    "  plt.colorbar()\n",
    "  tick_marks = np.arange(len(classes))\n",
    "  plt.xticks(tick_marks, classes, rotation=55)\n",
    "  plt.yticks(tick_marks, classes)\n",
    "  fmt = '.2f' if normalize else 'd'\n",
    "  thresh = cm.max() / 2.\n",
    "  for i, j in itertools.product(range(cm.shape[0]), range(cm.shape[1])):\n",
    "    plt.text(j, i, format(cm[i, j], fmt),\n",
    "              horizontalalignment=\"center\",\n",
    "              color=\"white\" if cm[i, j] > thresh else \"black\")\n",
    "\n",
    "  plt.ylabel('True label')\n",
    "  plt.xlabel('Predicted label')\n",
    "  plt.tight_layout()\n",
    "\n",
    "\n",
    "y_pred = model.predict(X_test)\n",
    "\n",
    "# Convert the prediction result to class name\n",
    "y_pred_label = [class_names[i] for i in np.argmax(y_pred, axis=1)]\n",
    "y_true_label = [class_names[i] for i in np.argmax(y_test, axis=1)]\n",
    "\n",
    "\n",
    "cm = confusion_matrix(np.argmax(y_test, axis=1), np.argmax(y_pred, axis=1))\n",
    "plot_confusion_matrix(cm,\n",
    "                      class_names,\n",
    "                      title ='Confusion Matrix of Pose Classification Model')\n",
    "\n",
    "# Print the classification report\n",
    "print('\\nClassification Report:\\n', classification_report(y_true_label,\n",
    "                                                          y_pred_label))"
   ]
  }
 ],
 "metadata": {
  "colab": {
   "collapsed_sections": [],
   "name": "pose_classification.ipynb",
   "private_outputs": true,
   "provenance": [
    {
     "file_id": "1DghVqExBLSe8zgRaxRSxU04WGmGDM1L-",
     "timestamp": 1635321811242
    },
    {
     "file_id": "https://github.com/tensorflow/tensorflow/blob/master/tensorflow/lite/g3doc/tutorials/pose_classification.ipynb",
     "timestamp": 1635313965008
    }
   ],
   "toc_visible": true
  },
  "kernelspec": {
   "display_name": "Python 3",
   "name": "python3"
  },
  "language_info": {
   "codemirror_mode": {
    "name": "ipython",
    "version": 3
   },
   "file_extension": ".py",
   "mimetype": "text/x-python",
   "name": "python",
   "nbconvert_exporter": "python",
   "pygments_lexer": "ipython3",
   "version": "3.7.9"
  }
 },
 "nbformat": 4,
 "nbformat_minor": 0
}
